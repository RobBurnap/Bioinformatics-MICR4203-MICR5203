{
  "cells": [
    {
      "cell_type": "markdown",
      "metadata": {
        "id": "view-in-github",
        "colab_type": "text"
      },
      "source": [
        "<a href=\"https://colab.research.google.com/github/RobBurnap/Bioinformatics-MICR4203-MICR5203/blob/main/notebooks/Species_Tree_Diversity_v1.ipynb\" target=\"_parent\"><img src=\"https://colab.research.google.com/assets/colab-badge.svg\" alt=\"Open In Colab\"/></a>"
      ]
    },
    {
      "cell_type": "markdown",
      "id": "275544ee",
      "metadata": {
        "id": "275544ee"
      },
      "source": [
        "\n",
        "# BIOINFO4/5203 —\n",
        "species diveristy:"
      ]
    },
    {
      "cell_type": "markdown",
      "source": [
        "##A. Mount Google Drive, Import Coding Libraries Necessary for Running Subsequent Code"
      ],
      "metadata": {
        "id": "fU6YPxFnnl1Y"
      },
      "id": "fU6YPxFnnl1Y"
    },
    {
      "cell_type": "code",
      "execution_count": 1,
      "id": "269c6b87",
      "metadata": {
        "colab": {
          "base_uri": "https://localhost:8080/"
        },
        "id": "269c6b87",
        "outputId": "f9e00deb-ad6d-4c99-eff9-72e511788a17"
      },
      "outputs": [
        {
          "output_type": "stream",
          "name": "stdout",
          "text": [
            "\u001b[?25l   \u001b[90m━━━━━━━━━━━━━━━━━━━━━━━━━━━━━━━━━━━━━━━━\u001b[0m \u001b[32m0.0/3.3 MB\u001b[0m \u001b[31m?\u001b[0m eta \u001b[36m-:--:--\u001b[0m\r\u001b[2K   \u001b[91m━━━━━━━━━━━\u001b[0m\u001b[90m╺\u001b[0m\u001b[90m━━━━━━━━━━━━━━━━━━━━━━━━━━━━\u001b[0m \u001b[32m0.9/3.3 MB\u001b[0m \u001b[31m26.6 MB/s\u001b[0m eta \u001b[36m0:00:01\u001b[0m\r\u001b[2K   \u001b[91m━━━━━━━━━━━━━━━━━━━━━━━━━━━━━━━━━━━━━━━\u001b[0m\u001b[91m╸\u001b[0m \u001b[32m3.3/3.3 MB\u001b[0m \u001b[31m56.7 MB/s\u001b[0m eta \u001b[36m0:00:01\u001b[0m\r\u001b[2K   \u001b[90m━━━━━━━━━━━━━━━━━━━━━━━━━━━━━━━━━━━━━━━━\u001b[0m \u001b[32m3.3/3.3 MB\u001b[0m \u001b[31m32.2 MB/s\u001b[0m eta \u001b[36m0:00:00\u001b[0m\n",
            "\u001b[?25hMounted at /content/drive\n",
            "✅ Dependencies installed & Drive mounted.\n"
          ]
        }
      ],
      "source": [
        "\n",
        "# Install FIRST, then import\n",
        "%pip install -q biopython       # Install the Biopython package quietly (-q suppresses most output) so we can work with biological sequence files\n",
        "\n",
        "from google.colab import drive  # Import the module that lets Colab interact with Google Drive\n",
        "drive.mount('/content/drive')   # Mount your Google Drive so it appears in Colab's file system under /content/drive\n",
        "\n",
        "import os, pandas as pd          # Import 'os' for file/directory operations, and pandas for working with data tables\n",
        "from Bio import SeqIO            # Import SeqIO from Biopython for reading/writing biological sequence files (FASTA, GenBank, etc.)\n",
        "import matplotlib.pyplot as plt  # Import Matplotlib's plotting library to create figures and graphs\n",
        "\n",
        "print(\"✅ Dependencies installed & Drive mounted.\")\n"
      ]
    },
    {
      "cell_type": "markdown",
      "id": "42fa44d1",
      "metadata": {
        "id": "42fa44d1"
      },
      "source": [
        "\n",
        "## B. Course folders: Define the course folders for places to load data to be processed and output to be saved\n",
        "\n",
        "Edit only `LECTURE_CODE` and `TOPIC` if needed. All inputs will live in `Data/LECTURE_TOPIC` and outputs in `Outputs/LECTURE_TOPIC`.\n"
      ]
    },
    {
      "cell_type": "code",
      "execution_count": 2,
      "id": "66b0e9d7",
      "metadata": {
        "colab": {
          "base_uri": "https://localhost:8080/"
        },
        "id": "66b0e9d7",
        "outputId": "273c0df6-9d99-486b-e61b-0a01f81bfc4a"
      },
      "outputs": [
        {
          "output_type": "stream",
          "name": "stdout",
          "text": [
            "📁 COURSE_DIR : /content/drive/MyDrive/Research/Gunner_Collaboration\n",
            "📁 DATA_DIR   : /content/drive/MyDrive/Research/Gunner_Collaboration/Data/BLASTp_taxon-directed\n",
            "📁 OUTPUT_DIR : /content/drive/MyDrive/Research/Gunner_Collaboration/Outputs/BLASTp_taxon-directed\n"
          ]
        }
      ],
      "source": [
        "\n",
        "# --- Course folder config (customize LECTURE_CODE/TOPIC only) ---\n",
        "COURSE_DIR   = \"/content/drive/MyDrive/Research/Gunner_Collaboration\"\n",
        "LECTURE_CODE = \"BLASTp\"            # change per week (e.g., L02, L03, ...)\n",
        "TOPIC        = \"taxon-directed\"    # short slug for the exercise\n",
        "\n",
        "# Derived paths (do not change)\n",
        "DATA_DIR   = f\"{COURSE_DIR}/Data/{LECTURE_CODE}_{TOPIC}\"\n",
        "OUTPUT_DIR = f\"{COURSE_DIR}/Outputs/{LECTURE_CODE}_{TOPIC}\"\n",
        "\n",
        "# Create folder structure if missing\n",
        "for p in [f\"{COURSE_DIR}/Data\", f\"{COURSE_DIR}/Outputs\", f\"{COURSE_DIR}/Notebooks\", DATA_DIR, OUTPUT_DIR]:\n",
        "    os.makedirs(p, exist_ok=True)\n",
        "\n",
        "print(\"📁 COURSE_DIR :\", COURSE_DIR)\n",
        "print(\"📁 DATA_DIR   :\", DATA_DIR)\n",
        "print(\"📁 OUTPUT_DIR :\", OUTPUT_DIR)\n"
      ]
    },
    {
      "cell_type": "markdown",
      "source": [
        "##C.\n",
        "\n"
      ],
      "metadata": {
        "id": "ITJ9NS_HlbIU"
      },
      "id": "ITJ9NS_HlbIU"
    },
    {
      "cell_type": "markdown",
      "source": [
        " multi-FASTA of top hits per TaxID (one or more sequences per taxon). The cell below:\n",
        "\t•\tuses your existing folders (Data/L0-species_diversity for input; writes to the same folder unless OUTPUT_DIR is already set),\n",
        "\t•\treads query_proteins.fasta and taxids.txt,\n",
        "\t•\tfor each TaxID, runs a separate BLAST restricted to that taxon (txid####[ORGN]), so we can attribute hits unambiguously,\n",
        "\t•\tgrabs the top N accessions from each BLAST,\n",
        "\t•\tfetches their protein FASTA sequences,\n",
        "\t•\twrites:\n",
        "\t•\tper_taxid_top_hits.fasta (all sequences, grouped by taxid in headers),\n",
        "\t•\tper_taxid_hits.tsv (who came from which taxid, evalue, %id, etc.),\n",
        "\t•\toptional one FASTA per taxid (toggle with WRITE_SPLIT_FASTA)."
      ],
      "metadata": {
        "id": "ADIsRNvmtr3K"
      },
      "id": "ADIsRNvmtr3K"
    },
    {
      "cell_type": "code",
      "source": [],
      "metadata": {
        "id": "ctgn3Y6EpkXa"
      },
      "id": "ctgn3Y6EpkXa",
      "execution_count": null,
      "outputs": []
    },
    {
      "cell_type": "code",
      "source": [
        "# --- BLAST (per TaxID) -> collect top protein hits -> write multi-FASTA + TSV (adaptive search) ---\n",
        "from Bio import Entrez, SeqIO\n",
        "from Bio.Blast import NCBIWWW, NCBIXML\n",
        "from pathlib import Path\n",
        "import io, csv, re, time, sys\n",
        "\n",
        "# ==== required ====\n",
        "Entrez.email = \"you@university.edu\"   # <-- set your email\n",
        "\n",
        "# ==== knobs you can tweak ====\n",
        "TOP_HITS_PER_TAXID = 2\n",
        "EVALUE_STEPS       = [1e-5, 1e-2, 1.0]     # strict -> moderate -> permissive\n",
        "HITLIST_SIZE       = max(200, TOP_HITS_PER_TAXID*10)\n",
        "WRITE_SPLIT_FASTA  = False\n",
        "SLEEP_BETWEEN_CALLS = 0.3\n",
        "FORCE_MODE = 'auto'                        # 'auto' | 'blastp' | 'blastx'\n",
        "\n",
        "# ==== paths ====\n",
        "if 'DATA_DIR' in globals(): DATA_DIR = Path(DATA_DIR)\n",
        "else: DATA_DIR = Path(\"/content/drive/MyDrive/Teaching/BIOINFO4-5203-F25/Data/L0-species_diversity\")\n",
        "\n",
        "if 'OUTPUT_DIR' in globals(): OUTPUT_DIR = Path(OUTPUT_DIR)\n",
        "else: OUTPUT_DIR = DATA_DIR\n",
        "OUTPUT_DIR.mkdir(parents=True, exist_ok=True)\n",
        "\n",
        "PROT_FASTA = DATA_DIR / \"query_protein.fasta\"\n",
        "NUC_FASTA  = DATA_DIR / \"query.fasta\"\n",
        "TAXIDS_TXT = DATA_DIR / \"taxids.txt\"\n",
        "\n",
        "# ---- basic file checks ----\n",
        "if not (PROT_FASTA.exists() or NUC_FASTA.exists()):\n",
        "    raise FileNotFoundError(f\"Neither {PROT_FASTA} nor {NUC_FASTA} found in {DATA_DIR}.\")\n",
        "if not TAXIDS_TXT.exists():\n",
        "    raise FileNotFoundError(f\"{TAXIDS_TXT} not found in {DATA_DIR}.\")\n",
        "\n",
        "# ==== helpers: accession parsing & normalization ====\n",
        "def extract_accession(hit_id, hit_def, accession_attr):\n",
        "    if accession_attr: return accession_attr.strip()\n",
        "    for field in (hit_id, hit_def):\n",
        "        m = re.search(r\"([A-Z]{1,5}_?\\d+(?:\\.\\d+)?)\", field or \"\")\n",
        "        if m: return m.group(1)\n",
        "    return (hit_id or \"unknown\").strip()\n",
        "\n",
        "def _norm_keys(acc_token: str):\n",
        "    acc_token = acc_token.strip()\n",
        "    base = acc_token.split(\".\", 1)[0]\n",
        "    return {acc_token, base} if \".\" in acc_token else {acc_token, f\"{base}.1\"}\n",
        "\n",
        "def fetch_protein_fasta(accessions):\n",
        "    out = {}\n",
        "    batch = list({a for a in accessions if a and a != \"unknown\"})\n",
        "    while batch:\n",
        "        chunk = batch[:50]; batch = batch[50:]\n",
        "        try:\n",
        "            h = Entrez.efetch(db=\"protein\", id=\",\".join(chunk), rettype=\"fasta\", retmode=\"text\")\n",
        "            txt = h.read(); h.close()\n",
        "            parts = [t for t in txt.strip().split(\">\") if t]\n",
        "            for rec_txt in parts:\n",
        "                header, *seq_lines = rec_txt.splitlines()\n",
        "                token = header.split()[0]\n",
        "                fasta_txt = \">\" + header + \"\\n\" + \"\\n\".join(seq_lines) + \"\\n\"\n",
        "                for k in _norm_keys(token):\n",
        "                    out[k] = fasta_txt\n",
        "        except Exception as e:\n",
        "            sys.stderr.write(f\"[warn] efetch failed for {chunk}: {e}\\n\")\n",
        "        time.sleep(SLEEP_BETWEEN_CALLS)\n",
        "    return out\n",
        "\n",
        "# ==== robust query loader/detector ====\n",
        "DNA_ALPHABET = set(\"ACGTNUWSMKRYBDHV-\")\n",
        "def detect_is_protein(seq_upper: str) -> bool:\n",
        "    letters = [c for c in seq_upper if c.isalpha() or c == '*']\n",
        "    return any((c not in DNA_ALPHABET) for c in letters)\n",
        "\n",
        "def load_query():\n",
        "    if PROT_FASTA.exists():\n",
        "        rec = next(SeqIO.parse(str(PROT_FASTA), \"fasta\"))\n",
        "        seq = str(rec.seq).upper()\n",
        "        decided = 'blastp' if detect_is_protein(seq) else 'blastx'\n",
        "        if FORCE_MODE in ('blastp','blastx'): decided = FORCE_MODE\n",
        "        return decided, seq.replace(\"*\",\"\"), f\"{PROT_FASTA.name}:{rec.id}\"\n",
        "    rec = next(SeqIO.parse(str(NUC_FASTA), \"fasta\"))\n",
        "    seq = str(rec.seq).upper()\n",
        "    decided = 'blastp' if detect_is_protein(seq) else 'blastx'\n",
        "    if FORCE_MODE in ('blastp','blastx'): decided = FORCE_MODE\n",
        "    if decided == 'blastp' and NUC_FASTA.name == \"query.fasta\":\n",
        "        print(\"⚠️  Detected protein sequence in 'query.fasta'; using BLASTP.\")\n",
        "    return decided, seq.replace(\"*\",\"\"), f\"{NUC_FASTA.name}:{rec.id}\"\n",
        "\n",
        "mode, query_seq, query_label = load_query()\n",
        "print(f\"📄 Query source: {query_label}\")\n",
        "print(f\"🧪 Mode chosen: {mode.upper()} vs nr  | length={len(query_seq)}\")\n",
        "\n",
        "# ==== load TaxIDs ====\n",
        "taxids = [t.strip() for t in TAXIDS_TXT.read_text().splitlines() if t.strip().isdigit()]\n",
        "if not taxids: raise ValueError(\"taxids.txt is empty or contains no numeric TaxIDs.\")\n",
        "print(f\"🧬 Loaded {len(taxids)} TaxIDs\")\n",
        "\n",
        "# ==== ADAPTIVE BLAST ====\n",
        "def run_single_blast_adaptive(seq, taxid, program=\"blastp\",\n",
        "                              hitlist=HITLIST_SIZE, matrix=\"BLOSUM62\"):\n",
        "    q = f\"txid{taxid}[ORGN]\"\n",
        "    last_xml = None\n",
        "    last_rec = None\n",
        "    for e in EVALUE_STEPS:\n",
        "        print(f\"⏳ {program.upper()} vs nr | taxid={taxid} | E={e} | hits={hitlist} | matrix={matrix}\\n   ENTREZ_QUERY: {q}\")\n",
        "        h = NCBIWWW.qblast(program=program, database=\"nr\", sequence=seq,\n",
        "                           expect=e, entrez_query=q,\n",
        "                           hitlist_size=hitlist, descriptions=hitlist,\n",
        "                           alignments=hitlist, matrix_name=matrix)\n",
        "        xml = h.read(); h.close()\n",
        "        try:\n",
        "            rec = NCBIXML.read(io.StringIO(xml))\n",
        "        except Exception:\n",
        "            # sometimes the server returns a multi-record XML; parse first record\n",
        "            parser = NCBIXML.parse(io.StringIO(xml))\n",
        "            rec = next(parser, None)\n",
        "        last_xml, last_rec = xml, rec\n",
        "        if rec and rec.alignments:\n",
        "            return rec, xml, e, matrix\n",
        "        # relax the matrix once when e == 1e-2 and still no hits\n",
        "        if e == 1e-2 and matrix == \"BLOSUM62\":\n",
        "            matrix = \"BLOSUM45\"\n",
        "    return last_rec, last_xml, e, matrix\n",
        "\n",
        "# ==== main loop -> XML + top hits -> fetch FASTA ====\n",
        "all_rows = []\n",
        "per_taxid_fastas = {}\n",
        "xml_paths = []\n",
        "\n",
        "for i, tid in enumerate(taxids, 1):\n",
        "    try:\n",
        "        record, xml, e_used, m_used = run_single_blast_adaptive(\n",
        "            query_seq, tid, program=(\"blastp\" if mode==\"blastp\" else \"blastx\"))\n",
        "        print(f\"   ↳ used E={e_used}, matrix={m_used}\")\n",
        "        xml_file = OUTPUT_DIR / f\"{mode}_nr_taxid{tid}.xml\"\n",
        "        xml_file.write_text(xml); xml_paths.append(xml_file)\n",
        "\n",
        "        if not record or not record.alignments:\n",
        "            print(f\"— No hits for taxid {tid}\")\n",
        "            continue\n",
        "\n",
        "        hsps = []\n",
        "        for aln in record.alignments:\n",
        "            best = sorted(aln.hsps, key=lambda h: (h.expect, -h.identities))[0]\n",
        "            acc = extract_accession(aln.hit_id, aln.hit_def, getattr(aln, \"accession\", None))\n",
        "            pct_id = 100.0 * best.identities / best.align_length if best.align_length else 0.0\n",
        "            hsps.append((aln, best, acc, pct_id))\n",
        "        hsps.sort(key=lambda t: (t[1].expect, -t[3]))\n",
        "        keep = hsps[:TOP_HITS_PER_TAXID]\n",
        "\n",
        "        accs = [acc for _,_,acc,_ in keep]\n",
        "        acc_to_fa = fetch_protein_fasta(accs)\n",
        "\n",
        "        per_taxid_fastas.setdefault(tid, [])\n",
        "        kept_now = 0\n",
        "        for aln, best, acc, pct in keep:\n",
        "            fa = None\n",
        "            for k in _norm_keys(acc):\n",
        "                fa = acc_to_fa.get(k)\n",
        "                if fa: break\n",
        "            if not fa:\n",
        "                sys.stderr.write(f\"[miss] No FASTA for {acc} (taxid {tid})\\n\")\n",
        "                continue\n",
        "            lines = fa.strip().splitlines()\n",
        "            header = lines[0][1:]\n",
        "            seq = \"\\n\".join(lines[1:])\n",
        "            new_header = f\">taxid:{tid}|acc:{acc}|e:{best.expect:.2e}|pid:{pct:.2f}|len:{best.align_length} {header}\"\n",
        "            per_taxid_fastas[tid].append(new_header + \"\\n\" + seq + \"\\n\"); kept_now += 1\n",
        "\n",
        "            all_rows.append([\n",
        "                tid, acc, aln.title, aln.length, best.expect,\n",
        "                best.identities, best.align_length, round(pct,2),\n",
        "                min(best.query_start,best.query_end), max(best.query_start,best.query_end),\n",
        "                min(best.sbjct_start,best.sbjct_end), max(best.sbjct_start,best.sbjct_end)\n",
        "            ])\n",
        "        print(f\"✅ taxid {tid}: kept {kept_now} sequences\")\n",
        "    except Exception as e:\n",
        "        print(f\"⚠️ taxid {tid} failed: {e}\")\n",
        "    time.sleep(SLEEP_BETWEEN_CALLS)\n",
        "\n",
        "# ==== write combined multi-FASTA + per-taxid FASTAs ====\n",
        "multi_fa = OUTPUT_DIR / \"per_taxid_top_hits.fasta\"\n",
        "with open(multi_fa, \"w\") as fh:\n",
        "    for tid in taxids:\n",
        "        for fa in per_taxid_fastas.get(tid, []):\n",
        "            fh.write(fa)\n",
        "print(f\"💾 Multi-FASTA: {multi_fa}\")\n",
        "\n",
        "if WRITE_SPLIT_FASTA:\n",
        "    for tid, fas in per_taxid_fastas.items():\n",
        "        p = OUTPUT_DIR / f\"taxid_{tid}_top_hits.fasta\"\n",
        "        with open(p, \"w\") as fh:\n",
        "            for fa in fas: fh.write(fa)\n",
        "    print(\"💾 Also wrote per-taxid FASTAs\")\n",
        "\n",
        "# ==== write table ====\n",
        "tsv = OUTPUT_DIR / \"per_taxid_hits.tsv\"\n",
        "with open(tsv, \"w\", newline=\"\") as f:\n",
        "    w = csv.writer(f, delimiter=\"\\t\")\n",
        "    w.writerow([\"taxid\",\"accession\",\"title\",\"subject_length\",\"evalue\",\"identities\",\"align_len\",\"pct_identity\",\"q_start\",\"q_end\",\"s_start\",\"s_end\"])\n",
        "    w.writerows(all_rows)\n",
        "print(f\"📑 Table: {tsv}\")\n",
        "print(f\"🗂 XML files saved: {len(xml_paths)}\")"
      ],
      "metadata": {
        "colab": {
          "base_uri": "https://localhost:8080/"
        },
        "id": "tSGXBMA5tc72",
        "outputId": "29ad5551-40a9-452f-8d9e-00fd7b6c7a46"
      },
      "id": "tSGXBMA5tc72",
      "execution_count": null,
      "outputs": [
        {
          "output_type": "stream",
          "name": "stdout",
          "text": [
            "📄 Query source: query_protein.fasta:sp|Q3AWJ7|NU2C_SYNS9\n",
            "🧪 Mode chosen: BLASTP vs nr  | length=523\n",
            "🧬 Loaded 110 TaxIDs\n",
            "⏳ BLASTP vs nr | taxid=543639 | E=1e-05 | hits=200 | matrix=BLOSUM62\n",
            "   ENTREZ_QUERY: txid543639[ORGN]\n"
          ]
        }
      ]
    },
    {
      "cell_type": "markdown",
      "source": [
        "Extracts fasta sequences from XML files"
      ],
      "metadata": {
        "id": "cLZJwzdZF3aF"
      },
      "id": "cLZJwzdZF3aF"
    },
    {
      "cell_type": "code",
      "source": [
        "from Bio.Blast import NCBIXML\n",
        "from Bio import Entrez\n",
        "from pathlib import Path\n",
        "import re, time\n",
        "\n",
        "# REQUIRED\n",
        "Entrez.email = \"your_email@university.edu\"   # <-- change me\n",
        "# Entrez.api_key = \"YOUR_NCBI_API_KEY\"       # optional but helpful\n",
        "\n",
        "# Paths (match your screenshots)\n",
        "# DATA_DIR  = Path(\"/content/drive/MyDrive/Teaching/BIOINFO4-5203-F25/Data/L0-species_diversity\")\n",
        "# OUT_FASTA = DATA_DIR / \"blast_hits.fasta\"\n",
        "\n",
        "# Use the OUTPUT_DIR defined in the previous cell\n",
        "if 'OUTPUT_DIR' in globals():\n",
        "    OUTPUT_DIR = Path(OUTPUT_DIR)\n",
        "else:\n",
        "    # Fallback if the variable is not set\n",
        "    OUTPUT_DIR = Path(\"/content/drive/MyDrive/Teaching/BIOINFO4-5203-F25/Outputs/L0-species_diversity\")\n",
        "\n",
        "OUT_FASTA = OUTPUT_DIR / \"blast_hits.fasta\"\n",
        "\n",
        "\n",
        "# Find XML files (your files look like 'blastp_nr_taxid*.xml')\n",
        "# XMLS = sorted(DATA_DIR.glob(\"blastp_nr_taxid*.xml\"))\n",
        "# if not XMLS:\n",
        "#     XMLS = sorted(DATA_DIR.glob(\"*.xml\"))\n",
        "# assert XMLS, f\"No XML files found in {DATA_DIR}\"\n",
        "\n",
        "# Look for XML files in the OUTPUT_DIR\n",
        "XMLS = sorted(OUTPUT_DIR.glob(\"blastp_nr_taxid*.xml\"))\n",
        "if not XMLS:\n",
        "    XMLS = sorted(OUTPUT_DIR.glob(\"*.xml\")) # Fallback to any xml if specific not found\n",
        "\n",
        "assert XMLS, f\"No XML files found in {OUTPUT_DIR}\"\n",
        "\n",
        "\n",
        "MAX_HITS_PER_XML = 5     # top N alignments per XML\n",
        "BATCH = 50               # efetch batch size\n",
        "SLEEP = 0.25             # courtesy to NCBI\n",
        "\n",
        "def parse_top_accessions(xml_path, top_n=5):\n",
        "    \"\"\"Return list of accession strings from top alignments in one BLAST XML.\"\"\"\n",
        "    with open(xml_path) as h:\n",
        "        rec = NCBIXML.read(h)\n",
        "    accs = []\n",
        "    for aln in rec.alignments[:top_n]:\n",
        "        # Prefer parser's accession if available; else regex from id/def/title\n",
        "        acc = getattr(aln, \"accession\", None)\n",
        "        if not acc:\n",
        "            for field in (aln.hit_id, aln.hit_def, aln.title):\n",
        "                m = re.search(r\"([A-Z]{1,5}_?\\d+(?:\\.\\d+)?)\", field or \"\")\n",
        "                if m:\n",
        "                    acc = m.group(1); break\n",
        "        if acc:\n",
        "            accs.append(acc)\n",
        "    return accs\n",
        "\n",
        "def normalize_pair(acc):\n",
        "    \"\"\"Return (base, versioned) forms so XOB97566 and XOB97566.1 both match.\"\"\"\n",
        "    base = acc.split(\".\")[0]\n",
        "    ver  = acc if \".\" in acc else None\n",
        "    return base, ver\n",
        "\n",
        "def fetch_fasta_batched(accessions):\n",
        "    \"\"\"Fetch FASTA for a list of accessions; store under both base & version keys.\"\"\"\n",
        "    out = {}\n",
        "    accs = [a for a in set(accessions) if a]\n",
        "    for i in range(0, len(accs), BATCH):\n",
        "        chunk = accs[i:i+BATCH]\n",
        "        try:\n",
        "            handle = Entrez.efetch(db=\"protein\", id=\",\".join(chunk), rettype=\"fasta\", retmode=\"text\")\n",
        "            text = handle.read(); handle.close()\n",
        "            for block in [b for b in text.strip().split(\">\") if b]:\n",
        "                header, *seq_lines = block.splitlines()\n",
        "                header = header.strip()\n",
        "                seq = \"\\n\".join(seq_lines).strip()\n",
        "                token = header.split()[0]        # e.g., XOB97566.1\n",
        "                base = token.split(\".\")[0]\n",
        "                fasta = f\">{header}\\n{seq}\\n\"\n",
        "                out[token] = fasta\n",
        "                out[base]  = fasta\n",
        "        except Exception as e:\n",
        "            print(f\"[warn] efetch failed for {chunk}: {e}\")\n",
        "        time.sleep(SLEEP)\n",
        "    return out\n",
        "\n",
        "# --- Collect top accessions from all XMLs\n",
        "wanted = []\n",
        "for x in XMLS:\n",
        "    accs = parse_top_accessions(x, MAX_HITS_PER_XML)\n",
        "    if accs:\n",
        "        wanted.extend(accs)\n",
        "    else:\n",
        "        print(f\"— {x.name}: no alignments or no accessions parsed\")\n",
        "\n",
        "# Also include versionless forms to improve retrieval\n",
        "expanded = []\n",
        "for a in set(wanted):\n",
        "    base, ver = normalize_pair(a)\n",
        "    expanded.append(base)\n",
        "    if ver: expanded.append(ver)\n",
        "\n",
        "# --- Fetch FASTA\n",
        "acc_to_fasta = fetch_fasta_batched(expanded)\n",
        "\n",
        "# --- Write combined FASTA (keep original headers; add source xml in a comment line)\n",
        "written = 0\n",
        "with open(OUT_FASTA, \"w\") as out:\n",
        "    for x in XMLS:\n",
        "        accs = parse_top_accessions(x, MAX_HITS_PER_XML)\n",
        "        for acc in accs:\n",
        "            # try versioned, then base\n",
        "            fa = acc_to_fasta.get(acc) or acc_to_fasta.get(acc.split(\".\")[0])\n",
        "            if not fa:\n",
        "                print(f\"[miss] No FASTA for {acc} (from {x.name})\")\n",
        "                continue\n",
        "            # insert a comment line indicating source XML\n",
        "            header, *seq_lines = fa.strip().splitlines()\n",
        "            out.write(header + f\"  ; source={x.name}\\n\")\n",
        "            out.write(\"\\n\".join(seq_lines) + \"\\n\")\n",
        "            written += 1\n",
        "\n",
        "print(f\"💾 Wrote {written} sequences to {OUT_FASTA}\")"
      ],
      "metadata": {
        "colab": {
          "base_uri": "https://localhost:8080/"
        },
        "id": "8BeVaPs_kWxZ",
        "outputId": "33dd50cc-cb05-43b6-cc85-d6ed17749ad1"
      },
      "id": "8BeVaPs_kWxZ",
      "execution_count": null,
      "outputs": [
        {
          "output_type": "stream",
          "name": "stdout",
          "text": [
            "💾 Wrote 12 sequences to /content/drive/MyDrive/Teaching/BIOINFO4-5203-F25/Outputs/L0-species_diversity/blast_hits.fasta\n"
          ]
        }
      ]
    }
  ],
  "metadata": {
    "colab": {
      "provenance": [],
      "include_colab_link": true
    },
    "language_info": {
      "name": "python"
    },
    "kernelspec": {
      "name": "python3",
      "display_name": "Python 3"
    }
  },
  "nbformat": 4,
  "nbformat_minor": 5
}