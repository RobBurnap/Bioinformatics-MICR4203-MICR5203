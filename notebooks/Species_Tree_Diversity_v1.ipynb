{
  "cells": [
    {
      "cell_type": "markdown",
      "metadata": {
        "id": "view-in-github",
        "colab_type": "text"
      },
      "source": [
        "<a href=\"https://colab.research.google.com/github/RobBurnap/Bioinformatics-MICR4203-MICR5203/blob/main/notebooks/Species_Tree_Diversity_v1.ipynb\" target=\"_parent\"><img src=\"https://colab.research.google.com/assets/colab-badge.svg\" alt=\"Open In Colab\"/></a>"
      ]
    },
    {
      "cell_type": "markdown",
      "id": "275544ee",
      "metadata": {
        "id": "275544ee"
      },
      "source": [
        "\n",
        "# BIOINFO4/5203 —\n",
        "species diveristy:"
      ]
    },
    {
      "cell_type": "markdown",
      "source": [
        "##A. Mount Google Drive, Import Coding Libraries Necessary for Running Subsequent Code"
      ],
      "metadata": {
        "id": "fU6YPxFnnl1Y"
      },
      "id": "fU6YPxFnnl1Y"
    },
    {
      "cell_type": "code",
      "execution_count": 2,
      "id": "269c6b87",
      "metadata": {
        "colab": {
          "base_uri": "https://localhost:8080/"
        },
        "id": "269c6b87",
        "outputId": "68bd1761-f9eb-4012-eb39-3115dcf11f25"
      },
      "outputs": [
        {
          "output_type": "stream",
          "name": "stdout",
          "text": [
            "Mounted at /content/drive\n",
            "✅ Dependencies installed & Drive mounted.\n"
          ]
        }
      ],
      "source": [
        "\n",
        "# Install FIRST, then import\n",
        "%pip install -q biopython       # Install the Biopython package quietly (-q suppresses most output) so we can work with biological sequence files\n",
        "\n",
        "from google.colab import drive  # Import the module that lets Colab interact with Google Drive\n",
        "drive.mount('/content/drive')   # Mount your Google Drive so it appears in Colab's file system under /content/drive\n",
        "\n",
        "import os, pandas as pd          # Import 'os' for file/directory operations, and pandas for working with data tables\n",
        "from Bio import SeqIO            # Import SeqIO from Biopython for reading/writing biological sequence files (FASTA, GenBank, etc.)\n",
        "import matplotlib.pyplot as plt  # Import Matplotlib's plotting library to create figures and graphs\n",
        "\n",
        "print(\"✅ Dependencies installed & Drive mounted.\")\n"
      ]
    },
    {
      "cell_type": "markdown",
      "id": "42fa44d1",
      "metadata": {
        "id": "42fa44d1"
      },
      "source": [
        "\n",
        "## B. Course folders: Define the course folders for places to load data to be processed and output to be saved\n",
        "\n",
        "Edit only `LECTURE_CODE` and `TOPIC` if needed. All inputs will live in `Data/LECTURE_TOPIC` and outputs in `Outputs/LECTURE_TOPIC`.\n"
      ]
    },
    {
      "cell_type": "code",
      "execution_count": 9,
      "id": "66b0e9d7",
      "metadata": {
        "colab": {
          "base_uri": "https://localhost:8080/"
        },
        "id": "66b0e9d7",
        "outputId": "b8cb91ad-0ca2-4304-9666-3b6f13a40c43"
      },
      "outputs": [
        {
          "output_type": "stream",
          "name": "stdout",
          "text": [
            "📁 COURSE_DIR : /content/drive/MyDrive/Teaching/BIOINFO4-5203-F25\n",
            "📁 DATA_DIR   : /content/drive/MyDrive/Teaching/BIOINFO4-5203-F25/Data/L0-species_diversity\n",
            "📁 OUTPUT_DIR : /content/drive/MyDrive/Teaching/BIOINFO4-5203-F25/Outputs/L0-species_diversity\n"
          ]
        }
      ],
      "source": [
        "\n",
        "# --- Course folder config (customize LECTURE_CODE/TOPIC only) ---\n",
        "COURSE_DIR   = \"/content/drive/MyDrive/Teaching/BIOINFO4-5203-F25\"\n",
        "LECTURE_CODE = \"L0-species\"            # change per week (e.g., L02, L03, ...)\n",
        "TOPIC        = \"diversity\"    # short slug for the exercise\n",
        "\n",
        "# Derived paths (do not change)\n",
        "DATA_DIR   = f\"{COURSE_DIR}/Data/{LECTURE_CODE}_{TOPIC}\"\n",
        "OUTPUT_DIR = f\"{COURSE_DIR}/Outputs/{LECTURE_CODE}_{TOPIC}\"\n",
        "\n",
        "# Create folder structure if missing\n",
        "for p in [f\"{COURSE_DIR}/Data\", f\"{COURSE_DIR}/Outputs\", f\"{COURSE_DIR}/Notebooks\", DATA_DIR, OUTPUT_DIR]:\n",
        "    os.makedirs(p, exist_ok=True)\n",
        "\n",
        "print(\"📁 COURSE_DIR :\", COURSE_DIR)\n",
        "print(\"📁 DATA_DIR   :\", DATA_DIR)\n",
        "print(\"📁 OUTPUT_DIR :\", OUTPUT_DIR)\n"
      ]
    },
    {
      "cell_type": "markdown",
      "source": [
        "##C.\n",
        "\n"
      ],
      "metadata": {
        "id": "ITJ9NS_HlbIU"
      },
      "id": "ITJ9NS_HlbIU"
    },
    {
      "cell_type": "markdown",
      "source": [
        " multi-FASTA of top hits per TaxID (one or more sequences per taxon). The cell below:\n",
        "\t•\tuses your existing folders (Data/L0-species_diversity for input; writes to the same folder unless OUTPUT_DIR is already set),\n",
        "\t•\treads query_proteins.fasta and taxids.txt,\n",
        "\t•\tfor each TaxID, runs a separate BLAST restricted to that taxon (txid####[ORGN]), so we can attribute hits unambiguously,\n",
        "\t•\tgrabs the top N accessions from each BLAST,\n",
        "\t•\tfetches their protein FASTA sequences,\n",
        "\t•\twrites:\n",
        "\t•\tper_taxid_top_hits.fasta (all sequences, grouped by taxid in headers),\n",
        "\t•\tper_taxid_hits.tsv (who came from which taxid, evalue, %id, etc.),\n",
        "\t•\toptional one FASTA per taxid (toggle with WRITE_SPLIT_FASTA)."
      ],
      "metadata": {
        "id": "ADIsRNvmtr3K"
      },
      "id": "ADIsRNvmtr3K"
    },
    {
      "cell_type": "code",
      "source": [
        "# --- BLAST (per TaxID) -> collect top protein hits -> write multi-FASTA + TSV ---\n",
        "from Bio import Entrez, SeqIO\n",
        "from Bio.Blast import NCBIWWW, NCBIXML\n",
        "from pathlib import Path\n",
        "import io, csv, re, time, sys\n",
        "\n",
        "# ==== config you may tweak ====\n",
        "Entrez.email = \"you@university.edu\"   # <-- REQUIRED\n",
        "# Entrez.api_key = \"YOUR_NCBI_API_KEY\"  # optional, faster/higher limits\n",
        "\n",
        "TOP_HITS_PER_TAXID = 2        # how many sequences to keep per taxid\n",
        "EVALUE              = 1e-5\n",
        "HITLIST_SIZE        = max(50, TOP_HITS_PER_TAXID*10)  # ask for more, then trim\n",
        "WRITE_SPLIT_FASTA   = False   # also write one FASTA per taxid\n",
        "SLEEP_BETWEEN_CALLS = 0.3     # be kind to NCBI :)\n",
        "\n",
        "# ==== paths (use your course vars if present) ====\n",
        "if 'DATA_DIR' in globals():\n",
        "    DATA_DIR = Path(DATA_DIR)\n",
        "else:\n",
        "    DATA_DIR = Path(\"/content/drive/MyDrive/Teaching/BIOINFO4-5203-F25/Data/L0-species_diversity\")\n",
        "\n",
        "if 'OUTPUT_DIR' in globals():\n",
        "    OUTPUT_DIR = Path(OUTPUT_DIR)\n",
        "else:\n",
        "    OUTPUT_DIR = DATA_DIR\n",
        "\n",
        "OUTPUT_DIR.mkdir(parents=True, exist_ok=True)\n",
        "\n",
        "# Files we expect from your screenshot:\n",
        "PROT_FASTA = DATA_DIR / \"query_proteins.fasta\"\n",
        "TAXIDS_TXT = DATA_DIR / \"taxids.txt\"\n",
        "\n",
        "# ==== load query; auto-detect protein vs nucleotide ====\n",
        "def load_query():\n",
        "    if PROT_FASTA.exists():\n",
        "        rec = next(SeqIO.parse(str(PROT_FASTA), \"fasta\"))\n",
        "        seq = str(rec.seq).upper().replace(\"*\",\"\")\n",
        "        letters = [c for c in seq if c.isalpha()]\n",
        "        dna_frac = sum(c in set(\"ACGTN\") for c in letters) / max(1,len(letters))\n",
        "        if dna_frac >= 0.85:\n",
        "            # looks like nucleotide despite filename; fallback to query.fasta if present\n",
        "            alt = DATA_DIR / \"query.fasta\"\n",
        "            if alt.exists():\n",
        "                r2 = next(SeqIO.parse(str(alt), \"fasta\"))\n",
        "                return (\"blastx\", str(r2.seq).upper(), f\"{alt.name}:{r2.id}\")\n",
        "            # else: we'll still do blastx on given sequence\n",
        "            return (\"blastx\", seq, f\"{PROT_FASTA.name}:{rec.id}\")\n",
        "        else:\n",
        "            return (\"blastp\", seq, f\"{PROT_FASTA.name}:{rec.id}\")\n",
        "    else:\n",
        "        # if protein file missing, try nucleotide and use blastx\n",
        "        alt = DATA_DIR / \"query.fasta\"\n",
        "        if alt.exists():\n",
        "            r2 = next(SeqIO.parse(str(alt), \"fasta\"))\n",
        "            return (\"blastx\", str(r2.seq).upper(), f\"{alt.name}:{r2.id}\")\n",
        "        raise FileNotFoundError(f\"Could not find {PROT_FASTA} or a fallback nucleotide FASTA at {DATA_DIR/'query.fasta'}\")\n",
        "\n",
        "mode, query_seq, query_label = load_query()\n",
        "print(f\"📄 Query source: {query_label}\")\n",
        "print(f\"🧪 Mode chosen: {mode.upper()} vs nr  | length={len(query_seq)}\")\n",
        "\n",
        "# ==== load TaxIDs ====\n",
        "if not TAXIDS_TXT.exists():\n",
        "    raise FileNotFoundError(f\"taxids.txt not found at {TAXIDS_TXT}\")\n",
        "taxids = [t.strip() for t in TAXIDS_TXT.read_text().splitlines() if t.strip().isdigit()]\n",
        "if not taxids:\n",
        "    raise ValueError(\"taxids.txt is empty or contains no numeric TaxIDs.\")\n",
        "print(f\"🧬 Loaded {len(taxids)} TaxIDs\")\n",
        "\n",
        "# ==== helpers ====\n",
        "def run_single_blast(seq, taxid, program=\"blastp\", evalue=EVALUE, hitlist=HITLIST_SIZE):\n",
        "    q = f\"txid{taxid}[ORGN]\"  # exact taxon; robust for BLAST\n",
        "    prev = q if len(q) < 160 else (q[:157] + \" …\")\n",
        "    print(f\"⏳ {program.upper()} vs nr | taxid={taxid} | E={evalue} | hits={hitlist}\\n   ENTREZ_QUERY: {prev}\")\n",
        "    h = NCBIWWW.qblast(program=program, database=\"nr\", sequence=seq,\n",
        "                       expect=evalue, entrez_query=q,\n",
        "                       hitlist_size=hitlist, descriptions=hitlist, alignments=hitlist)\n",
        "    xml = h.read(); h.close()\n",
        "    rec = NCBIXML.read(io.StringIO(xml))\n",
        "    return rec, xml\n",
        "\n",
        "def extract_accession(hit_id, hit_def, accession_attr):\n",
        "    if accession_attr: return accession_attr\n",
        "    m = re.search(r\"([A-Z]{1,3}_?\\d+\\.\\d+)\", hit_id or \"\")\n",
        "    if m: return m.group(1)\n",
        "    m = re.search(r\"([A-Z]{1,3}_?\\d+\\.\\d+)\", hit_def or \"\")\n",
        "    if m: return m.group(1)\n",
        "    return (hit_id or \"unknown\")\n",
        "\n",
        "def fetch_protein_fasta(accessions):\n",
        "    \"\"\"Return dict acc->FASTA text (single-record each).\"\"\"\n",
        "    out = {}\n",
        "    batch = list(accessions)\n",
        "    while batch:\n",
        "        # fetch in small batches to be polite\n",
        "        chunk = batch[:50]; batch = batch[50:]\n",
        "        try:\n",
        "            h = Entrez.efetch(db=\"protein\", id=\",\".join(chunk), rettype=\"fasta\", retmode=\"text\")\n",
        "            txt = h.read(); h.close()\n",
        "            # split on records\n",
        "            parts = [t for t in txt.strip().split(\">\") if t]\n",
        "            for rec_txt in parts:\n",
        "                header, *seq_lines = rec_txt.splitlines()\n",
        "                acc = header.split()[0]\n",
        "                out[acc] = \">\" + header + \"\\n\" + \"\\n\".join(seq_lines) + \"\\n\"\n",
        "        except Exception as e:\n",
        "            sys.stderr.write(f\"[warn] efetch failed for {chunk}: {e}\\n\")\n",
        "        time.sleep(SLEEP_BETWEEN_CALLS)\n",
        "    return out\n",
        "\n",
        "# ==== main loop: BLAST per TaxID -> keep top N -> fetch FASTA ====\n",
        "all_rows = []\n",
        "per_taxid_fastas = {}   # taxid -> list of FASTA strings\n",
        "xml_paths = []\n",
        "\n",
        "for i, tid in enumerate(taxids, 1):\n",
        "    try:\n",
        "        record, xml = run_single_blast(query_seq, tid, program=(\"blastp\" if mode==\"blastp\" else \"blastx\"))\n",
        "        # save each XML (handy for grading/debug)\n",
        "        xml_file = OUTPUT_DIR / f\"{mode}_nr_taxid{tid}.xml\"\n",
        "        xml_file.write_text(xml); xml_paths.append(xml_file)\n",
        "\n",
        "        if not record.alignments:\n",
        "            print(f\"— No hits for taxid {tid}\")\n",
        "            continue\n",
        "\n",
        "        # pick top-N by (evalue, -identities)\n",
        "        hsps = []\n",
        "        for aln in record.alignments:\n",
        "            best = sorted(aln.hsps, key=lambda h: (h.expect, -h.identities))[0]\n",
        "            acc = extract_accession(aln.hit_id, aln.hit_def, getattr(aln, \"accession\", None))\n",
        "            pct_id = 100.0 * best.identities / best.align_length if best.align_length else 0.0\n",
        "            hsps.append((aln, best, acc, pct_id))\n",
        "        hsps.sort(key=lambda t: (t[1].expect, -t[3]))\n",
        "        keep = hsps[:TOP_HITS_PER_TAXID]\n",
        "\n",
        "        # fetch FASTAs for these accessions\n",
        "        accs = [acc for _,_,acc,_ in keep]\n",
        "        acc_to_fa = fetch_protein_fasta(accs)\n",
        "\n",
        "        # store\n",
        "        per_taxid_fastas.setdefault(tid, [])\n",
        "        for aln, best, acc, pct in keep:\n",
        "            fa = acc_to_fa.get(acc)\n",
        "            if not fa:\n",
        "                continue\n",
        "            # prepend taxid info to header for grouping\n",
        "            # keep original header after a pipe\n",
        "            lines = fa.strip().splitlines()\n",
        "            header = lines[0][1:]  # drop '>'\n",
        "            seq = \"\\n\".join(lines[1:])\n",
        "            new_header = f\">taxid:{tid}|acc:{acc}|e:{best.expect:.2e}|pid:{pct:.2f}|len:{best.align_length} {header}\"\n",
        "            per_taxid_fastas[tid].append(new_header + \"\\n\" + seq + \"\\n\")\n",
        "\n",
        "            all_rows.append([\n",
        "                tid, acc, aln.title, aln.length, best.expect,\n",
        "                best.identities, best.align_length, round(pct,2),\n",
        "                min(best.query_start,best.query_end), max(best.query_start,best.query_end),\n",
        "                min(best.sbjct_start,best.sbjct_end), max(best.sbjct_start,best.sbjct_end)\n",
        "            ])\n",
        "        print(f\"✅ taxid {tid}: kept {len(per_taxid_fastas[tid])} sequences\")\n",
        "    except Exception as e:\n",
        "        print(f\"⚠️ taxid {tid} failed: {e}\")\n",
        "    time.sleep(SLEEP_BETWEEN_CALLS)\n",
        "\n",
        "# ==== write combined multi-FASTA + per-taxid FASTAs ====\n",
        "multi_fa = OUTPUT_DIR / \"per_taxid_top_hits.fasta\"\n",
        "with open(multi_fa, \"w\") as fh:\n",
        "    for tid in taxids:\n",
        "        for fa in per_taxid_fastas.get(tid, []):\n",
        "            fh.write(fa)\n",
        "print(f\"💾 Multi-FASTA: {multi_fa}\")\n",
        "\n",
        "if WRITE_SPLIT_FASTA:\n",
        "    for tid, fas in per_taxid_fastas.items():\n",
        "        p = OUTPUT_DIR / f\"taxid_{tid}_top_hits.fasta\"\n",
        "        with open(p, \"w\") as fh:\n",
        "            for fa in fas: fh.write(fa)\n",
        "    print(\"💾 Also wrote per-taxid FASTAs\")\n",
        "\n",
        "# ==== write table ====\n",
        "tsv = OUTPUT_DIR / \"per_taxid_hits.tsv\"\n",
        "with open(tsv, \"w\", newline=\"\") as f:\n",
        "    w = csv.writer(f, delimiter=\"\\t\")\n",
        "    w.writerow([\"taxid\",\"accession\",\"title\",\"subject_length\",\"evalue\",\"identities\",\"align_len\",\"pct_identity\",\"q_start\",\"q_end\",\"s_start\",\"s_end\"])\n",
        "    w.writerows(all_rows)\n",
        "print(f\"📑 Table: {tsv}\")\n",
        "\n",
        "print(f\"🗂 XML files saved: {len(xml_paths)}\")"
      ],
      "metadata": {
        "colab": {
          "base_uri": "https://localhost:8080/"
        },
        "id": "tSGXBMA5tc72",
        "outputId": "58f11152-2916-4547-8405-73280eb5cbca"
      },
      "id": "tSGXBMA5tc72",
      "execution_count": null,
      "outputs": [
        {
          "metadata": {
            "tags": null
          },
          "name": "stdout",
          "output_type": "stream",
          "text": [
            "📄 Query source: query_proteins.fasta:unknown_seq\n",
            "🧪 Mode chosen: BLASTP vs nr  | length=475\n",
            "🧬 Loaded 30 TaxIDs\n",
            "⏳ BLASTP vs nr | taxid=10090 | E=1e-05 | hits=50\n",
            "   ENTREZ_QUERY: txid10090[ORGN]\n",
            "✅ taxid 10090: kept 0 sequences\n",
            "⏳ BLASTP vs nr | taxid=10116 | E=1e-05 | hits=50\n",
            "   ENTREZ_QUERY: txid10116[ORGN]\n",
            "✅ taxid 10116: kept 0 sequences\n",
            "⏳ BLASTP vs nr | taxid=102285 | E=1e-05 | hits=50\n",
            "   ENTREZ_QUERY: txid102285[ORGN]\n",
            "✅ taxid 102285: kept 0 sequences\n",
            "⏳ BLASTP vs nr | taxid=105358 | E=1e-05 | hits=50\n",
            "   ENTREZ_QUERY: txid105358[ORGN]\n",
            "✅ taxid 105358: kept 0 sequences\n",
            "⏳ BLASTP vs nr | taxid=1148 | E=1e-05 | hits=50\n",
            "   ENTREZ_QUERY: txid1148[ORGN]\n",
            "✅ taxid 1148: kept 0 sequences\n",
            "⏳ BLASTP vs nr | taxid=1280 | E=1e-05 | hits=50\n",
            "   ENTREZ_QUERY: txid1280[ORGN]\n",
            "✅ taxid 1280: kept 0 sequences\n",
            "⏳ BLASTP vs nr | taxid=1299 | E=1e-05 | hits=50\n",
            "   ENTREZ_QUERY: txid1299[ORGN]\n",
            "✅ taxid 1299: kept 0 sequences\n",
            "⏳ BLASTP vs nr | taxid=1423 | E=1e-05 | hits=50\n",
            "   ENTREZ_QUERY: txid1423[ORGN]\n",
            "✅ taxid 1423: kept 0 sequences\n",
            "⏳ BLASTP vs nr | taxid=1773 | E=1e-05 | hits=50\n",
            "   ENTREZ_QUERY: txid1773[ORGN]\n",
            "✅ taxid 1773: kept 0 sequences\n",
            "⏳ BLASTP vs nr | taxid=1902 | E=1e-05 | hits=50\n",
            "   ENTREZ_QUERY: txid1902[ORGN]\n",
            "— No hits for taxid 1902\n",
            "⏳ BLASTP vs nr | taxid=2173 | E=1e-05 | hits=50\n",
            "   ENTREZ_QUERY: txid2173[ORGN]\n"
          ]
        },
        {
          "metadata": {
            "tags": null
          },
          "name": "stderr",
          "output_type": "stream",
          "text": [
            "/usr/local/lib/python3.11/dist-packages/Bio/Blast/NCBIWWW.py:275: BiopythonWarning: BLAST request A7439PK2015 is taking longer than 10 minutes, consider re-issuing it\n",
            "  warnings.warn(\n"
          ]
        },
        {
          "metadata": {
            "tags": null
          },
          "name": "stdout",
          "output_type": "stream",
          "text": [
            "✅ taxid 2173: kept 0 sequences\n",
            "⏳ BLASTP vs nr | taxid=2190 | E=1e-05 | hits=50\n",
            "   ENTREZ_QUERY: txid2190[ORGN]\n"
          ]
        },
        {
          "metadata": {
            "tags": null
          },
          "name": "stderr",
          "output_type": "stream",
          "text": [
            "/usr/local/lib/python3.11/dist-packages/Bio/Blast/NCBIWWW.py:275: BiopythonWarning: BLAST request A74SJWZK015 is taking longer than 10 minutes, consider re-issuing it\n",
            "  warnings.warn(\n"
          ]
        },
        {
          "metadata": {
            "tags": null
          },
          "name": "stdout",
          "output_type": "stream",
          "text": [
            "✅ taxid 2190: kept 0 sequences\n",
            "⏳ BLASTP vs nr | taxid=2234 | E=1e-05 | hits=50\n",
            "   ENTREZ_QUERY: txid2234[ORGN]\n"
          ]
        },
        {
          "metadata": {
            "tags": null
          },
          "name": "stderr",
          "output_type": "stream",
          "text": [
            "/usr/local/lib/python3.11/dist-packages/Bio/Blast/NCBIWWW.py:275: BiopythonWarning: BLAST request A75BY7M0015 is taking longer than 10 minutes, consider re-issuing it\n",
            "  warnings.warn(\n"
          ]
        },
        {
          "output_type": "stream",
          "name": "stdout",
          "text": [
            "✅ taxid 2234: kept 0 sequences\n",
            "⏳ BLASTP vs nr | taxid=2242 | E=1e-05 | hits=50\n",
            "   ENTREZ_QUERY: txid2242[ORGN]\n",
            "✅ taxid 2242: kept 0 sequences\n",
            "⏳ BLASTP vs nr | taxid=2246 | E=1e-05 | hits=50\n",
            "   ENTREZ_QUERY: txid2246[ORGN]\n",
            "✅ taxid 2246: kept 0 sequences\n",
            "⏳ BLASTP vs nr | taxid=2287 | E=1e-05 | hits=50\n",
            "   ENTREZ_QUERY: txid2287[ORGN]\n",
            "✅ taxid 2287: kept 0 sequences\n",
            "⏳ BLASTP vs nr | taxid=2303 | E=1e-05 | hits=50\n",
            "   ENTREZ_QUERY: txid2303[ORGN]\n",
            "✅ taxid 2303: kept 0 sequences\n",
            "⏳ BLASTP vs nr | taxid=271 | E=1e-05 | hits=50\n",
            "   ENTREZ_QUERY: txid271[ORGN]\n"
          ]
        },
        {
          "output_type": "stream",
          "name": "stderr",
          "text": [
            "/usr/local/lib/python3.11/dist-packages/Bio/Blast/NCBIWWW.py:275: BiopythonWarning: BLAST request A773KGHC015 is taking longer than 10 minutes, consider re-issuing it\n",
            "  warnings.warn(\n"
          ]
        },
        {
          "output_type": "stream",
          "name": "stdout",
          "text": [
            "✅ taxid 271: kept 0 sequences\n",
            "⏳ BLASTP vs nr | taxid=287 | E=1e-05 | hits=50\n",
            "   ENTREZ_QUERY: txid287[ORGN]\n",
            "✅ taxid 287: kept 0 sequences\n",
            "⏳ BLASTP vs nr | taxid=338192 | E=1e-05 | hits=50\n",
            "   ENTREZ_QUERY: txid338192[ORGN]\n",
            "✅ taxid 338192: kept 0 sequences\n",
            "⏳ BLASTP vs nr | taxid=562 | E=1e-05 | hits=50\n",
            "   ENTREZ_QUERY: txid562[ORGN]\n",
            "✅ taxid 562: kept 0 sequences\n",
            "⏳ BLASTP vs nr | taxid=63221 | E=1e-05 | hits=50\n",
            "   ENTREZ_QUERY: txid63221[ORGN]\n",
            "— No hits for taxid 63221\n",
            "⏳ BLASTP vs nr | taxid=666 | E=1e-05 | hits=50\n",
            "   ENTREZ_QUERY: txid666[ORGN]\n"
          ]
        },
        {
          "output_type": "stream",
          "name": "stderr",
          "text": [
            "/usr/local/lib/python3.11/dist-packages/Bio/Blast/NCBIWWW.py:275: BiopythonWarning: BLAST request A78C5S8T013 is taking longer than 10 minutes, consider re-issuing it\n",
            "  warnings.warn(\n"
          ]
        }
      ]
    },
    {
      "cell_type": "code",
      "source": [
        "from Bio.Blast import NCBIXML\n",
        "from Bio import Entrez\n",
        "from pathlib import Path\n",
        "import re, time\n",
        "\n",
        "# REQUIRED\n",
        "Entrez.email = \"your_email@university.edu\"   # <-- change me\n",
        "# Entrez.api_key = \"YOUR_NCBI_API_KEY\"       # optional but helpful\n",
        "\n",
        "# Paths (match your screenshots)\n",
        "# DATA_DIR  = Path(\"/content/drive/MyDrive/Teaching/BIOINFO4-5203-F25/Data/L0-species_diversity\")\n",
        "# OUT_FASTA = DATA_DIR / \"blast_hits.fasta\"\n",
        "\n",
        "# Use the OUTPUT_DIR defined in the previous cell\n",
        "if 'OUTPUT_DIR' in globals():\n",
        "    OUTPUT_DIR = Path(OUTPUT_DIR)\n",
        "else:\n",
        "    # Fallback if the variable is not set\n",
        "    OUTPUT_DIR = Path(\"/content/drive/MyDrive/Teaching/BIOINFO4-5203-F25/Outputs/L0-species_diversity\")\n",
        "\n",
        "OUT_FASTA = OUTPUT_DIR / \"blast_hits.fasta\"\n",
        "\n",
        "\n",
        "# Find XML files (your files look like 'blastp_nr_taxid*.xml')\n",
        "# XMLS = sorted(DATA_DIR.glob(\"blastp_nr_taxid*.xml\"))\n",
        "# if not XMLS:\n",
        "#     XMLS = sorted(DATA_DIR.glob(\"*.xml\"))\n",
        "# assert XMLS, f\"No XML files found in {DATA_DIR}\"\n",
        "\n",
        "# Look for XML files in the OUTPUT_DIR\n",
        "XMLS = sorted(OUTPUT_DIR.glob(\"blastp_nr_taxid*.xml\"))\n",
        "if not XMLS:\n",
        "    XMLS = sorted(OUTPUT_DIR.glob(\"*.xml\")) # Fallback to any xml if specific not found\n",
        "\n",
        "assert XMLS, f\"No XML files found in {OUTPUT_DIR}\"\n",
        "\n",
        "\n",
        "MAX_HITS_PER_XML = 5     # top N alignments per XML\n",
        "BATCH = 50               # efetch batch size\n",
        "SLEEP = 0.25             # courtesy to NCBI\n",
        "\n",
        "def parse_top_accessions(xml_path, top_n=5):\n",
        "    \"\"\"Return list of accession strings from top alignments in one BLAST XML.\"\"\"\n",
        "    with open(xml_path) as h:\n",
        "        rec = NCBIXML.read(h)\n",
        "    accs = []\n",
        "    for aln in rec.alignments[:top_n]:\n",
        "        # Prefer parser's accession if available; else regex from id/def/title\n",
        "        acc = getattr(aln, \"accession\", None)\n",
        "        if not acc:\n",
        "            for field in (aln.hit_id, aln.hit_def, aln.title):\n",
        "                m = re.search(r\"([A-Z]{1,5}_?\\d+(?:\\.\\d+)?)\", field or \"\")\n",
        "                if m:\n",
        "                    acc = m.group(1); break\n",
        "        if acc:\n",
        "            accs.append(acc)\n",
        "    return accs\n",
        "\n",
        "def normalize_pair(acc):\n",
        "    \"\"\"Return (base, versioned) forms so XOB97566 and XOB97566.1 both match.\"\"\"\n",
        "    base = acc.split(\".\")[0]\n",
        "    ver  = acc if \".\" in acc else None\n",
        "    return base, ver\n",
        "\n",
        "def fetch_fasta_batched(accessions):\n",
        "    \"\"\"Fetch FASTA for a list of accessions; store under both base & version keys.\"\"\"\n",
        "    out = {}\n",
        "    accs = [a for a in set(accessions) if a]\n",
        "    for i in range(0, len(accs), BATCH):\n",
        "        chunk = accs[i:i+BATCH]\n",
        "        try:\n",
        "            handle = Entrez.efetch(db=\"protein\", id=\",\".join(chunk), rettype=\"fasta\", retmode=\"text\")\n",
        "            text = handle.read(); handle.close()\n",
        "            for block in [b for b in text.strip().split(\">\") if b]:\n",
        "                header, *seq_lines = block.splitlines()\n",
        "                header = header.strip()\n",
        "                seq = \"\\n\".join(seq_lines).strip()\n",
        "                token = header.split()[0]        # e.g., XOB97566.1\n",
        "                base = token.split(\".\")[0]\n",
        "                fasta = f\">{header}\\n{seq}\\n\"\n",
        "                out[token] = fasta\n",
        "                out[base]  = fasta\n",
        "        except Exception as e:\n",
        "            print(f\"[warn] efetch failed for {chunk}: {e}\")\n",
        "        time.sleep(SLEEP)\n",
        "    return out\n",
        "\n",
        "# --- Collect top accessions from all XMLs\n",
        "wanted = []\n",
        "for x in XMLS:\n",
        "    accs = parse_top_accessions(x, MAX_HITS_PER_XML)\n",
        "    if accs:\n",
        "        wanted.extend(accs)\n",
        "    else:\n",
        "        print(f\"— {x.name}: no alignments or no accessions parsed\")\n",
        "\n",
        "# Also include versionless forms to improve retrieval\n",
        "expanded = []\n",
        "for a in set(wanted):\n",
        "    base, ver = normalize_pair(a)\n",
        "    expanded.append(base)\n",
        "    if ver: expanded.append(ver)\n",
        "\n",
        "# --- Fetch FASTA\n",
        "acc_to_fasta = fetch_fasta_batched(expanded)\n",
        "\n",
        "# --- Write combined FASTA (keep original headers; add source xml in a comment line)\n",
        "written = 0\n",
        "with open(OUT_FASTA, \"w\") as out:\n",
        "    for x in XMLS:\n",
        "        accs = parse_top_accessions(x, MAX_HITS_PER_XML)\n",
        "        for acc in accs:\n",
        "            # try versioned, then base\n",
        "            fa = acc_to_fasta.get(acc) or acc_to_fasta.get(acc.split(\".\")[0])\n",
        "            if not fa:\n",
        "                print(f\"[miss] No FASTA for {acc} (from {x.name})\")\n",
        "                continue\n",
        "            # insert a comment line indicating source XML\n",
        "            header, *seq_lines = fa.strip().splitlines()\n",
        "            out.write(header + f\"  ; source={x.name}\\n\")\n",
        "            out.write(\"\\n\".join(seq_lines) + \"\\n\")\n",
        "            written += 1\n",
        "\n",
        "print(f\"💾 Wrote {written} sequences to {OUT_FASTA}\")"
      ],
      "metadata": {
        "colab": {
          "base_uri": "https://localhost:8080/"
        },
        "id": "8BeVaPs_kWxZ",
        "outputId": "33dd50cc-cb05-43b6-cc85-d6ed17749ad1"
      },
      "id": "8BeVaPs_kWxZ",
      "execution_count": 20,
      "outputs": [
        {
          "output_type": "stream",
          "name": "stdout",
          "text": [
            "💾 Wrote 12 sequences to /content/drive/MyDrive/Teaching/BIOINFO4-5203-F25/Outputs/L0-species_diversity/blast_hits.fasta\n"
          ]
        }
      ]
    },
    {
      "cell_type": "code",
      "source": [
        "# --- Augment your species list with mammals + bacteria + archaea, resolve -> TaxIDs, and merge with existing ---\n",
        "from Bio import Entrez\n",
        "from pathlib import Path\n",
        "import pandas as pd, re, time, sys\n",
        "\n",
        "Entrez.email = \"you@university.edu\"   # <-- set your email\n",
        "\n",
        "assert 'OUTPUT_DIR' in globals() and 'DATA_DIR' in globals()\n",
        "OUT = Path(OUTPUT_DIR); OUT.mkdir(parents=True, exist_ok=True)\n",
        "\n",
        "ADD_THESE_NAMES = [\n",
        "    # Mammals\n",
        "    \"Mus musculus\", \"Rattus norvegicus\", \"Bos taurus\", \"Tursiops truncatus\",\n",
        "    \"Gorilla gorilla\", \"Pan troglodytes\", \"Pan paniscus\", \"Pongo abelii\",\n",
        "    \"Homo neanderthalensis\", \"Homo sapiens\",\n",
        "    # Bacteria\n",
        "    \"Escherichia coli\", \"Bacillus subtilis\", \"Staphylococcus aureus\",\n",
        "    \"Pseudomonas aeruginosa\", \"Mycobacterium tuberculosis\",\n",
        "    \"Streptomyces coelicolor\", \"Deinococcus radiodurans\",\n",
        "    \"Thermus aquaticus\", \"Synechocystis sp. PCC 6803\", \"Vibrio cholerae\",\n",
        "    # Archaea\n",
        "    \"Methanocaldococcus jannaschii\", \"Haloferax volcanii\", \"Halobacterium salinarum\",\n",
        "    \"Sulfolobus solfataricus\", \"Archaeoglobus fulgidus\", \"Thermoplasma acidophilum\",\n",
        "    \"Nitrosopumilus maritimus\", \"Methanobrevibacter smithii\",\n",
        "]\n",
        "\n",
        "def tax_lookup(name: str):\n",
        "    \"\"\"Resolve scientific name -> (taxid, canonical, rank). Try strict then loose.\"\"\"\n",
        "    queries = [f\"\\\"{name}\\\"[SCIN]\", name]\n",
        "    tried = set()\n",
        "    for q in queries:\n",
        "        if q in tried:\n",
        "            continue\n",
        "        tried.add(q)\n",
        "        try:\n",
        "            h = Entrez.esearch(db=\"taxonomy\", term=q, retmode=\"xml\"); r = Entrez.read(h); h.close()\n",
        "            if int(r[\"Count\"]) == 0:\n",
        "                continue\n",
        "            tid = r[\"IdList\"][0]\n",
        "            h2 = Entrez.efetch(db=\"taxonomy\", id=tid, retmode=\"xml\"); rec = Entrez.read(h2); h2.close()\n",
        "            node = rec[0]\n",
        "            return int(tid), node.get(\"ScientificName\",\"\"), node.get(\"Rank\",\"\")\n",
        "        except Exception as e:\n",
        "            sys.stderr.write(f\"[warn] {name}: {e}\\n\")\n",
        "            continue\n",
        "    return \"\", \"\", \"\"\n",
        "\n",
        "rows = []\n",
        "seen = set()\n",
        "for nm in ADD_THESE_NAMES:\n",
        "    nm = nm.strip()\n",
        "    if not nm or nm in seen:\n",
        "        continue\n",
        "    seen.add(nm)\n",
        "    tid, canon, rank = tax_lookup(nm)\n",
        "    rows.append({\"input_name\": nm, \"taxid\": tid, \"canonical_name\": canon, \"rank\": rank})\n",
        "    time.sleep(0.25)\n",
        "\n",
        "df_new = pd.DataFrame(rows)\n",
        "map_path = OUT / \"augmented_taxon_map.csv\"\n",
        "df_new.to_csv(map_path, index=False)\n",
        "\n",
        "# Load existing taxids (if present) and merge\n",
        "existing_taxids = set()\n",
        "for p in [OUT/\"taxids.txt\", OUT/\"taxids-augmented.txt\", Path(DATA_DIR)/\"taxids.txt\"]:\n",
        "    if p.exists():\n",
        "        existing_taxids |= {t.strip() for t in p.read_text().splitlines() if t.strip().isdigit()}\n",
        "\n",
        "new_taxids = {str(t) for t in df_new[\"taxid\"].tolist() if str(t).isdigit()}\n",
        "all_taxids = sorted(existing_taxids | new_taxids)\n",
        "\n",
        "# Write merged lists\n",
        "(OUT / \"taxids-augmented.txt\").write_text(\"\\n\".join(all_taxids))\n",
        "\n",
        "# Build inclusive Entrez query (descendants by default; safer for genus/“sp.”)\n",
        "eq_exp = \" OR \".join([f\"txid{t}[ORGN]\" for t in all_taxids])  # use [ORGN] for BLAST robustness\n",
        "(OUT / \"entrez_query_exp_aug.txt\").write_text(eq_exp)\n",
        "\n",
        "print(f\"✅ Resolved {len(new_taxids)} new taxa. Total now: {len(all_taxids)}\")\n",
        "print(\"🗺  Map CSV :\", map_path)\n",
        "print(\"🧬 TaxIDs  :\", OUT / 'taxids-augmented.txt')\n",
        "print(\"🔎 ENTREQ  :\", OUT / 'entrez_query_exp_aug.txt')"
      ],
      "metadata": {
        "id": "Z-MGg2bjq2Px",
        "outputId": "c54425e1-b533-4f22-a3a4-a7c1c3180548",
        "colab": {
          "base_uri": "https://localhost:8080/"
        }
      },
      "id": "Z-MGg2bjq2Px",
      "execution_count": 17,
      "outputs": [
        {
          "output_type": "stream",
          "name": "stdout",
          "text": [
            "✅ Resolved 28 new taxa. Total now: 30\n",
            "🗺  Map CSV : /content/drive/MyDrive/Teaching/BIOINFO4-5203-F25/Outputs/L0-species_diversity/augmented_taxon_map.csv\n",
            "🧬 TaxIDs  : /content/drive/MyDrive/Teaching/BIOINFO4-5203-F25/Outputs/L0-species_diversity/taxids-augmented.txt\n",
            "🔎 ENTREQ  : /content/drive/MyDrive/Teaching/BIOINFO4-5203-F25/Outputs/L0-species_diversity/entrez_query_exp_aug.txt\n"
          ]
        }
      ]
    }
  ],
  "metadata": {
    "colab": {
      "provenance": [],
      "include_colab_link": true
    },
    "language_info": {
      "name": "python"
    },
    "kernelspec": {
      "name": "python3",
      "display_name": "Python 3"
    }
  },
  "nbformat": 4,
  "nbformat_minor": 5
}