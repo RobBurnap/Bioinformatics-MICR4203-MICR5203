{
  "nbformat": 4,
  "nbformat_minor": 0,
  "metadata": {
    "colab": {
      "provenance": [],
      "authorship_tag": "ABX9TyO+JI/EC4hZYgedknoADhfh",
      "include_colab_link": true
    },
    "kernelspec": {
      "name": "python3",
      "display_name": "Python 3"
    },
    "language_info": {
      "name": "python"
    }
  },
  "cells": [
    {
      "cell_type": "markdown",
      "metadata": {
        "id": "view-in-github",
        "colab_type": "text"
      },
      "source": [
        "<a href=\"https://colab.research.google.com/github/RobBurnap/Bioinformatics-MICR4203-MICR5203/blob/main/notebooks/Pairwise-Alignment_v1.ipynb\" target=\"_parent\"><img src=\"https://colab.research.google.com/assets/colab-badge.svg\" alt=\"Open In Colab\"/></a>"
      ]
    },
    {
      "cell_type": "markdown",
      "source": [
        "\n",
        "BIOINFO4/5203 — Colab Exercise Template\n",
        "\n",
        "Use this template for every weekly exercise. It standardizes setup, data paths, and the final summary so grading in Canvas is quick.\n",
        "\n",
        "Workflow\n",
        "\n",
        "    Click the \"Open in Colab\" link in Canvas (points to this notebook in GitHub).\n",
        "    Run Setup cells (installs and mounts Google Drive).\n",
        "    Run the Exercise cells (edit as instructed for each lecture).\n",
        "    Verify the Results Summary prints the values requested by Canvas.\n",
        "    File → Print → Save as PDF and upload .ipynb + PDF to Canvas.\n",
        "\n",
        "    Instructor note (delete in student copy if desired):\n",
        "\n",
        "        Place datasets for this lecture at: Drive → BIOINFO4-5203-F25 → Data → Lxx_topic\n",
        "        Update the constants in Config below: COURSE_DIR, LECTURE_CODE (e.g., L05), and TOPIC.\n",
        "        For heavy jobs (trees, assemblies), provide the PETE output files in the same Data folder so students can analyze them here if the queue is busy.\n",
        "\n"
      ],
      "metadata": {
        "id": "frmCc0lAQcYQ"
      }
    },
    {
      "cell_type": "markdown",
      "source": [
        "**Auto‑setup + course folder (uses your Teaching path)**"
      ],
      "metadata": {
        "id": "bw0BsPOEGVL3"
      }
    },
    {
      "cell_type": "markdown",
      "source": [
        "##A. Mount Google Drive, Import Coding Libraries Necessary for Running Subsequent Code"
      ],
      "metadata": {
        "id": "6JW7liKMC3H-"
      }
    },
    {
      "cell_type": "code",
      "source": [
        "\n",
        "# Install FIRST, then import\n",
        "%pip install -q biopython       # Install the Biopython package quietly (-q suppresses most output) so we can work with biological sequence files\n",
        "\n",
        "from google.colab import drive  # Import the module that lets Colab interact with Google Drive\n",
        "drive.mount('/content/drive')   # Mount your Google Drive so it appears in Colab's file system under /content/drive\n",
        "\n",
        "import os, pandas as pd          # Import 'os' for file/directory operations, and pandas for working with data tables\n",
        "from Bio import SeqIO            # Import SeqIO from Biopython for reading/writing biological sequence files (FASTA, GenBank, etc.)\n",
        "import matplotlib.pyplot as plt  # Import Matplotlib's plotting library to create figures and graphs\n",
        "\n",
        "print(\"✅ Dependencies installed & Drive mounted.\")\n"
      ],
      "metadata": {
        "id": "N1NrV2YaGfZ_",
        "colab": {
          "base_uri": "https://localhost:8080/"
        },
        "outputId": "282e3525-8c5c-4659-a892-30daad32047a"
      },
      "execution_count": 4,
      "outputs": [
        {
          "output_type": "stream",
          "name": "stdout",
          "text": [
            "Mounted at /content/drive\n",
            "✅ Dependencies installed & Drive mounted.\n"
          ]
        }
      ]
    },
    {
      "cell_type": "markdown",
      "source": [
        "\n",
        "## B. Course folders: Define the course folders for places to load data to be processed and output to be saved\n",
        "\n",
        "Edit only `LECTURE_CODE` and `TOPIC` if needed. All inputs will live in `Data/LECTURE_TOPIC` and outputs in `Outputs/LECTURE_TOPIC`."
      ],
      "metadata": {
        "id": "j7uJVzrKC-8v"
      }
    },
    {
      "cell_type": "markdown",
      "source": [
        "**Course folder configs**"
      ],
      "metadata": {
        "id": "onPHWY4dGku-"
      }
    },
    {
      "cell_type": "code",
      "source": [
        "\n",
        "# --- Course folder configs---\n",
        "COURSE_DIR   = \"/content/drive/MyDrive/Teaching/BIOINFO4-5203-F25\"\n",
        "LECTURE_CODE = \"Concept_Illustration\"            # change per week (e.g., L02, L03, ...)\n",
        "TOPIC        = \"Pairwise-Alignment\"    # short slug for the exercise\n",
        "\n",
        "# Derived paths (do not change)\n",
        "DATA_DIR   = f\"{COURSE_DIR}/Data/{LECTURE_CODE}_{TOPIC}\"\n",
        "OUTPUT_DIR = f\"{COURSE_DIR}/Outputs/{LECTURE_CODE}_{TOPIC}\"\n",
        "\n",
        "# Create folder structure if missing\n",
        "for p in [f\"{COURSE_DIR}/Data\", f\"{COURSE_DIR}/Outputs\", f\"{COURSE_DIR}/Notebooks\", DATA_DIR, OUTPUT_DIR]:\n",
        "    os.makedirs(p, exist_ok=True)\n",
        "\n",
        "print(\"📁 COURSE_DIR :\", COURSE_DIR)\n",
        "print(\"📁 DATA_DIR   :\", DATA_DIR)\n",
        "print(\"📁 OUTPUT_DIR :\", OUTPUT_DIR)\n"
      ],
      "metadata": {
        "colab": {
          "base_uri": "https://localhost:8080/"
        },
        "id": "C1wyBalSGox_",
        "outputId": "896608bb-7cbe-4bab-a9ea-5f373faee61f"
      },
      "execution_count": 5,
      "outputs": [
        {
          "output_type": "stream",
          "name": "stdout",
          "text": [
            "📁 COURSE_DIR : /content/drive/MyDrive/Teaching/BIOINFO4-5203-F25\n",
            "📁 DATA_DIR   : /content/drive/MyDrive/Teaching/BIOINFO4-5203-F25/Data/Concept_Illustration_Pairwise-Alignment\n",
            "📁 OUTPUT_DIR : /content/drive/MyDrive/Teaching/BIOINFO4-5203-F25/Outputs/Concept_Illustration_Pairwise-Alignment\n"
          ]
        }
      ]
    },
    {
      "cell_type": "markdown",
      "source": [
        "##Alignment Scoring and Exploration (Python Lab)"
      ],
      "metadata": {
        "id": "H1Qe2LFAFz5A"
      }
    },
    {
      "cell_type": "markdown",
      "source": [
        "**3) Required Imports**"
      ],
      "metadata": {
        "id": "ccijET3tGsBf"
      }
    },
    {
      "cell_type": "code",
      "source": [
        "# Lecture 1.5: Alignment Scoring and Exploration (Python Lab)\n",
        "\n",
        "# Required Imports\n",
        "from Bio import pairwise2\n",
        "# from Bio.SubsMat import MatrixInfo # Deprecated\n",
        "from Bio.Align import substitution_matrices # New way to import substitution matrices\n",
        "\n",
        "import pandas as pd\n",
        "import matplotlib.pyplot as plt\n",
        "import seaborn as sns"
      ],
      "metadata": {
        "colab": {
          "base_uri": "https://localhost:8080/"
        },
        "id": "y14FsfkKF4f5",
        "outputId": "8665956b-4ca6-4eb3-cbd6-8faec20f2f88"
      },
      "execution_count": 6,
      "outputs": [
        {
          "output_type": "stream",
          "name": "stderr",
          "text": [
            "/usr/local/lib/python3.12/dist-packages/Bio/pairwise2.py:278: BiopythonDeprecationWarning: Bio.pairwise2 has been deprecated, and we intend to remove it in a future release of Biopython. As an alternative, please consider using Bio.Align.PairwiseAligner as a replacement, and contact the Biopython developers if you still need the Bio.pairwise2 module.\n",
            "  warnings.warn(\n"
          ]
        }
      ]
    },
    {
      "cell_type": "markdown",
      "source": [
        "**3. Load Substitution Matrices**"
      ],
      "metadata": {
        "id": "O2dYmehP68QE"
      }
    },
    {
      "cell_type": "code",
      "source": [
        "# Load Substitution Matrices\n",
        "# blosum62 = MatrixInfo.blosum62 # Deprecated\n",
        "# pam250 = MatrixInfo.pam250 # Deprecated\n",
        "blosum62 = substitution_matrices.load(\"BLOSUM62\")\n",
        "pam250 = substitution_matrices.load(\"PAM250\")"
      ],
      "metadata": {
        "id": "GgsJfXePG1P0"
      },
      "execution_count": 9,
      "outputs": []
    },
    {
      "cell_type": "markdown",
      "source": [
        "**4) Step 1: Define Your Sequences (Edit Here)**"
      ],
      "metadata": {
        "id": "ZRLth2QYG4j3"
      }
    },
    {
      "cell_type": "code",
      "source": [
        "#Step 1: Define Your Sequences (Edit Here)\n",
        "# ---------------------------------------------\n",
        "# Enter your sequences below (same length, or with gaps \"-\")\n",
        "# You can copy and paste sequences from a file or just write them directly.\n",
        "\n",
        "seq1 = \"THISLINE\"\n",
        "seq2 = \"ISALIGNED\"\n"
      ],
      "metadata": {
        "id": "Wt9d-zseG-Ap"
      },
      "execution_count": 15,
      "outputs": []
    },
    {
      "cell_type": "code",
      "source": [
        "# Step 2: Choose Scoring Parameters\n",
        "# ------------------------------------\n",
        "# Choose substitution matrix and gap penalties\n",
        "\n",
        "substitution_matrix = blosum62  # options: blosum62 or pam250\n",
        "gap_open_penalty = -1          # penalty for introducing a gap\n",
        "gap_extend_penalty = -1         # penalty for extending a gap\n",
        "\n"
      ],
      "metadata": {
        "id": "hsejC_yi7qj4"
      },
      "execution_count": 18,
      "outputs": []
    },
    {
      "cell_type": "code",
      "source": [
        "# Step 3: Scoring Function for Aligned Sequences\n",
        "# -------------------------------------------------\n",
        "def score_alignment(seq1, seq2, subst_matrix, gap_open=-10, gap_extend=-1):\n",
        "    score = 0\n",
        "    in_gap = False\n",
        "    for a, b in zip(seq1, seq2):\n",
        "        if a == '-' or b == '-':\n",
        "            if not in_gap:\n",
        "                score += gap_open\n",
        "                in_gap = True\n",
        "            else:\n",
        "                score += gap_extend\n",
        "        else:\n",
        "            in_gap = False\n",
        "            pair = (a.upper(), b.upper())\n",
        "            score += subst_matrix.get(pair, subst_matrix.get((pair[1], pair[0]), -4))\n",
        "    return score\n",
        "\n",
        "# 🔍 Step 4: Score Your Alignment\n",
        "# -------------------------------\n",
        "print(\"Manual alignment score:\", score_alignment(seq1, seq2, substitution_matrix, gap_open_penalty, gap_extend_penalty))\n",
        "\n",
        "#  Step 5: Biopython's Built-In Global Alignment (Reference)\n",
        "# -------------------------------------------------------------\n",
        "# This shows how software would align the sequences from scratch.\n",
        "\n",
        "alignments = pairwise2.align.globalds(seq1.replace(\"-\", \"\"), seq2.replace(\"-\", \"\"), substitution_matrix, gap_open_penalty, gap_extend_penalty)\n",
        "print(\"\\nBiopython alignment (no gaps input manually):\")\n",
        "print(pairwise2.format_alignment(*alignments[0]))\n",
        "\n",
        "#\n",
        "# Student Exercises:\n",
        "# 1. Try scoring different pairs of sequences with gap variations.\n",
        "# 2. Modify gap_open and gap_extend, see how alignment changes.\n",
        "# 3. Compare scoring using BLOSUM62 vs. PAM250.\n",
        "# 4. Create your own alignment and evaluate its score.\n",
        "\n",
        "# 💬 Reflection:\n",
        "# - Why do similar alignments have different scores in PAM vs. BLOSUM?\n",
        "# - What does a high or low score tell us biologically?\n",
        "# - When would you choose a more or less stringent substitution matrix?"
      ],
      "metadata": {
        "colab": {
          "base_uri": "https://localhost:8080/"
        },
        "id": "-1yhD9Vw7x6C",
        "outputId": "19e176a0-2f3d-4a9f-b98a-ffc11214f604"
      },
      "execution_count": 20,
      "outputs": [
        {
          "output_type": "stream",
          "name": "stdout",
          "text": [
            "Manual alignment score: 4.0\n",
            "\n",
            "Biopython alignment (no gaps input manually):\n",
            "THIS-LI-NE-\n",
            "  || || || \n",
            "--ISALIGNED\n",
            "  Score=22\n",
            "\n"
          ]
        }
      ]
    },
    {
      "cell_type": "code",
      "source": [
        "# 📊 Step 6: Dot Plot-style Heatmap of Substitution Scores\n",
        "# ----------------------------------------------------------\n",
        "import numpy as np # Import numpy\n",
        "\n",
        "def plot_dotplot_heatmap(seq1, seq2, subst_matrix):\n",
        "    matrix = np.zeros((len(seq2), len(seq1)))\n",
        "    for i, a in enumerate(seq2):\n",
        "        for j, b in enumerate(seq1):\n",
        "            pair = (a.upper(), b.upper())\n",
        "            score = subst_matrix.get(pair, subst_matrix.get((pair[1], pair[0]), -4))\n",
        "            matrix[i, j] = score\n",
        "\n",
        "    plt.figure(figsize=(10, 8))\n",
        "    sns.heatmap(matrix, annot=True, cmap=\"coolwarm\", xticklabels=list(seq1), yticklabels=list(seq2))\n",
        "    plt.xlabel(\"Sequence 1: {}\".format(seq1))\n",
        "    plt.ylabel(\"Sequence 2: {}\".format(seq2))\n",
        "    plt.title(\"Dot Plot-style Heatmap of Pairwise Substitution Scores\")\n",
        "    plt.show()\n",
        "\n",
        "# 🔍 Visualize alignment grid (like Needleman-Wunsch without traceback)\n",
        "plot_dotplot_heatmap(seq1.replace(\"-\", \"\"), seq2.replace(\"-\", \"\"), substitution_matrix)\n",
        "\n",
        "# 📚 Student Exercises:\n",
        "# 1. Try scoring different pairs of sequences with gap variations.\n",
        "# 2. Modify gap_open and gap_extend, see how alignment changes.\n",
        "# 3. Compare scoring using BLOSUM62 vs. PAM250.\n",
        "# 4. Visualize the alignment substitution scores with heatmaps.\n",
        "\n",
        "# 💬 Reflection:\n",
        "# - Where are the highest substitution scores in the grid?\n",
        "# - Do conserved stretches form diagonals?\n",
        "# - What does the plot suggest about sequence similarity?"
      ],
      "metadata": {
        "colab": {
          "base_uri": "https://localhost:8080/",
          "height": 718
        },
        "id": "Yxbf5Us9mS4Z",
        "outputId": "4598821a-1e86-49f9-d4ca-de5602c1d20f"
      },
      "execution_count": 24,
      "outputs": [
        {
          "output_type": "display_data",
          "data": {
            "text/plain": [
              "<Figure size 1000x800 with 2 Axes>"
            ],
            "image/png": "[encoded data removed]"
          },
          "metadata": {}
        }
      ]
    }
  ]
}