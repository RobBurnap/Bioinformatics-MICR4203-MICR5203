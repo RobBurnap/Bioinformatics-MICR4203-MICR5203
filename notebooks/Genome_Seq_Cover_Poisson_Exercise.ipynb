{
  "cells": [
    {
      "cell_type": "markdown",
      "metadata": {
        "id": "view-in-github",
        "colab_type": "text"
      },
      "source": [
        "<a href=\"https://colab.research.google.com/github/RobBurnap/Bioinformatics-MICR4203-MICR5203/blob/main/notebooks/Genome_Seq_Cover_Poisson_Exercise.ipynb\" target=\"_parent\"><img src=\"https://colab.research.google.com/assets/colab-badge.svg\" alt=\"Open In Colab\"/></a>"
      ]
    },
    {
      "cell_type": "markdown",
      "source": [],
      "metadata": {
        "id": "h0Z2hsO4ND2m"
      },
      "id": "h0Z2hsO4ND2m"
    },
    {
      "cell_type": "markdown",
      "id": "e4827746",
      "metadata": {
        "id": "e4827746"
      },
      "source": [
        "# Coverage & the Poisson Model (Genome Sequencing)\n",
        "\n",
        "This notebook explores the relationship between sequencing **coverage** and the **fraction of bases not observed** under a Poisson model.\n",
        "\n",
        "**Key equations**\n",
        "- Coverage: $( c = \\frac{N \\times L}{G} )$ where *N* = number of reads, *L* = average read length, *G* = genome size.\n",
        "- Probability a base is **not** covered at least once: $ P_0 = e^{-c} $.\n",
        "- Invert (re-arrange) to get required coverage for a target uncovered fraction: \\( $c = -\\ln(P_0)$ \\).\n",
        "\n",
        "---\n"
      ]
    },
    {
      "cell_type": "code",
      "execution_count": null,
      "id": "7e750ee2",
      "metadata": {
        "id": "7e750ee2"
      },
      "outputs": [],
      "source": [
        "import numpy as np\n",
        "import matplotlib.pyplot as plt\n",
        "\n",
        "c = np.linspace(0, 40, 400)\n",
        "P0 = np.exp(-c)\n",
        "\n",
        "plt.figure(figsize=(7,4.5))\n",
        "plt.plot(c, P0)\n",
        "plt.xlabel(\"Coverage (c)\")\n",
        "plt.ylabel(\"Fraction not covered (P₀)\")\n",
        "plt.title(\"Poisson Model: Uncovered Fraction vs Coverage\")\n",
        "for kp in [1, 4.60517, 10, 30]:\n",
        "    plt.scatter([kp], [np.exp(-kp)])\n",
        "    plt.annotate(f\"c={kp:.1f}\\nP0={np.exp(-kp):.3e}\", (kp, np.exp(-kp)),\n",
        "                 xytext=(5, -10), textcoords='offset points')\n",
        "plt.grid(True, linestyle='--', alpha=0.5)\n",
        "plt.tight_layout()\n",
        "plt.show()"
      ]
    },
    {
      "cell_type": "markdown",
      "id": "136b4c79",
      "metadata": {
        "id": "136b4c79"
      },
      "source": [
        "## Exercise 1 — How much coverage do you need?\n",
        "\n",
        "1. For an uncovered fraction target of **1%** (\\(P_0 = 0.01\\)), compute the required coverage \\(c\\).\n",
        "2. For **0.1%** (\\(P_0 = 0.001\\)) and **0.01%** (\\(P_0 = 0.0001\\)) do the same.\n",
        "3. Interpret the marginal gains when increasing coverage from 20× to 30×.\n",
        "\n",
        "Fill in the cell below.\n"
      ]
    },
    {
      "cell_type": "code",
      "execution_count": 1,
      "id": "93e42e16",
      "metadata": {
        "id": "93e42e16",
        "outputId": "02208424-a732-4f19-a347-97a8f9f7f2f7",
        "colab": {
          "base_uri": "https://localhost:8080/"
        }
      },
      "outputs": [
        {
          "output_type": "stream",
          "name": "stdout",
          "text": [
            "P0=0.01: required c=4.605x\n",
            "P0=0.001: required c=6.908x\n",
            "P0=0.0001: required c=9.210x\n",
            "c=20: P0=2.061e-09\n",
            "c=30: P0=9.358e-14\n"
          ]
        }
      ],
      "source": [
        "import math\n",
        "\n",
        "def coverage_for_target_uncovered(P0: float) -> float:\n",
        "    \"\"\"Return coverage c needed so that fraction not covered <= P0.\"\"\"\n",
        "    if P0 <= 0 or P0 >= 1:\n",
        "        raise ValueError(\"P0 must be in (0,1).\")\n",
        "    return -math.log(P0)\n",
        "\n",
        "targets = [0.01, 0.001, 0.0001]\n",
        "for t in targets:\n",
        "    print(f\"P0={t}: required c={coverage_for_target_uncovered(t):.3f}x\")\n",
        "\n",
        "\n",
        "# TODO: Discuss marginal utility when moving from 20x to 30x.\n",
        "# Hint: compare P0 at 20x vs 30x.\n",
        "for c in [20, 30]:\n",
        "    print(f\"c={c}: P0={math.exp(-c):.3e}\")"
      ]
    },
    {
      "cell_type": "markdown",
      "id": "53e57874",
      "metadata": {
        "id": "53e57874"
      },
      "source": [
        "## Exercise 2 — How many reads do you need?\n",
        "\n",
        "Given genome size \\(G\\) and read length \\(L\\), the number of reads \\(N\\) required for coverage \\(c\\) is:\n",
        "\n",
        "$N = \\frac{N \\times G}{L} $\n",
        "\n",
        "- **(a)** For a bacterial genome of **3.1 Mb** and **150 bp** reads, how many reads are needed for **30×** coverage?\n",
        "- **(b)** Repeat for **10 kb** long reads.\n",
        "- **(c)** Compare cost and library complexity implications.\n"
      ]
    },
    {
      "cell_type": "code",
      "execution_count": 2,
      "id": "7006563d",
      "metadata": {
        "id": "7006563d",
        "outputId": "157ecf06-7fbc-4179-99a5-e5502e67ebdb",
        "colab": {
          "base_uri": "https://localhost:8080/"
        }
      },
      "outputs": [
        {
          "output_type": "stream",
          "name": "stdout",
          "text": [
            "30x with 150 bp reads: 620000.0\n",
            "30x with 10,000 bp reads: 9300.0\n"
          ]
        }
      ],
      "source": [
        "def reads_needed(c, G_bp, L_bp):\n",
        "    return (c * G_bp) / L_bp\n",
        "\n",
        "G = 3_100_000  # 3.1 Mbp\n",
        "print(\"30x with 150 bp reads:\", reads_needed(30, G, 150))\n",
        "print(\"30x with 10,000 bp reads:\", reads_needed(30, G, 10_000))"
      ]
    },
    {
      "cell_type": "markdown",
      "id": "8d0ed865",
      "metadata": {
        "id": "8d0ed865"
      },
      "source": [
        "## Exercise 3 — Simulation sanity check (optional)\n",
        "\n",
        "Assume bases are sampled independently with Poisson rate \\(c\\). Simulate coverage for a small genome and compare the observed\n",
        "fraction of uncovered bases with the theoretical \\(e^{-c}\\).\n"
      ]
    },
    {
      "cell_type": "code",
      "execution_count": null,
      "id": "31cb0d3f",
      "metadata": {
        "id": "31cb0d3f"
      },
      "outputs": [],
      "source": [
        "import numpy as np\n",
        "\n",
        "def simulate_uncovered_fraction(G=200000, c=5.0, seed=0):\n",
        "    rng = np.random.default_rng(seed)\n",
        "    # Poisson sampling per base\n",
        "    counts = rng.poisson(lam=c, size=G)\n",
        "    return np.mean(counts == 0)\n",
        "\n",
        "for c in [1, 2, 5, 10]:\n",
        "    obs = simulate_uncovered_fraction(G=200000, c=c, seed=42)\n",
        "    theo = np.exp(-c)\n",
        "    print(f\"c={c:>2} | observed P0={obs:.4f} | theoretical P0={theo:.4f}\")"
      ]
    }
  ],
  "metadata": {
    "colab": {
      "provenance": [],
      "include_colab_link": true
    },
    "language_info": {
      "name": "python"
    },
    "kernelspec": {
      "name": "python3",
      "display_name": "Python 3"
    }
  },
  "nbformat": 4,
  "nbformat_minor": 5
}