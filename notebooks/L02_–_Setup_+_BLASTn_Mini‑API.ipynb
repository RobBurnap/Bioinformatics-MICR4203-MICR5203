{
  "cells": [
    {
      "cell_type": "markdown",
      "metadata": {
        "id": "view-in-github",
        "colab_type": "text"
      },
      "source": [
        "<a href=\"https://colab.research.google.com/github/RobBurnap/Bioinformatics-MICR4203-MICR5203/blob/main/notebooks/L02_%E2%80%93_Setup_%2B_BLASTn_Mini%E2%80%91API.ipynb\" target=\"_parent\"><img src=\"https://colab.research.google.com/assets/colab-badge.svg\" alt=\"Open In Colab\"/></a>"
      ]
    },
    {
      "cell_type": "markdown",
      "id": "275544ee",
      "metadata": {
        "id": "275544ee"
      },
      "source": [
        "\n",
        "# BIOINFO4/5203 — Week 2 Exercise (Foundations)\n",
        "\n",
        "**Goals for today**\n",
        "- Mount Google Drive and create your course folders\n",
        "- Load a small FASTA file\n",
        "- Compute simple sequence statistics\n",
        "- Save a plot and a summary text into your `Outputs/` folder\n",
        "\n",
        "> **Deliverables to Canvas:** the executed notebook (`.ipynb`) and a PDF export with outputs visible.\n"
      ]
    },
    {
      "cell_type": "markdown",
      "source": [
        "##Cell 1 — Setup Google Drive + Week Folders"
      ],
      "metadata": {
        "id": "fU6YPxFnnl1Y"
      },
      "id": "fU6YPxFnnl1Y"
    },
    {
      "cell_type": "code",
      "execution_count": 6,
      "id": "269c6b87",
      "metadata": {
        "colab": {
          "base_uri": "https://localhost:8080/"
        },
        "id": "269c6b87",
        "outputId": "b12da2a7-ab02-4264-be8a-ad35baea91b3"
      },
      "outputs": [
        {
          "output_type": "stream",
          "name": "stdout",
          "text": [
            "Mounted at /content/drive\n",
            "✅ Drive mounted.\n",
            "📁 COURSE_DIR : /content/drive/MyDrive/Teaching/BIOINFO4-5203-F25\n",
            "📁 DATA_DIR   : /content/drive/MyDrive/Teaching/BIOINFO4-5203-F25/Data/L02_databases_formats_blastn_seed\n",
            "📁 OUTPUT_DIR : /content/drive/MyDrive/Teaching/BIOINFO4-5203-F25/Outputs/L02_databases_formats_blastn_seed\n"
          ]
        }
      ],
      "source": [
        "# --- L02 SETUP: mount Google Drive and make week folders ---\n",
        "%pip -q install biopython\n",
        "\n",
        "from google.colab import drive\n",
        "drive.mount('/content/drive')\n",
        "\n",
        "import os\n",
        "\n",
        "# Your course root in Drive (change only if you chose a different root in L01)\n",
        "COURSE_DIR   = \"/content/drive/MyDrive/Teaching/BIOINFO4-5203-F25\"\n",
        "\n",
        "# Week label for L02 (used to create subfolders)\n",
        "LECTURE_CODE = \"L02_databases_formats\"\n",
        "TOPIC        = \"blastn_seed\"\n",
        "\n",
        "# Per-week data/output folders\n",
        "DATA_DIR    = f\"{COURSE_DIR}/Data/{LECTURE_CODE}_{TOPIC}\"\n",
        "OUTPUT_DIR  = f\"{COURSE_DIR}/Outputs/{LECTURE_CODE}_{TOPIC}\"\n",
        "for p in [COURSE_DIR, f\"{COURSE_DIR}/Data\", f\"{COURSE_DIR}/Outputs\", DATA_DIR, OUTPUT_DIR]:\n",
        "    os.makedirs(p, exist_ok=True)\n",
        "\n",
        "print(\"✅ Drive mounted.\")\n",
        "print(\"📁 COURSE_DIR :\", COURSE_DIR)\n",
        "print(\"📁 DATA_DIR   :\", DATA_DIR)\n",
        "print(\"📁 OUTPUT_DIR :\", OUTPUT_DIR)\n"
      ]
    },
    {
      "cell_type": "markdown",
      "id": "42fa44d1",
      "metadata": {
        "id": "42fa44d1"
      },
      "source": [
        "\n",
        "## Cell 2 — Put your unknown DNA FASTA into DATA_DIR\n",
        "This cell verifies a FASTA is present and, if not, lets students upload directly into the right folder"
      ]
    },
    {
      "cell_type": "code",
      "execution_count": 7,
      "id": "66b0e9d7",
      "metadata": {
        "colab": {
          "base_uri": "https://localhost:8080/"
        },
        "id": "66b0e9d7",
        "outputId": "81fa5655-3471-4f72-86ba-b70bc6390aa9"
      },
      "outputs": [
        {
          "output_type": "stream",
          "name": "stdout",
          "text": [
            "📄 Using FASTA: /content/drive/MyDrive/Teaching/BIOINFO4-5203-F25/Data/L02_databases_formats_blastn_seed/unknown_seq_DNA.fasta\n"
          ]
        }
      ],
      "source": [
        "# --- Data check (and optional upload) ---\n",
        "import os\n",
        "%pip install -q biopython       # Install the Biopython package quietly (-q suppresses most output) so we can work with biological sequence files\n",
        "\n",
        "from google.colab import files\n",
        "from shutil import move\n",
        "\n",
        "# Look for a DNA FASTA in DATA_DIR\n",
        "cands = [f for f in os.listdir(DATA_DIR) if f.lower().endswith((\".fa\",\".fasta\",\".fna\"))]\n",
        "\n",
        "if not cands:\n",
        "    print(\"⚠️ No FASTA found in Data/. Use the picker to upload one now.\")\n",
        "    uploaded = files.upload()  # Choose a local .fa/.fasta/.fna\n",
        "    for name in uploaded.keys():\n",
        "        move(name, f\"{DATA_DIR}/{name}\")\n",
        "    cands = [f for f in os.listdir(DATA_DIR) if f.lower().endswith((\".fa\",\".fasta\",\".fna\"))]\n",
        "\n",
        "assert cands, \"No FASTA in Data/. Please upload a .fa/.fasta/.fna and re-run this cell.\"\n",
        "\n",
        "# Use the newest FASTA\n",
        "cands.sort(key=lambda f: os.path.getmtime(f\"{DATA_DIR}/{f}\"), reverse=True)\n",
        "FASTA_PATH = f\"{DATA_DIR}/{cands[0]}\"\n",
        "print(\"📄 Using FASTA:\", FASTA_PATH)"
      ]
    },
    {
      "cell_type": "markdown",
      "source": [
        "##Cell 3 — BLASTn Mini‑API (download top similar DNA sequences)\n",
        "\t•\tRuns BLASTn at NCBI (database nt for L02 simplicity)\n",
        "\t•\tSaves: raw BLAST XML, a FASTA of top hits, and a CSV summary"
      ],
      "metadata": {
        "id": "ITJ9NS_HlbIU"
      },
      "id": "ITJ9NS_HlbIU"
    },
    {
      "cell_type": "code",
      "execution_count": 8,
      "id": "2cd941d3",
      "metadata": {
        "colab": {
          "base_uri": "https://localhost:8080/"
        },
        "id": "2cd941d3",
        "outputId": "1722fe5e-5769-45d4-93bc-e725b84c3488"
      },
      "outputs": [
        {
          "output_type": "stream",
          "name": "stdout",
          "text": [
            "🔎 Query record: unknown_seq (len=1428 nt)\n",
            "⏳ Running BLASTn vs nt …\n",
            "💾 Saved BLAST XML: /content/drive/MyDrive/Teaching/BIOINFO4-5203-F25/Outputs/L02_databases_formats_blastn_seed/blastn_results.xml\n",
            "  ✅ 01/10 AP012277  100.0% id\n",
            "  ✅ 02/10 CP012832  100.0% id\n",
            "  ✅ 03/10 CP129344  100.0% id\n",
            "  ✅ 04/10 CP094998  100.0% id\n",
            "  ✅ 05/10 CP003265  100.0% id\n",
            "  ✅ 06/10 AP012205  100.0% id\n",
            "  ✅ 07/10 CP028094  100.0% id\n",
            "  ✅ 08/10 BA000022  100.0% id\n",
            "  ✅ 09/10 CP073017  100.0% id\n",
            "  ✅ 10/10 AP012278  100.0% id\n",
            "\n",
            "💾 FASTA of hits   : /content/drive/MyDrive/Teaching/BIOINFO4-5203-F25/Outputs/L02_databases_formats_blastn_seed/blastn_top_hits.fasta\n",
            "💾 Hits summary CSV: /content/drive/MyDrive/Teaching/BIOINFO4-5203-F25/Outputs/L02_databases_formats_blastn_seed/blastn_top_hits_summary.csv\n"
          ]
        }
      ],
      "source": [
        "# --- BLASTn mini-API: find similar DNA and download top hits ---\n",
        "from Bio import Entrez, SeqIO\n",
        "from Bio.Blast import NCBIWWW, NCBIXML\n",
        "import os, csv, time\n",
        "\n",
        "# REQUIRED by NCBI: set your email (students: put YOUR email)\n",
        "Entrez.email = \"your_email@university.edu\"  # <-- change me\n",
        "API_KEY = None  # optional: paste NCBI API key to raise rate limits\n",
        "\n",
        "# Read first record as query\n",
        "rec = next(SeqIO.parse(FASTA_PATH, \"fasta\"))\n",
        "query_seq = str(rec.seq)\n",
        "print(f\"🔎 Query record: {rec.id} (len={len(rec)} nt)\")\n",
        "\n",
        "# Run BLASTn vs nt (fast & familiar for L02)\n",
        "print(\"⏳ Running BLASTn vs nt …\")\n",
        "blast_handle = NCBIWWW.qblast(\n",
        "    program=\"blastn\",\n",
        "    database=\"nt\",\n",
        "    sequence=query_seq,\n",
        "    expect=1e-5,\n",
        "    megablast=True,\n",
        "    filter=\"L\",                # low-complexity filter\n",
        "    entrez_query=None          # no organism filter in L02\n",
        ")\n",
        "blast_xml = blast_handle.read()\n",
        "blast_handle.close()\n",
        "\n",
        "# Save XML (reproducibility)\n",
        "xml_path = f\"{OUTPUT_DIR}/blastn_results.xml\"\n",
        "with open(xml_path, \"w\") as f:\n",
        "    f.write(blast_xml)\n",
        "print(\"💾 Saved BLAST XML:\", xml_path)\n",
        "\n",
        "# Parse top hits\n",
        "record = NCBIXML.read(__import__(\"io\").StringIO(blast_xml))\n",
        "assert record.alignments, \"BLAST returned no hits. Try a different sequence.\"\n",
        "\n",
        "top_n = 10\n",
        "hits = []\n",
        "for aln in record.alignments[:top_n]:\n",
        "    hsp = aln.hsps[0]\n",
        "    hits.append({\n",
        "        \"title\": aln.title,\n",
        "        \"accession\": aln.accession,\n",
        "        \"length\": aln.length,\n",
        "        \"identity\": hsp.identities,\n",
        "        \"align_len\": hsp.align_length,\n",
        "        \"pct_identity\": round(100.0 * hsp.identities / hsp.align_length, 2)\n",
        "    })\n",
        "\n",
        "# Fetch FASTA for each hit\n",
        "def efetch_fasta(acc):\n",
        "    params = dict(db=\"nuccore\", id=acc, rettype=\"fasta\", retmode=\"text\")\n",
        "    if API_KEY: params[\"api_key\"] = API_KEY\n",
        "    with Entrez.efetch(**params) as h:\n",
        "        return h.read()\n",
        "\n",
        "fasta_out = f\"{OUTPUT_DIR}/blastn_top_hits.fasta\"\n",
        "csv_out   = f\"{OUTPUT_DIR}/blastn_top_hits_summary.csv\"\n",
        "\n",
        "with open(fasta_out, \"w\") as fa, open(csv_out, \"w\", newline=\"\") as cs:\n",
        "    writer = csv.DictWriter(cs, fieldnames=list(hits[0].keys()))\n",
        "    writer.writeheader()\n",
        "    for i, h in enumerate(hits, 1):\n",
        "        try:\n",
        "            fa.write(efetch_fasta(h[\"accession\"]))\n",
        "            writer.writerow(h)\n",
        "            print(f\"  ✅ {i:02d}/{len(hits)} {h['accession']}  {h['pct_identity']}% id\")\n",
        "        except Exception as e:\n",
        "            print(f\"  ⚠️  Failed {h['accession']}: {e}\")\n",
        "        time.sleep(0.34 if not API_KEY else 0.1)  # be polite to NCBI\n",
        "\n",
        "print(f\"\\n💾 FASTA of hits   : {fasta_out}\")\n",
        "print(f\"💾 Hits summary CSV: {csv_out}\")"
      ]
    },
    {
      "cell_type": "markdown",
      "id": "60ea4bd6",
      "metadata": {
        "id": "60ea4bd6"
      },
      "source": [
        "\n",
        "## Cell 4 — (Optional) Quick visualization: identity distribution\n"
      ]
    },
    {
      "cell_type": "code",
      "source": [
        "# --- Quick plot of % identity for the top hits ---\n",
        "import pandas as pd\n",
        "import matplotlib.pyplot as plt\n",
        "\n",
        "df = pd.read_csv(csv_out)\n",
        "plt.figure()\n",
        "df[\"pct_identity\"].plot(kind=\"bar\")\n",
        "plt.title(\"% identity of BLASTn top hits\")\n",
        "plt.xlabel(\"Hit index\")\n",
        "plt.ylabel(\"% identity\")\n",
        "plt.tight_layout()\n",
        "\n",
        "png_path = f\"{OUTPUT_DIR}/blastn_identity_plot.png\"\n",
        "plt.savefig(png_path, dpi=150)\n",
        "print(\"💾 Saved plot:\", png_path)"
      ],
      "metadata": {
        "colab": {
          "base_uri": "https://localhost:8080/"
        },
        "id": "9LXfeS7gu2ad",
        "outputId": "28331351-c406-455c-e7a3-5847a01a9cad"
      },
      "id": "9LXfeS7gu2ad",
      "execution_count": null,
      "outputs": [
        {
          "output_type": "stream",
          "name": "stdout",
          "text": [
            "Translating sequences to protein...\n",
            "\n",
            ">unknown_seq\n",
            "MYEKLQPPSVGSKITFVAGKPVVPNDPIIPYIRGDGTGVDIWPATELVINAAIAKAYGGERKINWFKVYAGDEACELYGTYQYLPEDTLTAIKEYGVAIKGPLTTPVGGGIRSLNVALRQIFDLYTCVRPCRYYPGTPSPHKTPEKLDIIVYRENTEDIYLGIEWAEGTEGAKKLIAYLNDELIPTTPALGKKQIRLDSGIGIKPISKTGSQRLVRRAILHALRLPKAKQMVTLVHKGNIMKFTEGAFRDWGYELATTEFRAECVTERESWILGNKESNPDLTIEANAHMIDPGYDTLTEEKQAVIKQEVEQVLNSIWESHGNGQWKEKVMVNDRIADSIFQQIQTRPDEYSILATMNLNGDYLSDAAAAVVGGLGMGPGANIGDSAAIFEATHGTAPKHAGLDRINPGSVILSGVMMLEFMGWQEAADLIKKGIGAAIANREVTYDLARLMEPKVDKPLKCSEFAQAIVSHFDD\n",
            "\n",
            "✅ Translations saved to: /content/drive/MyDrive/Teaching/BIOINFO4-5203-F25/Outputs/L01_foundations/translated_proteins.fasta\n"
          ]
        }
      ]
    },
    {
      "cell_type": "markdown",
      "id": "ce02bc34",
      "metadata": {
        "id": "ce02bc34"
      },
      "source": [
        "## Cell 5 — Canvas summary (simple key/value printout)"
      ]
    },
    {
      "cell_type": "code",
      "execution_count": null,
      "id": "596d0be0",
      "metadata": {
        "colab": {
          "base_uri": "https://localhost:8080/"
        },
        "id": "596d0be0",
        "outputId": "fe3f2563-cae2-4766-c86e-8186776a8af8"
      },
      "outputs": [
        {
          "output_type": "stream",
          "name": "stdout",
          "text": [
            "💾 Saved CSV -> /content/drive/MyDrive/Teaching/BIOINFO4-5203-F25/Outputs/L01_foundations/seq_summary.csv\n",
            "🖼️ Saved PNG -> /content/drive/MyDrive/Teaching/BIOINFO4-5203-F25/Outputs/L01_foundations/lengths_barplot.png\n",
            "📦 Output dir listing: ['lengths_barplot.png', 'summary.txt', 'seq_summary.csv', 'translated_proteins.fasta']\n"
          ]
        }
      ],
      "source": [
        "# --- Summary for Canvas auto-grading / quick check ---\n",
        "summary = {\n",
        "    \"LECTURE\": LECTURE_CODE,\n",
        "    \"TOPIC\": TOPIC,\n",
        "    \"QUERY_FASTA\": os.path.basename(FASTA_PATH),\n",
        "    \"HITS_FASTA\": os.path.basename(fasta_out),\n",
        "    \"HITS_CSV\": os.path.basename(csv_out)\n",
        "}\n",
        "print(\"=== L02 SUMMARY ===\")\n",
        "for k,v in summary.items():\n",
        "    print(f\"{k}={v}\")\n",
        "\n",
        "with open(f\"{OUTPUT_DIR}/summary.txt\",\"w\") as f:\n",
        "    for k,v in summary.items():\n",
        "        f.write(f\"{k}={v}\\n\")\n",
        "print(\"💾 Wrote\", f\"{OUTPUT_DIR}/summary.txt\")"
      ]
    },
    {
      "cell_type": "markdown",
      "source": [
        "Now translate the sequence by running this code:"
      ],
      "metadata": {
        "id": "GB7VNxmNt2LU"
      },
      "id": "GB7VNxmNt2LU"
    },
    {
      "cell_type": "markdown",
      "id": "e7b1e8f5",
      "metadata": {
        "id": "e7b1e8f5"
      },
      "source": [
        "## E. Results summary (copy into Canvas if requested)"
      ]
    },
    {
      "cell_type": "code",
      "execution_count": null,
      "id": "f1ff22f6",
      "metadata": {
        "colab": {
          "base_uri": "https://localhost:8080/"
        },
        "id": "f1ff22f6",
        "outputId": "194224e4-52b6-40fc-ab78-222e75d7b864"
      },
      "outputs": [
        {
          "output_type": "stream",
          "name": "stdout",
          "text": [
            "📝 Saved summary -> /content/drive/MyDrive/Teaching/BIOINFO4-5203-F25/Outputs/L01_foundations/summary.txt\n",
            "=== SUMMARY ===\n",
            "LECTURE= L01\n",
            "TOPIC= foundations\n",
            "N_records= 1\n",
            "FASTA= unknown_seq_DNA.fasta\n"
          ]
        }
      ],
      "source": [
        "\n",
        "summary_path = f\"{OUTPUT_DIR}/summary.txt\"\n",
        "with open(summary_path, \"w\") as f:\n",
        "    f.write(f\"LECTURE={LECTURE_CODE}\\n\")\n",
        "    f.write(f\"TOPIC={TOPIC}\\n\")\n",
        "    f.write(f\"N_records={len(records)}\\n\")\n",
        "    f.write(f\"FASTA={os.path.basename(fasta_path)}\\n\")\n",
        "print(\"📝 Saved summary ->\", summary_path)\n",
        "\n",
        "print(\"=== SUMMARY ===\")\n",
        "print(\"LECTURE=\", LECTURE_CODE)\n",
        "print(\"TOPIC=\", TOPIC)\n",
        "print(\"N_records=\", len(records))\n",
        "print(\"FASTA=\", os.path.basename(fasta_path))\n"
      ]
    },
    {
      "cell_type": "markdown",
      "id": "67332d7d",
      "metadata": {
        "id": "67332d7d"
      },
      "source": [
        "\n",
        "## F. Export & submit\n",
        "- **File → Print → Save as PDF**, then upload the PDF and `.ipynb` to Canvas.  \n",
        "- Ensure your `Outputs/` folder contains: `seq_summary.csv`, `lengths_barplot.png`, and `summary.txt`.\n"
      ]
    },
    {
      "cell_type": "code",
      "metadata": {
        "colab": {
          "base_uri": "https://localhost:8080/"
        },
        "id": "8f21ad5f",
        "outputId": "bc191161-52f0-4c00-eb78-6242c1559f70"
      },
      "source": [
        "%pip install biopython"
      ],
      "id": "8f21ad5f",
      "execution_count": 4,
      "outputs": [
        {
          "output_type": "stream",
          "name": "stdout",
          "text": [
            "Collecting biopython\n",
            "  Downloading biopython-1.85-cp311-cp311-manylinux_2_17_x86_64.manylinux2014_x86_64.whl.metadata (13 kB)\n",
            "Requirement already satisfied: numpy in /usr/local/lib/python3.11/dist-packages (from biopython) (2.0.2)\n",
            "Downloading biopython-1.85-cp311-cp311-manylinux_2_17_x86_64.manylinux2014_x86_64.whl (3.3 MB)\n",
            "\u001b[2K   \u001b[90m━━━━━━━━━━━━━━━━━━━━━━━━━━━━━━━━━━━━━━━━\u001b[0m \u001b[32m3.3/3.3 MB\u001b[0m \u001b[31m25.1 MB/s\u001b[0m eta \u001b[36m0:00:00\u001b[0m\n",
            "\u001b[?25hInstalling collected packages: biopython\n",
            "Successfully installed biopython-1.85\n"
          ]
        }
      ]
    }
  ],
  "metadata": {
    "colab": {
      "provenance": [],
      "include_colab_link": true
    },
    "language_info": {
      "name": "python"
    },
    "kernelspec": {
      "name": "python3",
      "display_name": "Python 3"
    }
  },
  "nbformat": 4,
  "nbformat_minor": 5
}