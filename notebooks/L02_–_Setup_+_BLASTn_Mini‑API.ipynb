{
  "cells": [
    {
      "cell_type": "markdown",
      "metadata": {
        "id": "view-in-github",
        "colab_type": "text"
      },
      "source": [
        "<a href=\"https://colab.research.google.com/github/RobBurnap/Bioinformatics-MICR4203-MICR5203/blob/main/notebooks/L02_%E2%80%93_Setup_%2B_BLASTn_Mini%E2%80%91API.ipynb\" target=\"_parent\"><img src=\"https://colab.research.google.com/assets/colab-badge.svg\" alt=\"Open In Colab\"/></a>"
      ]
    },
    {
      "cell_type": "markdown",
      "id": "275544ee",
      "metadata": {
        "id": "275544ee"
      },
      "source": [
        "\n",
        "# BIOINFO4/5203 — Week 2 Exercise (Foundations)\n",
        "\n",
        "**Goals for today**\n",
        "- Mount Google Drive and create your course folders\n",
        "- Load a small FASTA file\n",
        "- Compute simple sequence statistics\n",
        "- Save a plot and a summary text into your `Outputs/` folder\n",
        "\n",
        "> **Deliverables to Canvas:** the executed notebook (`.ipynb`) and a PDF export with outputs visible.\n"
      ]
    },
    {
      "cell_type": "markdown",
      "source": [
        "##Cell 1 — Setup Google Drive + Week Folders"
      ],
      "metadata": {
        "id": "fU6YPxFnnl1Y"
      },
      "id": "fU6YPxFnnl1Y"
    },
    {
      "cell_type": "code",
      "execution_count": null,
      "id": "269c6b87",
      "metadata": {
        "colab": {
          "base_uri": "https://localhost:8080/"
        },
        "id": "269c6b87",
        "outputId": "f3351358-a235-48c2-a18d-8faaa58041ab"
      },
      "outputs": [
        {
          "output_type": "stream",
          "name": "stdout",
          "text": [
            "Drive already mounted at /content/drive; to attempt to forcibly remount, call drive.mount(\"/content/drive\", force_remount=True).\n",
            "✅ Dependencies installed & Drive mounted.\n"
          ]
        }
      ],
      "source": [
        "# --- L02 SETUP: mount Google Drive and make week folders ---\n",
        "%pip -q install biopython\n",
        "\n",
        "from google.colab import drive\n",
        "drive.mount('/content/drive')\n",
        "\n",
        "import os\n",
        "\n",
        "# Your course root in Drive (change only if you chose a different root in L01)\n",
        "COURSE_DIR   = \"/content/drive/MyDrive/Teaching/BIOINFO4-5203-F25\"\n",
        "\n",
        "# Week label for L02 (used to create subfolders)\n",
        "LECTURE_CODE = \"L02_databases_formats\"\n",
        "TOPIC        = \"blastn_seed\"\n",
        "\n",
        "# Per-week data/output folders\n",
        "DATA_DIR    = f\"{COURSE_DIR}/Data/{LECTURE_CODE}_{TOPIC}\"\n",
        "OUTPUT_DIR  = f\"{COURSE_DIR}/Outputs/{LECTURE_CODE}_{TOPIC}\"\n",
        "for p in [COURSE_DIR, f\"{COURSE_DIR}/Data\", f\"{COURSE_DIR}/Outputs\", DATA_DIR, OUTPUT_DIR]:\n",
        "    os.makedirs(p, exist_ok=True)\n",
        "\n",
        "print(\"✅ Drive mounted.\")\n",
        "print(\"📁 COURSE_DIR :\", COURSE_DIR)\n",
        "print(\"📁 DATA_DIR   :\", DATA_DIR)\n",
        "print(\"📁 OUTPUT_DIR :\", OUTPUT_DIR)\n"
      ]
    },
    {
      "cell_type": "markdown",
      "id": "42fa44d1",
      "metadata": {
        "id": "42fa44d1"
      },
      "source": [
        "\n",
        "## Cell 2 — Put your unknown DNA FASTA into DATA_DIR\n",
        "This cell verifies a FASTA is present and, if not, lets students upload directly into the right folder"
      ]
    },
    {
      "cell_type": "code",
      "execution_count": null,
      "id": "66b0e9d7",
      "metadata": {
        "colab": {
          "base_uri": "https://localhost:8080/"
        },
        "id": "66b0e9d7",
        "outputId": "46aee26e-13bf-48e0-b41f-10e35ea43da2"
      },
      "outputs": [
        {
          "output_type": "stream",
          "name": "stdout",
          "text": [
            "📁 COURSE_DIR : /content/drive/MyDrive/Teaching/BIOINFO4-5203-F25\n",
            "📁 DATA_DIR   : /content/drive/MyDrive/Teaching/BIOINFO4-5203-F25/Data/L01_foundations\n",
            "📁 OUTPUT_DIR : /content/drive/MyDrive/Teaching/BIOINFO4-5203-F25/Outputs/L01_foundations\n"
          ]
        }
      ],
      "source": [
        "# --- Data check (and optional upload) ---\n",
        "import os\n",
        "from google.colab import files\n",
        "from shutil import move\n",
        "\n",
        "# Look for a DNA FASTA in DATA_DIR\n",
        "cands = [f for f in os.listdir(DATA_DIR) if f.lower().endswith((\".fa\",\".fasta\",\".fna\"))]\n",
        "\n",
        "if not cands:\n",
        "    print(\"⚠️ No FASTA found in Data/. Use the picker to upload one now.\")\n",
        "    uploaded = files.upload()  # Choose a local .fa/.fasta/.fna\n",
        "    for name in uploaded.keys():\n",
        "        move(name, f\"{DATA_DIR}/{name}\")\n",
        "    cands = [f for f in os.listdir(DATA_DIR) if f.lower().endswith((\".fa\",\".fasta\",\".fna\"))]\n",
        "\n",
        "assert cands, \"No FASTA in Data/. Please upload a .fa/.fasta/.fna and re-run this cell.\"\n",
        "\n",
        "# Use the newest FASTA\n",
        "cands.sort(key=lambda f: os.path.getmtime(f\"{DATA_DIR}/{f}\"), reverse=True)\n",
        "FASTA_PATH = f\"{DATA_DIR}/{cands[0]}\"\n",
        "print(\"📄 Using FASTA:\", FASTA_PATH)"
      ]
    },
    {
      "cell_type": "markdown",
      "source": [
        "##Cell 3 — BLASTn Mini‑API (download top similar DNA sequences)\n",
        "\t•\tRuns BLASTn at NCBI (database nt for L02 simplicity)\n",
        "\t•\tSaves: raw BLAST XML, a FASTA of top hits, and a CSV summary"
      ],
      "metadata": {
        "id": "ITJ9NS_HlbIU"
      },
      "id": "ITJ9NS_HlbIU"
    },
    {
      "cell_type": "code",
      "execution_count": null,
      "id": "2cd941d3",
      "metadata": {
        "colab": {
          "base_uri": "https://localhost:8080/",
          "height": 107
        },
        "id": "2cd941d3",
        "outputId": "29b2a017-bc4f-4b94-be8c-2edad75b9723"
      },
      "outputs": [
        {
          "output_type": "stream",
          "name": "stdout",
          "text": [
            "🔎 Parsed: /content/drive/MyDrive/Teaching/BIOINFO4-5203-F25/Data/L01_foundations/unknown_seq_DNA.fasta\n"
          ]
        },
        {
          "output_type": "display_data",
          "data": {
            "text/plain": [
              "            id  length    A    C    G    T\n",
              "0  unknown_seq    1428  379  339  378  332"
            ],
            "text/html": [
              "\n",
              "  <div id=\"df-9c692e8c-b42b-4374-9f21-beb29ae9d34f\" class=\"colab-df-container\">\n",
              "    <div>\n",
              "<style scoped>\n",
              "    .dataframe tbody tr th:only-of-type {\n",
              "        vertical-align: middle;\n",
              "    }\n",
              "\n",
              "    .dataframe tbody tr th {\n",
              "        vertical-align: top;\n",
              "    }\n",
              "\n",
              "    .dataframe thead th {\n",
              "        text-align: right;\n",
              "    }\n",
              "</style>\n",
              "<table border=\"1\" class=\"dataframe\">\n",
              "  <thead>\n",
              "    <tr style=\"text-align: right;\">\n",
              "      <th></th>\n",
              "      <th>id</th>\n",
              "      <th>length</th>\n",
              "      <th>A</th>\n",
              "      <th>C</th>\n",
              "      <th>G</th>\n",
              "      <th>T</th>\n",
              "    </tr>\n",
              "  </thead>\n",
              "  <tbody>\n",
              "    <tr>\n",
              "      <th>0</th>\n",
              "      <td>unknown_seq</td>\n",
              "      <td>1428</td>\n",
              "      <td>379</td>\n",
              "      <td>339</td>\n",
              "      <td>378</td>\n",
              "      <td>332</td>\n",
              "    </tr>\n",
              "  </tbody>\n",
              "</table>\n",
              "</div>\n",
              "    <div class=\"colab-df-buttons\">\n",
              "\n",
              "  <div class=\"colab-df-container\">\n",
              "    <button class=\"colab-df-convert\" onclick=\"convertToInteractive('df-9c692e8c-b42b-4374-9f21-beb29ae9d34f')\"\n",
              "            title=\"Convert this dataframe to an interactive table.\"\n",
              "            style=\"display:none;\">\n",
              "\n",
              "  <svg xmlns=\"http://www.w3.org/2000/svg\" height=\"24px\" viewBox=\"0 -960 960 960\">\n",
              "    <path d=\"M120-120v-720h720v720H120Zm60-500h600v-160H180v160Zm220 220h160v-160H400v160Zm0 220h160v-160H400v160ZM180-400h160v-160H180v160Zm440 0h160v-160H620v160ZM180-180h160v-160H180v160Zm440 0h160v-160H620v160Z\"/>\n",
              "  </svg>\n",
              "    </button>\n",
              "\n",
              "  <style>\n",
              "    .colab-df-container {\n",
              "      display:flex;\n",
              "      gap: 12px;\n",
              "    }\n",
              "\n",
              "    .colab-df-convert {\n",
              "      background-color: #E8F0FE;\n",
              "      border: none;\n",
              "      border-radius: 50%;\n",
              "      cursor: pointer;\n",
              "      display: none;\n",
              "      fill: #1967D2;\n",
              "      height: 32px;\n",
              "      padding: 0 0 0 0;\n",
              "      width: 32px;\n",
              "    }\n",
              "\n",
              "    .colab-df-convert:hover {\n",
              "      background-color: #E2EBFA;\n",
              "      box-shadow: 0px 1px 2px rgba(60, 64, 67, 0.3), 0px 1px 3px 1px rgba(60, 64, 67, 0.15);\n",
              "      fill: #174EA6;\n",
              "    }\n",
              "\n",
              "    .colab-df-buttons div {\n",
              "      margin-bottom: 4px;\n",
              "    }\n",
              "\n",
              "    [theme=dark] .colab-df-convert {\n",
              "      background-color: #3B4455;\n",
              "      fill: #D2E3FC;\n",
              "    }\n",
              "\n",
              "    [theme=dark] .colab-df-convert:hover {\n",
              "      background-color: #434B5C;\n",
              "      box-shadow: 0px 1px 3px 1px rgba(0, 0, 0, 0.15);\n",
              "      filter: drop-shadow(0px 1px 2px rgba(0, 0, 0, 0.3));\n",
              "      fill: #FFFFFF;\n",
              "    }\n",
              "  </style>\n",
              "\n",
              "    <script>\n",
              "      const buttonEl =\n",
              "        document.querySelector('#df-9c692e8c-b42b-4374-9f21-beb29ae9d34f button.colab-df-convert');\n",
              "      buttonEl.style.display =\n",
              "        google.colab.kernel.accessAllowed ? 'block' : 'none';\n",
              "\n",
              "      async function convertToInteractive(key) {\n",
              "        const element = document.querySelector('#df-9c692e8c-b42b-4374-9f21-beb29ae9d34f');\n",
              "        const dataTable =\n",
              "          await google.colab.kernel.invokeFunction('convertToInteractive',\n",
              "                                                    [key], {});\n",
              "        if (!dataTable) return;\n",
              "\n",
              "        const docLinkHtml = 'Like what you see? Visit the ' +\n",
              "          '<a target=\"_blank\" href=https://colab.research.google.com/notebooks/data_table.ipynb>data table notebook</a>'\n",
              "          + ' to learn more about interactive tables.';\n",
              "        element.innerHTML = '';\n",
              "        dataTable['output_type'] = 'display_data';\n",
              "        await google.colab.output.renderOutput(dataTable, element);\n",
              "        const docLink = document.createElement('div');\n",
              "        docLink.innerHTML = docLinkHtml;\n",
              "        element.appendChild(docLink);\n",
              "      }\n",
              "    </script>\n",
              "  </div>\n",
              "\n",
              "\n",
              "  <div id=\"id_bc2b113b-a061-4c4f-9cfb-38607ee770f6\">\n",
              "    <style>\n",
              "      .colab-df-generate {\n",
              "        background-color: #E8F0FE;\n",
              "        border: none;\n",
              "        border-radius: 50%;\n",
              "        cursor: pointer;\n",
              "        display: none;\n",
              "        fill: #1967D2;\n",
              "        height: 32px;\n",
              "        padding: 0 0 0 0;\n",
              "        width: 32px;\n",
              "      }\n",
              "\n",
              "      .colab-df-generate:hover {\n",
              "        background-color: #E2EBFA;\n",
              "        box-shadow: 0px 1px 2px rgba(60, 64, 67, 0.3), 0px 1px 3px 1px rgba(60, 64, 67, 0.15);\n",
              "        fill: #174EA6;\n",
              "      }\n",
              "\n",
              "      [theme=dark] .colab-df-generate {\n",
              "        background-color: #3B4455;\n",
              "        fill: #D2E3FC;\n",
              "      }\n",
              "\n",
              "      [theme=dark] .colab-df-generate:hover {\n",
              "        background-color: #434B5C;\n",
              "        box-shadow: 0px 1px 3px 1px rgba(0, 0, 0, 0.15);\n",
              "        filter: drop-shadow(0px 1px 2px rgba(0, 0, 0, 0.3));\n",
              "        fill: #FFFFFF;\n",
              "      }\n",
              "    </style>\n",
              "    <button class=\"colab-df-generate\" onclick=\"generateWithVariable('df')\"\n",
              "            title=\"Generate code using this dataframe.\"\n",
              "            style=\"display:none;\">\n",
              "\n",
              "  <svg xmlns=\"http://www.w3.org/2000/svg\" height=\"24px\"viewBox=\"0 0 24 24\"\n",
              "       width=\"24px\">\n",
              "    <path d=\"M7,19H8.4L18.45,9,17,7.55,7,17.6ZM5,21V16.75L18.45,3.32a2,2,0,0,1,2.83,0l1.4,1.43a1.91,1.91,0,0,1,.58,1.4,1.91,1.91,0,0,1-.58,1.4L9.25,21ZM18.45,9,17,7.55Zm-12,3A5.31,5.31,0,0,0,4.9,8.1,5.31,5.31,0,0,0,1,6.5,5.31,5.31,0,0,0,4.9,4.9,5.31,5.31,0,0,0,6.5,1,5.31,5.31,0,0,0,8.1,4.9,5.31,5.31,0,0,0,12,6.5,5.46,5.46,0,0,0,6.5,12Z\"/>\n",
              "  </svg>\n",
              "    </button>\n",
              "    <script>\n",
              "      (() => {\n",
              "      const buttonEl =\n",
              "        document.querySelector('#id_bc2b113b-a061-4c4f-9cfb-38607ee770f6 button.colab-df-generate');\n",
              "      buttonEl.style.display =\n",
              "        google.colab.kernel.accessAllowed ? 'block' : 'none';\n",
              "\n",
              "      buttonEl.onclick = () => {\n",
              "        google.colab.notebook.generateWithVariable('df');\n",
              "      }\n",
              "      })();\n",
              "    </script>\n",
              "  </div>\n",
              "\n",
              "    </div>\n",
              "  </div>\n"
            ],
            "application/vnd.google.colaboratory.intrinsic+json": {
              "type": "dataframe",
              "variable_name": "df",
              "summary": "{\n  \"name\": \"df\",\n  \"rows\": 1,\n  \"fields\": [\n    {\n      \"column\": \"id\",\n      \"properties\": {\n        \"dtype\": \"string\",\n        \"num_unique_values\": 1,\n        \"samples\": [\n          \"unknown_seq\"\n        ],\n        \"semantic_type\": \"\",\n        \"description\": \"\"\n      }\n    },\n    {\n      \"column\": \"length\",\n      \"properties\": {\n        \"dtype\": \"number\",\n        \"std\": null,\n        \"min\": 1428,\n        \"max\": 1428,\n        \"num_unique_values\": 1,\n        \"samples\": [\n          1428\n        ],\n        \"semantic_type\": \"\",\n        \"description\": \"\"\n      }\n    },\n    {\n      \"column\": \"A\",\n      \"properties\": {\n        \"dtype\": \"number\",\n        \"std\": null,\n        \"min\": 379,\n        \"max\": 379,\n        \"num_unique_values\": 1,\n        \"samples\": [\n          379\n        ],\n        \"semantic_type\": \"\",\n        \"description\": \"\"\n      }\n    },\n    {\n      \"column\": \"C\",\n      \"properties\": {\n        \"dtype\": \"number\",\n        \"std\": null,\n        \"min\": 339,\n        \"max\": 339,\n        \"num_unique_values\": 1,\n        \"samples\": [\n          339\n        ],\n        \"semantic_type\": \"\",\n        \"description\": \"\"\n      }\n    },\n    {\n      \"column\": \"G\",\n      \"properties\": {\n        \"dtype\": \"number\",\n        \"std\": null,\n        \"min\": 378,\n        \"max\": 378,\n        \"num_unique_values\": 1,\n        \"samples\": [\n          378\n        ],\n        \"semantic_type\": \"\",\n        \"description\": \"\"\n      }\n    },\n    {\n      \"column\": \"T\",\n      \"properties\": {\n        \"dtype\": \"number\",\n        \"std\": null,\n        \"min\": 332,\n        \"max\": 332,\n        \"num_unique_values\": 1,\n        \"samples\": [\n          332\n        ],\n        \"semantic_type\": \"\",\n        \"description\": \"\"\n      }\n    }\n  ]\n}"
            }
          },
          "metadata": {}
        }
      ],
      "source": [
        "# --- BLASTn mini-API: find similar DNA and download top hits ---\n",
        "from Bio import Entrez, SeqIO\n",
        "from Bio.Blast import NCBIWWW, NCBIXML\n",
        "import os, csv, time\n",
        "\n",
        "# REQUIRED by NCBI: set your email (students: put YOUR email)\n",
        "Entrez.email = \"your_email@university.edu\"  # <-- change me\n",
        "API_KEY = None  # optional: paste NCBI API key to raise rate limits\n",
        "\n",
        "# Read first record as query\n",
        "rec = next(SeqIO.parse(FASTA_PATH, \"fasta\"))\n",
        "query_seq = str(rec.seq)\n",
        "print(f\"🔎 Query record: {rec.id} (len={len(rec)} nt)\")\n",
        "\n",
        "# Run BLASTn vs nt (fast & familiar for L02)\n",
        "print(\"⏳ Running BLASTn vs nt …\")\n",
        "blast_handle = NCBIWWW.qblast(\n",
        "    program=\"blastn\",\n",
        "    database=\"nt\",\n",
        "    sequence=query_seq,\n",
        "    expect=1e-5,\n",
        "    megablast=True,\n",
        "    filter=\"L\",                # low-complexity filter\n",
        "    entrez_query=None          # no organism filter in L02\n",
        ")\n",
        "blast_xml = blast_handle.read()\n",
        "blast_handle.close()\n",
        "\n",
        "# Save XML (reproducibility)\n",
        "xml_path = f\"{OUTPUT_DIR}/blastn_results.xml\"\n",
        "with open(xml_path, \"w\") as f:\n",
        "    f.write(blast_xml)\n",
        "print(\"💾 Saved BLAST XML:\", xml_path)\n",
        "\n",
        "# Parse top hits\n",
        "record = NCBIXML.read(__import__(\"io\").StringIO(blast_xml))\n",
        "assert record.alignments, \"BLAST returned no hits. Try a different sequence.\"\n",
        "\n",
        "top_n = 10\n",
        "hits = []\n",
        "for aln in record.alignments[:top_n]:\n",
        "    hsp = aln.hsps[0]\n",
        "    hits.append({\n",
        "        \"title\": aln.title,\n",
        "        \"accession\": aln.accession,\n",
        "        \"length\": aln.length,\n",
        "        \"identity\": hsp.identities,\n",
        "        \"align_len\": hsp.align_length,\n",
        "        \"pct_identity\": round(100.0 * hsp.identities / hsp.align_length, 2)\n",
        "    })\n",
        "\n",
        "# Fetch FASTA for each hit\n",
        "def efetch_fasta(acc):\n",
        "    params = dict(db=\"nuccore\", id=acc, rettype=\"fasta\", retmode=\"text\")\n",
        "    if API_KEY: params[\"api_key\"] = API_KEY\n",
        "    with Entrez.efetch(**params) as h:\n",
        "        return h.read()\n",
        "\n",
        "fasta_out = f\"{OUTPUT_DIR}/blastn_top_hits.fasta\"\n",
        "csv_out   = f\"{OUTPUT_DIR}/blastn_top_hits_summary.csv\"\n",
        "\n",
        "with open(fasta_out, \"w\") as fa, open(csv_out, \"w\", newline=\"\") as cs:\n",
        "    writer = csv.DictWriter(cs, fieldnames=list(hits[0].keys()))\n",
        "    writer.writeheader()\n",
        "    for i, h in enumerate(hits, 1):\n",
        "        try:\n",
        "            fa.write(efetch_fasta(h[\"accession\"]))\n",
        "            writer.writerow(h)\n",
        "            print(f\"  ✅ {i:02d}/{len(hits)} {h['accession']}  {h['pct_identity']}% id\")\n",
        "        except Exception as e:\n",
        "            print(f\"  ⚠️  Failed {h['accession']}: {e}\")\n",
        "        time.sleep(0.34 if not API_KEY else 0.1)  # be polite to NCBI\n",
        "\n",
        "print(f\"\\n💾 FASTA of hits   : {fasta_out}\")\n",
        "print(f\"💾 Hits summary CSV: {csv_out}\")"
      ]
    },
    {
      "cell_type": "markdown",
      "id": "60ea4bd6",
      "metadata": {
        "id": "60ea4bd6"
      },
      "source": [
        "\n",
        "## Cell 4 — (Optional) Quick visualization: identity distribution\n"
      ]
    },
    {
      "cell_type": "code",
      "source": [
        "# --- Quick plot of % identity for the top hits ---\n",
        "import pandas as pd\n",
        "import matplotlib.pyplot as plt\n",
        "\n",
        "df = pd.read_csv(csv_out)\n",
        "plt.figure()\n",
        "df[\"pct_identity\"].plot(kind=\"bar\")\n",
        "plt.title(\"% identity of BLASTn top hits\")\n",
        "plt.xlabel(\"Hit index\")\n",
        "plt.ylabel(\"% identity\")\n",
        "plt.tight_layout()\n",
        "\n",
        "png_path = f\"{OUTPUT_DIR}/blastn_identity_plot.png\"\n",
        "plt.savefig(png_path, dpi=150)\n",
        "print(\"💾 Saved plot:\", png_path)"
      ],
      "metadata": {
        "colab": {
          "base_uri": "https://localhost:8080/"
        },
        "id": "9LXfeS7gu2ad",
        "outputId": "28331351-c406-455c-e7a3-5847a01a9cad"
      },
      "id": "9LXfeS7gu2ad",
      "execution_count": null,
      "outputs": [
        {
          "output_type": "stream",
          "name": "stdout",
          "text": [
            "Translating sequences to protein...\n",
            "\n",
            ">unknown_seq\n",
            "MYEKLQPPSVGSKITFVAGKPVVPNDPIIPYIRGDGTGVDIWPATELVINAAIAKAYGGERKINWFKVYAGDEACELYGTYQYLPEDTLTAIKEYGVAIKGPLTTPVGGGIRSLNVALRQIFDLYTCVRPCRYYPGTPSPHKTPEKLDIIVYRENTEDIYLGIEWAEGTEGAKKLIAYLNDELIPTTPALGKKQIRLDSGIGIKPISKTGSQRLVRRAILHALRLPKAKQMVTLVHKGNIMKFTEGAFRDWGYELATTEFRAECVTERESWILGNKESNPDLTIEANAHMIDPGYDTLTEEKQAVIKQEVEQVLNSIWESHGNGQWKEKVMVNDRIADSIFQQIQTRPDEYSILATMNLNGDYLSDAAAAVVGGLGMGPGANIGDSAAIFEATHGTAPKHAGLDRINPGSVILSGVMMLEFMGWQEAADLIKKGIGAAIANREVTYDLARLMEPKVDKPLKCSEFAQAIVSHFDD\n",
            "\n",
            "✅ Translations saved to: /content/drive/MyDrive/Teaching/BIOINFO4-5203-F25/Outputs/L01_foundations/translated_proteins.fasta\n"
          ]
        }
      ]
    },
    {
      "cell_type": "markdown",
      "id": "ce02bc34",
      "metadata": {
        "id": "ce02bc34"
      },
      "source": [
        "## Cell 5 — Canvas summary (simple key/value printout)"
      ]
    },
    {
      "cell_type": "code",
      "execution_count": null,
      "id": "596d0be0",
      "metadata": {
        "colab": {
          "base_uri": "https://localhost:8080/"
        },
        "id": "596d0be0",
        "outputId": "fe3f2563-cae2-4766-c86e-8186776a8af8"
      },
      "outputs": [
        {
          "output_type": "stream",
          "name": "stdout",
          "text": [
            "💾 Saved CSV -> /content/drive/MyDrive/Teaching/BIOINFO4-5203-F25/Outputs/L01_foundations/seq_summary.csv\n",
            "🖼️ Saved PNG -> /content/drive/MyDrive/Teaching/BIOINFO4-5203-F25/Outputs/L01_foundations/lengths_barplot.png\n",
            "📦 Output dir listing: ['lengths_barplot.png', 'summary.txt', 'seq_summary.csv', 'translated_proteins.fasta']\n"
          ]
        }
      ],
      "source": [
        "# --- Summary for Canvas auto-grading / quick check ---\n",
        "summary = {\n",
        "    \"LECTURE\": LECTURE_CODE,\n",
        "    \"TOPIC\": TOPIC,\n",
        "    \"QUERY_FASTA\": os.path.basename(FASTA_PATH),\n",
        "    \"HITS_FASTA\": os.path.basename(fasta_out),\n",
        "    \"HITS_CSV\": os.path.basename(csv_out)\n",
        "}\n",
        "print(\"=== L02 SUMMARY ===\")\n",
        "for k,v in summary.items():\n",
        "    print(f\"{k}={v}\")\n",
        "\n",
        "with open(f\"{OUTPUT_DIR}/summary.txt\",\"w\") as f:\n",
        "    for k,v in summary.items():\n",
        "        f.write(f\"{k}={v}\\n\")\n",
        "print(\"💾 Wrote\", f\"{OUTPUT_DIR}/summary.txt\")"
      ]
    },
    {
      "cell_type": "markdown",
      "source": [
        "Now translate the sequence by running this code:"
      ],
      "metadata": {
        "id": "GB7VNxmNt2LU"
      },
      "id": "GB7VNxmNt2LU"
    },
    {
      "cell_type": "markdown",
      "id": "e7b1e8f5",
      "metadata": {
        "id": "e7b1e8f5"
      },
      "source": [
        "## E. Results summary (copy into Canvas if requested)"
      ]
    },
    {
      "cell_type": "code",
      "execution_count": null,
      "id": "f1ff22f6",
      "metadata": {
        "colab": {
          "base_uri": "https://localhost:8080/"
        },
        "id": "f1ff22f6",
        "outputId": "194224e4-52b6-40fc-ab78-222e75d7b864"
      },
      "outputs": [
        {
          "output_type": "stream",
          "name": "stdout",
          "text": [
            "📝 Saved summary -> /content/drive/MyDrive/Teaching/BIOINFO4-5203-F25/Outputs/L01_foundations/summary.txt\n",
            "=== SUMMARY ===\n",
            "LECTURE= L01\n",
            "TOPIC= foundations\n",
            "N_records= 1\n",
            "FASTA= unknown_seq_DNA.fasta\n"
          ]
        }
      ],
      "source": [
        "\n",
        "summary_path = f\"{OUTPUT_DIR}/summary.txt\"\n",
        "with open(summary_path, \"w\") as f:\n",
        "    f.write(f\"LECTURE={LECTURE_CODE}\\n\")\n",
        "    f.write(f\"TOPIC={TOPIC}\\n\")\n",
        "    f.write(f\"N_records={len(records)}\\n\")\n",
        "    f.write(f\"FASTA={os.path.basename(fasta_path)}\\n\")\n",
        "print(\"📝 Saved summary ->\", summary_path)\n",
        "\n",
        "print(\"=== SUMMARY ===\")\n",
        "print(\"LECTURE=\", LECTURE_CODE)\n",
        "print(\"TOPIC=\", TOPIC)\n",
        "print(\"N_records=\", len(records))\n",
        "print(\"FASTA=\", os.path.basename(fasta_path))\n"
      ]
    },
    {
      "cell_type": "markdown",
      "id": "67332d7d",
      "metadata": {
        "id": "67332d7d"
      },
      "source": [
        "\n",
        "## F. Export & submit\n",
        "- **File → Print → Save as PDF**, then upload the PDF and `.ipynb` to Canvas.  \n",
        "- Ensure your `Outputs/` folder contains: `seq_summary.csv`, `lengths_barplot.png`, and `summary.txt`.\n"
      ]
    }
  ],
  "metadata": {
    "colab": {
      "provenance": [],
      "include_colab_link": true
    },
    "language_info": {
      "name": "python"
    },
    "kernelspec": {
      "name": "python3",
      "display_name": "Python 3"
    }
  },
  "nbformat": 4,
  "nbformat_minor": 5
}