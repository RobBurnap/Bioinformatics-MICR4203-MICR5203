{
  "cells": [
    {
      "cell_type": "markdown",
      "metadata": {
        "id": "view-in-github",
        "colab_type": "text"
      },
      "source": [
        "<a href=\"https://colab.research.google.com/github/RobBurnap/Bioinformatics-MICR4203-MICR5203/blob/main/notebooks/L01_foundations_week1.ipynb\" target=\"_parent\"><img src=\"https://colab.research.google.com/assets/colab-badge.svg\" alt=\"Open In Colab\"/></a>"
      ]
    },
    {
      "cell_type": "markdown",
      "id": "275544ee",
      "metadata": {
        "id": "275544ee"
      },
      "source": [
        "\n",
        "# BIOINFO4/5203 — Week 1 Exercise (Foundations)\n",
        "\n",
        "**Goals for today**\n",
        "- Mount Google Drive and create your course folders\n",
        "- Load a small FASTA file\n",
        "- Compute simple sequence statistics\n",
        "- Save a plot and a summary text into your `Outputs/` folder\n",
        "\n",
        "> **Deliverables to Canvas:** the executed notebook (`.ipynb`) and a PDF export with outputs visible.\n"
      ]
    },
    {
      "cell_type": "markdown",
      "id": "90eec995",
      "metadata": {
        "id": "90eec995"
      },
      "source": [
        "## A. Setup — install dependencies & mount Drive"
      ]
    },
    {
      "cell_type": "code",
      "execution_count": 2,
      "id": "269c6b87",
      "metadata": {
        "colab": {
          "base_uri": "https://localhost:8080/"
        },
        "id": "269c6b87",
        "outputId": "0c7c7972-7f52-463e-b4aa-05aea080ada6"
      },
      "outputs": [
        {
          "output_type": "stream",
          "name": "stdout",
          "text": [
            "Mounted at /content/drive\n",
            "✅ Dependencies installed & Drive mounted.\n"
          ]
        }
      ],
      "source": [
        "\n",
        "# Install FIRST, then import\n",
        "%pip install -q biopython\n",
        "\n",
        "from google.colab import drive; drive.mount('/content/drive')\n",
        "\n",
        "import os, pandas as pd\n",
        "from Bio import SeqIO\n",
        "import matplotlib.pyplot as plt\n",
        "\n",
        "print(\"✅ Dependencies installed & Drive mounted.\")\n"
      ]
    },
    {
      "cell_type": "markdown",
      "id": "42fa44d1",
      "metadata": {
        "id": "42fa44d1"
      },
      "source": [
        "\n",
        "## B. Course folders\n",
        "\n",
        "Edit only `LECTURE_CODE` and `TOPIC` if needed. All inputs will live in `Data/LECTURE_TOPIC` and outputs in `Outputs/LECTURE_TOPIC`.\n"
      ]
    },
    {
      "cell_type": "code",
      "execution_count": null,
      "id": "66b0e9d7",
      "metadata": {
        "id": "66b0e9d7"
      },
      "outputs": [],
      "source": [
        "\n",
        "# --- Course folder config (customize LECTURE_CODE/TOPIC only) ---\n",
        "COURSE_DIR   = \"/content/drive/MyDrive/Teaching/BIOINFO4-5203-F25\"\n",
        "LECTURE_CODE = \"L01\"            # change per week (e.g., L02, L03, ...)\n",
        "TOPIC        = \"foundations\"    # short slug for the exercise\n",
        "\n",
        "# Derived paths (do not change)\n",
        "DATA_DIR   = f\"{COURSE_DIR}/Data/{LECTURE_CODE}_{TOPIC}\"\n",
        "OUTPUT_DIR = f\"{COURSE_DIR}/Outputs/{LECTURE_CODE}_{TOPIC}\"\n",
        "\n",
        "# Create folder structure if missing\n",
        "for p in [f\"{COURSE_DIR}/Data\", f\"{COURSE_DIR}/Outputs\", f\"{COURSE_DIR}/Notebooks\", DATA_DIR, OUTPUT_DIR]:\n",
        "    os.makedirs(p, exist_ok=True)\n",
        "\n",
        "print(\"📁 COURSE_DIR :\", COURSE_DIR)\n",
        "print(\"📁 DATA_DIR   :\", DATA_DIR)\n",
        "print(\"📁 OUTPUT_DIR :\", OUTPUT_DIR)\n"
      ]
    },
    {
      "cell_type": "markdown",
      "id": "a23b0920",
      "metadata": {
        "id": "a23b0920"
      },
      "source": [
        "\n",
        "### Optional: create a tiny demo FASTA (runs only if none found)\n",
        "If you already placed a FASTA file in `Data/`, you can skip this. Otherwise, run this cell to generate a small example.\n"
      ]
    },
    {
      "cell_type": "code",
      "execution_count": null,
      "id": "bf01e448",
      "metadata": {
        "id": "bf01e448"
      },
      "outputs": [],
      "source": [
        "\n",
        "# Write a tiny demo FASTA only if none exists yet\n",
        "existing_fastas = [f for f in os.listdir(DATA_DIR) if f.lower().endswith((\".fa\", \".fasta\", \".faa\"))]\n",
        "if not existing_fastas:\n",
        "    demo_fa = f\"{DATA_DIR}/demo.fasta\"\n",
        "    with open(demo_fa, \"w\") as f:\n",
        "        f.write(\">seqA\\nMSTNPKPQRK\\n>seqB\\nMSSSNTATAP\\n>seqC\\nATGGGCCCTTTAA\\n\")\n",
        "    print(\"🧪 Created demo FASTA:\", demo_fa)\n",
        "else:\n",
        "    print(\"✅ FASTA already present:\", existing_fastas)\n"
      ]
    },
    {
      "cell_type": "markdown",
      "id": "60ea4bd6",
      "metadata": {
        "id": "60ea4bd6"
      },
      "source": [
        "\n",
        "## C. Student instructions\n",
        "1. Put a small FASTA file into your data folder shown above (or use the demo created).  \n",
        "2. Run the next cells to load, summarize, and plot your sequences.  \n",
        "3. Confirm that outputs are written into your `Outputs/` folder for this week.\n"
      ]
    },
    {
      "cell_type": "code",
      "execution_count": null,
      "id": "2cd941d3",
      "metadata": {
        "id": "2cd941d3"
      },
      "outputs": [],
      "source": [
        "\n",
        "# Find a FASTA file in DATA_DIR\n",
        "fasta_path = None\n",
        "for fname in os.listdir(DATA_DIR):\n",
        "    if fname.lower().endswith((\".fa\", \".fasta\", \".faa\")):\n",
        "        fasta_path = f\"{DATA_DIR}/{fname}\"\n",
        "        break\n",
        "assert fasta_path, \"No FASTA found in Data/. Add a FASTA or run the demo cell above.\"\n",
        "\n",
        "# Parse sequences\n",
        "records = list(SeqIO.parse(fasta_path, \"fasta\"))\n",
        "assert len(records) > 0, \"No records found in FASTA.\"\n",
        "ids = [r.id for r in records]\n",
        "lengths = [len(r.seq) for r in records]\n",
        "\n",
        "# Compute base composition (A,C,G,T) or amino acids if protein\n",
        "def base_counts(seq):\n",
        "    s = str(seq).upper()\n",
        "    return {\n",
        "        \"A\": s.count(\"A\"),\n",
        "        \"C\": s.count(\"C\"),\n",
        "        \"G\": s.count(\"G\"),\n",
        "        \"T\": s.count(\"T\")\n",
        "    }\n",
        "\n",
        "comps = [base_counts(r.seq) for r in records]\n",
        "\n",
        "import pandas as pd\n",
        "df = pd.DataFrame({\n",
        "    \"id\": ids,\n",
        "    \"length\": lengths,\n",
        "    \"A\": [c[\"A\"] for c in comps],\n",
        "    \"C\": [c[\"C\"] for c in comps],\n",
        "    \"G\": [c[\"G\"] for c in comps],\n",
        "    \"T\": [c[\"T\"] for c in comps],\n",
        "})\n",
        "\n",
        "print(\"🔎 Parsed:\", fasta_path)\n",
        "display(df)\n"
      ]
    },
    {
      "cell_type": "markdown",
      "id": "ce02bc34",
      "metadata": {
        "id": "ce02bc34"
      },
      "source": [
        "## D. Save outputs (CSV + PNG)"
      ]
    },
    {
      "cell_type": "code",
      "execution_count": null,
      "id": "596d0be0",
      "metadata": {
        "id": "596d0be0"
      },
      "outputs": [],
      "source": [
        "\n",
        "# Save CSV\n",
        "csv_path = f\"{OUTPUT_DIR}/seq_summary.csv\"\n",
        "df.to_csv(csv_path, index=False)\n",
        "print(\"💾 Saved CSV ->\", csv_path)\n",
        "\n",
        "# Plot lengths\n",
        "plt.figure()\n",
        "df.set_index(\"id\")[\"length\"].plot(kind=\"bar\")\n",
        "plt.title(\"Sequence lengths\")\n",
        "plt.xlabel(\"Sequence ID\"); plt.ylabel(\"Length\")\n",
        "png_path = f\"{OUTPUT_DIR}/lengths_barplot.png\"\n",
        "plt.savefig(png_path, bbox_inches=\"tight\")\n",
        "plt.close()\n",
        "print(\"🖼️ Saved PNG ->\", png_path)\n",
        "\n",
        "# Verify directory contents\n",
        "print(\"📦 Output dir listing:\", os.listdir(OUTPUT_DIR))\n"
      ]
    },
    {
      "cell_type": "markdown",
      "id": "e7b1e8f5",
      "metadata": {
        "id": "e7b1e8f5"
      },
      "source": [
        "## E. Results summary (copy into Canvas if requested)"
      ]
    },
    {
      "cell_type": "code",
      "execution_count": null,
      "id": "f1ff22f6",
      "metadata": {
        "id": "f1ff22f6"
      },
      "outputs": [],
      "source": [
        "\n",
        "summary_path = f\"{OUTPUT_DIR}/summary.txt\"\n",
        "with open(summary_path, \"w\") as f:\n",
        "    f.write(f\"LECTURE={LECTURE_CODE}\\n\")\n",
        "    f.write(f\"TOPIC={TOPIC}\\n\")\n",
        "    f.write(f\"N_records={len(records)}\\n\")\n",
        "    f.write(f\"FASTA={os.path.basename(fasta_path)}\\n\")\n",
        "print(\"📝 Saved summary ->\", summary_path)\n",
        "\n",
        "print(\"=== SUMMARY ===\")\n",
        "print(\"LECTURE=\", LECTURE_CODE)\n",
        "print(\"TOPIC=\", TOPIC)\n",
        "print(\"N_records=\", len(records))\n",
        "print(\"FASTA=\", os.path.basename(fasta_path))\n"
      ]
    },
    {
      "cell_type": "markdown",
      "id": "67332d7d",
      "metadata": {
        "id": "67332d7d"
      },
      "source": [
        "\n",
        "## F. Export & submit\n",
        "- **File → Print → Save as PDF**, then upload the PDF and `.ipynb` to Canvas.  \n",
        "- Ensure your `Outputs/` folder contains: `seq_summary.csv`, `lengths_barplot.png`, and `summary.txt`.\n"
      ]
    }
  ],
  "metadata": {
    "colab": {
      "provenance": [],
      "include_colab_link": true
    },
    "language_info": {
      "name": "python"
    },
    "kernelspec": {
      "name": "python3",
      "display_name": "Python 3"
    }
  },
  "nbformat": 4,
  "nbformat_minor": 5
}