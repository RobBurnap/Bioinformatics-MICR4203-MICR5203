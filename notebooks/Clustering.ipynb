{
  "nbformat": 4,
  "nbformat_minor": 0,
  "metadata": {
    "colab": {
      "provenance": [],
      "authorship_tag": "ABX9TyPi0LWpPXOdbq6VLFIN6/fD",
      "include_colab_link": true
    },
    "kernelspec": {
      "name": "python3",
      "display_name": "Python 3"
    },
    "language_info": {
      "name": "python"
    }
  },
  "cells": [
    {
      "cell_type": "markdown",
      "metadata": {
        "id": "view-in-github",
        "colab_type": "text"
      },
      "source": [
        "<a href=\"https://colab.research.google.com/github/RobBurnap/Bioinformatics-MICR4203-MICR5203/blob/main/notebooks/Clustering.ipynb\" target=\"_parent\"><img src=\"https://colab.research.google.com/assets/colab-badge.svg\" alt=\"Open In Colab\"/></a>"
      ]
    },
    {
      "cell_type": "markdown",
      "source": [
        "**K-means Clustering Example;**\n",
        "\n",
        "based on example from Alex Burnap, Yale University\n",
        "In this example, we will use k-means to find centers of clusters within our data. Our dataset will be generated synthetically using 2 dimensions and 3 clusters. We will then pretend not to know the number of clusters, and use the k-means algorithm to iterate over 1,2,3,...10 different clusters. By plotting out the \"clustering error,\" we will be able to estimate that the number of clusters is indeed 3. In addition,\n"
      ],
      "metadata": {
        "id": "MJLGOzvuXe1w"
      }
    },
    {
      "cell_type": "code",
      "metadata": {
        "colab": {
          "base_uri": "https://localhost:8080/"
        },
        "id": "9e7ce317",
        "outputId": "02cd503a-34ff-47ff-c0fd-9e97a038a0ce"
      },
      "source": [
        "%pip install biopython"
      ],
      "execution_count": 1,
      "outputs": [
        {
          "output_type": "stream",
          "name": "stdout",
          "text": [
            "Collecting biopython\n",
            "  Downloading biopython-1.85-cp312-cp312-manylinux_2_17_x86_64.manylinux2014_x86_64.whl.metadata (13 kB)\n",
            "Requirement already satisfied: numpy in /usr/local/lib/python3.12/dist-packages (from biopython) (2.0.2)\n",
            "Downloading biopython-1.85-cp312-cp312-manylinux_2_17_x86_64.manylinux2014_x86_64.whl (3.3 MB)\n",
            "\u001b[2K   \u001b[90m━━━━━━━━━━━━━━━━━━━━━━━━━━━━━━━━━━━━━━━━\u001b[0m \u001b[32m3.3/3.3 MB\u001b[0m \u001b[31m29.1 MB/s\u001b[0m eta \u001b[36m0:00:00\u001b[0m\n",
            "\u001b[?25hInstalling collected packages: biopython\n",
            "Successfully installed biopython-1.85\n"
          ]
        }
      ]
    },
    {
      "cell_type": "code",
      "metadata": {
        "id": "7f2f4e96"
      },
      "source": [
        "# First lets import the libraries we will need\n",
        "import numpy as np\n",
        "import matplotlib.pyplot as plt\n",
        "%matplotlib inline\n",
        "import matplotlib.pyplot as plt\n",
        "plt.rcParams[\"figure.figsize\"] = (6,4)  # default size"
      ],
      "execution_count": 2,
      "outputs": []
    },
    {
      "cell_type": "code",
      "source": [
        "%matplotlib inline"
      ],
      "metadata": {
        "id": "1-WHXzvaX-Sv"
      },
      "execution_count": 3,
      "outputs": []
    },
    {
      "cell_type": "markdown",
      "source": [
        "## First let's generate some synthetic data\n",
        "#### We use the convention that all data is contained in a $NxM$ data matrix denoted $\\textbf{X}$, in other words $N$ datapoints where each $\\textbf{x}\\in\\textrm{R}^{M}$\n"
      ],
      "metadata": {
        "id": "R7Rfj728YxDK"
      }
    },
    {
      "cell_type": "code",
      "source": [
        "cluster1_mean, cluster2_mean, cluster3_mean = np.array([-1,1]), np.array([1,1]), np.array([1,-1])"
      ],
      "metadata": {
        "id": "i8rraNTwY3lI"
      },
      "execution_count": 4,
      "outputs": []
    },
    {
      "cell_type": "code",
      "source": [
        "print (cluster1_mean)\n",
        "print (cluster2_mean)\n",
        "print (cluster3_mean)"
      ],
      "metadata": {
        "colab": {
          "base_uri": "https://localhost:8080/"
        },
        "id": "8j6yFYvrZW2K",
        "outputId": "fe0c0a84-8c90-4f6d-a216-0d10d67c9cad"
      },
      "execution_count": 5,
      "outputs": [
        {
          "output_type": "stream",
          "name": "stdout",
          "text": [
            "[-1  1]\n",
            "[1 1]\n",
            "[ 1 -1]\n"
          ]
        }
      ]
    },
    {
      "cell_type": "markdown",
      "source": [
        "#### Now that we have defined our 3 cluster centers in two dimensions $M=2$, we will create 25 randomly distributed data points per cluster for a total of 75 total data points $N=75$.  We will assume these randomly distributed datapoints are Gaussian distributed with $\\mu=0$ and $\\sigma^{2}= 0.1$"
      ],
      "metadata": {
        "id": "I7JPcW4tZeuE"
      }
    },
    {
      "cell_type": "code",
      "source": [
        "# Note that we need to convert a \"standard Gaussian\" to our scaled Gaussian by multiplying by sigma and adding mu\n",
        "cluster1_X = cluster1_mean + np.random.randn(25,2) * np.sqrt(0.01)\n",
        "cluster2_X = cluster2_mean + np.random.randn(25,2) *np.sqrt(0.01)\n",
        "cluster3_X = cluster3_mean + np.random.randn(25,2) * np.sqrt(0.01)"
      ],
      "metadata": {
        "id": "BA6DPO7kZgr2"
      },
      "execution_count": 6,
      "outputs": []
    },
    {
      "cell_type": "code",
      "source": [
        "print (cluster1_X), print (cluster2_X), print (cluster3_X)"
      ],
      "metadata": {
        "colab": {
          "base_uri": "https://localhost:8080/"
        },
        "id": "2gF3ThNTZsTm",
        "outputId": "212eb951-05a3-4fe0-94ac-4351bf7aeac4"
      },
      "execution_count": 7,
      "outputs": [
        {
          "output_type": "stream",
          "name": "stdout",
          "text": [
            "[[-0.90183902  0.77150254]\n",
            " [-1.05638936  0.99452085]\n",
            " [-1.13342468  0.98408424]\n",
            " [-1.12586591  1.06910615]\n",
            " [-0.97217515  0.91633707]\n",
            " [-1.0240342   0.93733101]\n",
            " [-0.9056951   1.27193151]\n",
            " [-0.89054732  1.03218792]\n",
            " [-0.77046886  1.0020498 ]\n",
            " [-1.03810089  0.90197079]\n",
            " [-0.86105488  1.00022928]\n",
            " [-1.07189714  1.06831873]\n",
            " [-0.91148942  1.03889708]\n",
            " [-1.17191836  1.1716252 ]\n",
            " [-0.93918192  1.06871029]\n",
            " [-1.11614962  0.98459633]\n",
            " [-1.05346887  0.93915804]\n",
            " [-0.8995241   1.00826324]\n",
            " [-1.18760468  0.95462389]\n",
            " [-1.14774278  0.97426509]\n",
            " [-1.08187405  1.11568516]\n",
            " [-1.19006741  1.04113754]\n",
            " [-1.1883367   1.03934241]\n",
            " [-1.03544784  1.02739544]\n",
            " [-1.30092451  0.83262238]]\n",
            "[[1.48061101 0.68961797]\n",
            " [1.17080669 1.40609472]\n",
            " [1.22673691 1.05149201]\n",
            " [0.97675422 1.16039196]\n",
            " [0.8143438  0.78419697]\n",
            " [0.61543259 1.11208112]\n",
            " [1.07065819 1.15362042]\n",
            " [1.16411645 1.59936475]\n",
            " [1.36418802 1.13269306]\n",
            " [1.03168976 1.36814002]\n",
            " [1.31002549 0.92040496]\n",
            " [1.22956378 0.8040147 ]\n",
            " [0.98795268 1.1095031 ]\n",
            " [1.19324293 1.2366267 ]\n",
            " [1.58053927 0.78273083]\n",
            " [1.24049498 1.13592257]\n",
            " [1.11662968 1.13384863]\n",
            " [1.00530423 0.77095516]\n",
            " [0.9281868  1.12475085]\n",
            " [1.44099266 0.92739718]\n",
            " [1.23755772 1.17176677]\n",
            " [1.47996263 1.10265498]\n",
            " [0.80322674 0.59740406]\n",
            " [1.04714306 1.20218971]\n",
            " [0.85410186 1.16423817]]\n",
            "[[ 0.92142176 -0.9965531 ]\n",
            " [ 0.94337414 -0.98197568]\n",
            " [ 1.06405502 -0.98909312]\n",
            " [ 0.90234293 -0.99702595]\n",
            " [ 0.92971897 -1.1111379 ]\n",
            " [ 1.05686758 -1.05677331]\n",
            " [ 0.92677082 -1.02482755]\n",
            " [ 0.91831595 -1.01053347]\n",
            " [ 1.0270954  -0.8164792 ]\n",
            " [ 1.03597079 -0.9640545 ]\n",
            " [ 0.94307179 -0.9113417 ]\n",
            " [ 1.0520542  -0.92627024]\n",
            " [ 0.87678842 -0.8802825 ]\n",
            " [ 0.99900167 -0.97100322]\n",
            " [ 0.88628792 -0.97586526]\n",
            " [ 0.91072034 -1.13164286]\n",
            " [ 1.045371   -1.01103603]\n",
            " [ 1.06498678 -0.83919081]\n",
            " [ 0.94189065 -0.90231567]\n",
            " [ 0.84484501 -1.14822578]\n",
            " [ 0.92421345 -0.93648609]\n",
            " [ 1.02572454 -0.96304549]\n",
            " [ 1.08634993 -0.98720942]\n",
            " [ 1.05167071 -1.06830161]\n",
            " [ 0.98118977 -0.92983956]]\n"
          ]
        },
        {
          "output_type": "execute_result",
          "data": {
            "text/plain": [
              "(None, None, None)"
            ]
          },
          "metadata": {},
          "execution_count": 7
        }
      ]
    },
    {
      "cell_type": "markdown",
      "source": [
        "#### Now let's concatenate our 3 datasets to our full dataset denoted $\\textbf{X}$"
      ],
      "metadata": {
        "id": "sex_PjP1Z1_6"
      }
    },
    {
      "cell_type": "code",
      "source": [
        "X = np.concatenate( (cluster1_X, cluster2_X, cluster3_X), axis=0)"
      ],
      "metadata": {
        "id": "5rFqXnJeaF42"
      },
      "execution_count": 8,
      "outputs": []
    },
    {
      "cell_type": "code",
      "source": [
        "np.random.shuffle(X)"
      ],
      "metadata": {
        "id": "wTJmqU9mbOYA"
      },
      "execution_count": 9,
      "outputs": []
    },
    {
      "cell_type": "code",
      "source": [
        "print (cluster1_X)"
      ],
      "metadata": {
        "colab": {
          "base_uri": "https://localhost:8080/"
        },
        "id": "U2vmIUF2Z2zf",
        "outputId": "515711eb-9a26-499b-daf1-5581b4797933"
      },
      "execution_count": 10,
      "outputs": [
        {
          "output_type": "stream",
          "name": "stdout",
          "text": [
            "[[-0.90183902  0.77150254]\n",
            " [-1.05638936  0.99452085]\n",
            " [-1.13342468  0.98408424]\n",
            " [-1.12586591  1.06910615]\n",
            " [-0.97217515  0.91633707]\n",
            " [-1.0240342   0.93733101]\n",
            " [-0.9056951   1.27193151]\n",
            " [-0.89054732  1.03218792]\n",
            " [-0.77046886  1.0020498 ]\n",
            " [-1.03810089  0.90197079]\n",
            " [-0.86105488  1.00022928]\n",
            " [-1.07189714  1.06831873]\n",
            " [-0.91148942  1.03889708]\n",
            " [-1.17191836  1.1716252 ]\n",
            " [-0.93918192  1.06871029]\n",
            " [-1.11614962  0.98459633]\n",
            " [-1.05346887  0.93915804]\n",
            " [-0.8995241   1.00826324]\n",
            " [-1.18760468  0.95462389]\n",
            " [-1.14774278  0.97426509]\n",
            " [-1.08187405  1.11568516]\n",
            " [-1.19006741  1.04113754]\n",
            " [-1.1883367   1.03934241]\n",
            " [-1.03544784  1.02739544]\n",
            " [-1.30092451  0.83262238]]\n"
          ]
        }
      ]
    },
    {
      "cell_type": "markdown",
      "source": [
        "## Now let's plot our data to see what it looks like"
      ],
      "metadata": {
        "id": "Ld2uSidbbZFS"
      }
    },
    {
      "cell_type": "code",
      "source": [
        "plt.scatter(X[:,0], X[:,1])\n",
        "plt.title(\"Full dataset plot\", fontsize=20)\n",
        "plt.show()"
      ],
      "metadata": {
        "colab": {
          "base_uri": "https://localhost:8080/",
          "height": 399
        },
        "id": "zHuBkrTwba4Q",
        "outputId": "46693732-4db1-4842-af33-fc7c1450e5d2"
      },
      "execution_count": 11,
      "outputs": [
        {
          "output_type": "display_data",
          "data": {
            "text/plain": [
              "<Figure size 600x400 with 1 Axes>"
            ],
            "image/png": "[encoded data removed]"
          },
          "metadata": {}
        }
      ]
    },
    {
      "cell_type": "markdown",
      "source": [
        "## Let's cluster this data"
      ],
      "metadata": {
        "id": "WtfAuTbGblua"
      }
    },
    {
      "cell_type": "markdown",
      "source": [
        "#### This dataset is 2 dimensional $M=2$ and has 75 datapoints $N=75$; while we know that there are 3 clusters since we made the data, in a real problem we will not know the number of clusters and just know $N$ and $M$.  By convention, we often denote the number of clusters as $k$"
      ],
      "metadata": {
        "id": "1w1hpoj9bnVy"
      }
    },
    {
      "cell_type": "code",
      "source": [
        "# This is the k-means clustering function we are interested in\n",
        "from Bio.Cluster import kcluster"
      ],
      "metadata": {
        "id": "MktPo8tabsQ5"
      },
      "execution_count": 12,
      "outputs": []
    },
    {
      "cell_type": "code",
      "source": [
        "#Let's check out the arguments and output of this function\n",
        "kcluster?"
      ],
      "metadata": {
        "id": "RlH3LPYAb0Uy"
      },
      "execution_count": 13,
      "outputs": []
    },
    {
      "cell_type": "code",
      "source": [
        "kcluster(data=X,nclusters=4)"
      ],
      "metadata": {
        "colab": {
          "base_uri": "https://localhost:8080/"
        },
        "id": "4ljSage7b1VP",
        "outputId": "8303afde-b3c7-4b5e-d903-c5050adf3bbf"
      },
      "execution_count": 14,
      "outputs": [
        {
          "output_type": "execute_result",
          "data": {
            "text/plain": [
              "(array([2, 2, 0, 3, 0, 2, 0, 3, 1, 0, 2, 2, 3, 3, 0, 0, 1, 0, 0, 0, 1, 3,\n",
              "        3, 2, 3, 0, 2, 3, 0, 3, 2, 1, 3, 3, 0, 3, 3, 3, 0, 2, 0, 0, 0, 1,\n",
              "        1, 0, 1, 0, 0, 2, 3, 2, 3, 3, 3, 1, 3, 0, 2, 2, 0, 1, 3, 3, 3, 3,\n",
              "        0, 0, 0, 0, 3, 2, 2, 2, 3], dtype=int32),\n",
              " 1.6519304516821989,\n",
              " 1)"
            ]
          },
          "metadata": {},
          "execution_count": 14
        }
      ]
    },
    {
      "cell_type": "markdown",
      "source": [
        "#### As we can see from the docstring, the kcluster function has a number of arguments:\n",
        "kcluster(data, nclusters=2, mask=None, weight=None,\n",
        "         transpose=0, npass=1, method='a', dist='e',\n",
        "         initialid=None) -> clusterid, error, nfound\n",
        "#### We will be most interested in the number of clusters $\\textrm{nclusters}$ and the distance function $\\textrm{dist}$."
      ],
      "metadata": {
        "id": "R_GJ41o6cWQV"
      }
    },
    {
      "cell_type": "markdown",
      "source": [
        "#### In general, clustering algorithms (and most machine learning algorithms) use a \"distance metric\" between all the datums in a dataset to obtain some notion of similarity between datapoints.  Using this notion of similarity, one can: (1) cluster similar points (i.e., unsupervised learning, in which we have no discrete or continuous classes); (2) classify similar points into different class labels (i.e., the discrete case); or (3) perform regression (i.e., the continous case).\n",
        "\n",
        "#### This distance metric is often a polynomial-based norm, such as the L0, L1, or L2 distance; or another distance metric such as the Pearson correlation coefficient or Kendall's Tau.  Each distance metric is used for different underlying assumptions on the data (and thus the underlying biology) of you problem.  Moreover, this can get confusing because many of these norms have equivalent names:\n",
        "#### L1 Norm = Manhattan distance, city-block distance, absolute deviation\n",
        "#### L2 Norm = Euclidean distance, Squared-error distance, Tikhonov distance, Vector norm difference"
      ],
      "metadata": {
        "id": "NDWzE2Urcdxd"
      }
    },
    {
      "cell_type": "code",
      "source": [
        "# Note that this will be default look for 2 clusters using the Euclidean distance\n",
        "kcluster(X)"
      ],
      "metadata": {
        "colab": {
          "base_uri": "https://localhost:8080/"
        },
        "id": "7EGF3P2PciT7",
        "outputId": "2f2622d7-82a6-4a46-a7ef-81f3fae20803"
      },
      "execution_count": 15,
      "outputs": [
        {
          "output_type": "execute_result",
          "data": {
            "text/plain": [
              "(array([0, 0, 0, 1, 0, 0, 0, 1, 0, 0, 0, 0, 1, 1, 0, 0, 0, 0, 0, 0, 0, 1,\n",
              "        1, 0, 1, 0, 0, 1, 0, 1, 0, 0, 1, 1, 0, 1, 1, 1, 0, 0, 0, 0, 0, 0,\n",
              "        0, 0, 0, 0, 0, 0, 1, 0, 1, 1, 1, 0, 1, 0, 0, 0, 0, 0, 1, 1, 1, 1,\n",
              "        0, 0, 0, 0, 1, 0, 0, 0, 1], dtype=int32),\n",
              " 31.355421372231305,\n",
              " 1)"
            ]
          },
          "metadata": {},
          "execution_count": 15
        }
      ]
    },
    {
      "cell_type": "code",
      "source": [
        "# This will use the default Euclidean distance but now we specify the number of clusters\n",
        "kcluster(X, nclusters=3)"
      ],
      "metadata": {
        "colab": {
          "base_uri": "https://localhost:8080/"
        },
        "id": "n32_3uKOcv1C",
        "outputId": "31b63004-3849-4d51-8e14-5402b64a2110"
      },
      "execution_count": 16,
      "outputs": [
        {
          "output_type": "execute_result",
          "data": {
            "text/plain": [
              "(array([0, 0, 2, 1, 2, 0, 2, 1, 0, 2, 0, 0, 1, 1, 2, 2, 0, 2, 2, 2, 0, 1,\n",
              "        1, 0, 1, 2, 0, 1, 2, 1, 0, 0, 1, 1, 2, 1, 1, 1, 2, 0, 2, 2, 2, 0,\n",
              "        0, 2, 0, 2, 2, 0, 1, 0, 1, 1, 1, 0, 1, 2, 0, 0, 2, 0, 1, 1, 1, 1,\n",
              "        2, 2, 2, 2, 1, 0, 0, 0, 1], dtype=int32),\n",
              " 1.7987176603964041,\n",
              " 1)"
            ]
          },
          "metadata": {},
          "execution_count": 16
        }
      ]
    },
    {
      "cell_type": "code",
      "source": [
        "kcluster(X, nclusters=4)"
      ],
      "metadata": {
        "colab": {
          "base_uri": "https://localhost:8080/"
        },
        "id": "0ydP3EMDc2wy",
        "outputId": "243535a4-9d73-42b8-b093-43be68b7399e"
      },
      "execution_count": 17,
      "outputs": [
        {
          "output_type": "execute_result",
          "data": {
            "text/plain": [
              "(array([3, 3, 0, 2, 0, 3, 1, 2, 3, 0, 3, 3, 2, 2, 0, 0, 3, 1, 1, 0, 3, 2,\n",
              "        2, 3, 2, 0, 3, 2, 0, 2, 3, 3, 2, 2, 1, 2, 2, 2, 1, 3, 0, 0, 0, 3,\n",
              "        3, 0, 3, 0, 0, 3, 2, 3, 2, 2, 2, 3, 2, 0, 3, 3, 0, 3, 2, 2, 2, 2,\n",
              "        0, 0, 1, 1, 2, 3, 3, 3, 2], dtype=int32),\n",
              " 1.3043940498106552,\n",
              " 1)"
            ]
          },
          "metadata": {},
          "execution_count": 17
        }
      ]
    },
    {
      "cell_type": "markdown",
      "source": [
        "#### We can see that the \"error\" of the L2 distance is an output of the function, in fact, let's plot it out as a function of number of clusters"
      ],
      "metadata": {
        "id": "oXNqblCUc7_J"
      }
    },
    {
      "cell_type": "code",
      "source": [
        "clustering_error = np.zeros(10)\n",
        "for i in range(10):\n",
        "    # Note that we take the \"1st\" element from the returned tuple, which is the \"error\"\n",
        "    # Also note that nclusters = i+1 since this needs to be >= 1\n",
        "    clustering_error[i] = kcluster(X, nclusters=i+1)[1]"
      ],
      "metadata": {
        "id": "ouyt1WZxc9nU"
      },
      "execution_count": 18,
      "outputs": []
    },
    {
      "cell_type": "code",
      "source": [
        "clustering_error"
      ],
      "metadata": {
        "colab": {
          "base_uri": "https://localhost:8080/"
        },
        "id": "50Mv9EoAdQjC",
        "outputId": "5df41548-b377-419f-a2c4-61f07c69b708"
      },
      "execution_count": 19,
      "outputs": [
        {
          "output_type": "execute_result",
          "data": {
            "text/plain": [
              "array([72.41056781, 28.14589327, 31.29972457,  1.29302978,  0.96065874,\n",
              "        0.78799538,  1.06607089,  0.63385411,  0.69202079,  0.64613918])"
            ]
          },
          "metadata": {},
          "execution_count": 19
        }
      ]
    },
    {
      "cell_type": "code",
      "source": [
        "plt.plot(np.arange(10)+1, clustering_error)\n",
        "plt.title(\"Clustering Error versus Number of Clusters\", fontsize=18)"
      ],
      "metadata": {
        "colab": {
          "base_uri": "https://localhost:8080/",
          "height": 414
        },
        "id": "j0YyBdlBdV-c",
        "outputId": "d464c669-59bf-4a30-80ca-ba5cf0a268ae"
      },
      "execution_count": 20,
      "outputs": [
        {
          "output_type": "execute_result",
          "data": {
            "text/plain": [
              "Text(0.5, 1.0, 'Clustering Error versus Number of Clusters')"
            ]
          },
          "metadata": {},
          "execution_count": 20
        },
        {
          "output_type": "display_data",
          "data": {
            "text/plain": [
              "<Figure size 600x400 with 1 Axes>"
            ],
            "image/png": "[encoded data removed]"
          },
          "metadata": {}
        }
      ]
    },
    {
      "cell_type": "markdown",
      "source": [
        "### As we can see, the clusering error \"shoulders\" at 3 clusters, suggesting this is the number of clusters we should be expecting -- in other words, in the limit that we have $N$ clusters, each data point has its own cluster so we"
      ],
      "metadata": {
        "id": "Qjby7xRXddwW"
      }
    },
    {
      "cell_type": "markdown",
      "source": [
        "### As we can see, the clusering error \"shoulders\" at 3 clusters, suggesting this is the number of clusters we should be expecting -- in other words, in the limit that we have $N$ clusters, each data point has its own cluster so we"
      ],
      "metadata": {
        "id": "2tBKbzOsdfCo"
      }
    },
    {
      "cell_type": "markdown",
      "source": [
        "##Now let's use k-means clustering to \"find\" the 3 clusters and color the data points by what we estimate for each datum's cluster membership"
      ],
      "metadata": {
        "id": "9rX0JUZaFMGF"
      }
    },
    {
      "cell_type": "markdown",
      "source": [
        "# Note that we will be taking the first output of this function, which is the \"estimated\" classes of the estimated clusters\n",
        "estimated_cluster_labels = kcluster(X, nclusters=3)[0]\n",
        "# Also note that we had to put [0] on the end since kcluster returns a tuple of the cluster labels and the estimation error"
      ],
      "metadata": {
        "id": "KVfis_nrFesd"
      }
    },
    {
      "cell_type": "code",
      "source": [
        "#Note that we will be taking the first output of this function, which is the \"estimated\" classes of the estimated clusters\n",
        "estimated_cluster_labels = kcluster(X, nclusters=3)[0]\n",
        "estimated_cluster_labels"
      ],
      "metadata": {
        "id": "fnq_2-WsF9_H",
        "outputId": "2110b72c-1e36-41bb-9de0-990b617c281e",
        "colab": {
          "base_uri": "https://localhost:8080/"
        }
      },
      "execution_count": 26,
      "outputs": [
        {
          "output_type": "execute_result",
          "data": {
            "text/plain": [
              "array([0, 0, 2, 1, 2, 0, 2, 1, 0, 2, 0, 0, 1, 1, 2, 2, 0, 2, 2, 2, 0, 1,\n",
              "       1, 0, 1, 2, 0, 1, 2, 1, 0, 0, 1, 1, 2, 1, 1, 1, 2, 0, 2, 2, 2, 0,\n",
              "       0, 2, 0, 2, 2, 0, 1, 0, 1, 1, 1, 0, 1, 2, 0, 0, 2, 0, 1, 1, 1, 1,\n",
              "       2, 2, 2, 2, 1, 0, 0, 0, 1], dtype=int32)"
            ]
          },
          "metadata": {},
          "execution_count": 26
        }
      ]
    },
    {
      "cell_type": "code",
      "source": [
        "plt.scatter(X[:,0], X[:,1], c='red')"
      ],
      "metadata": {
        "id": "8i2nxUKQGSNq",
        "outputId": "6af9d3cb-6db8-4f8d-dc09-367e06b1d8e7",
        "colab": {
          "base_uri": "https://localhost:8080/",
          "height": 386
        }
      },
      "execution_count": 27,
      "outputs": [
        {
          "output_type": "execute_result",
          "data": {
            "text/plain": [
              "<matplotlib.collections.PathCollection at 0x7d10bc283f20>"
            ]
          },
          "metadata": {},
          "execution_count": 27
        },
        {
          "output_type": "display_data",
          "data": {
            "text/plain": [
              "<Figure size 600x400 with 1 Axes>"
            ],
            "image/png": "[encoded data removed]"
          },
          "metadata": {}
        }
      ]
    },
    {
      "cell_type": "markdown",
      "source": [
        "#We want to manually select the datapoints from the X matrix corresponding to the estimated cluster labels. To do this, we use a \"boolean\" mask array. It is an array made up of boolean True/False elements that allows us to pick out the elements from the full data matrix we are interested in¶"
      ],
      "metadata": {
        "id": "tRakDaCdGkqI"
      }
    },
    {
      "cell_type": "code",
      "source": [
        "# Here is an example cluster labels for the \"first\" cluster\n",
        "estimated_cluster_labels==0"
      ],
      "metadata": {
        "id": "y3xfRMLgGqia",
        "outputId": "d9a657be-9edb-4ed6-a18d-4665e20a423d",
        "colab": {
          "base_uri": "https://localhost:8080/"
        }
      },
      "execution_count": 28,
      "outputs": [
        {
          "output_type": "execute_result",
          "data": {
            "text/plain": [
              "array([ True,  True, False, False, False,  True, False, False,  True,\n",
              "       False,  True,  True, False, False, False, False,  True, False,\n",
              "       False, False,  True, False, False,  True, False, False,  True,\n",
              "       False, False, False,  True,  True, False, False, False, False,\n",
              "       False, False, False,  True, False, False, False,  True,  True,\n",
              "       False,  True, False, False,  True, False,  True, False, False,\n",
              "       False,  True, False, False,  True,  True, False,  True, False,\n",
              "       False, False, False, False, False, False, False, False,  True,\n",
              "        True,  True, False])"
            ]
          },
          "metadata": {},
          "execution_count": 28
        }
      ]
    },
    {
      "cell_type": "code",
      "source": [
        "# We do not need to manually set the \"figure\" canvas, but we do if we want a custom figure size\n",
        "plt.figure(figsize=(8,6))\n",
        "plt.title(\"Estimated Cluster Memberships with $k=3$\", fontsize=20)\n",
        "plt.xlabel(\"$x_1$\", fontsize=20)\n",
        "plt.ylabel(\"$x_2$\", fontsize=20)\n",
        "\n",
        "# Let's iterate over the number of clusters (3 from the plot above)\n",
        "for i in range(3):\n",
        "    # Here is our color if-else statements\n",
        "    if i == 1:\n",
        "        color = 'r'\n",
        "    elif i == 2:\n",
        "        color = 'b'\n",
        "    else:\n",
        "        color = 'g'\n",
        "    plt.scatter(X[estimated_cluster_labels==i, 0], X[estimated_cluster_labels==i, 1], c=color)\n",
        ""
      ],
      "metadata": {
        "id": "sAgOxDz5GwJT",
        "outputId": "bd6a8a35-e146-4acc-8e7f-3acda7762ce4",
        "colab": {
          "base_uri": "https://localhost:8080/",
          "height": 588
        }
      },
      "execution_count": 29,
      "outputs": [
        {
          "output_type": "display_data",
          "data": {
            "text/plain": [
              "<Figure size 800x600 with 1 Axes>"
            ],
            "image/png": "[encoded data removed]"
          },
          "metadata": {}
        }
      ]
    }
  ]
}