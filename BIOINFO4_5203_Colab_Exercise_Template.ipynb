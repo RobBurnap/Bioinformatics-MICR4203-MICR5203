{
 "cell_type": "code",
 "execution_count": null,
 "metadata": {},
 "outputs": [],
 "source": [
  "# --- Auto Setup for Students ---\n",
  "# Install required packages\n",
  "!pip install -q biopython matplotlib seaborn\n",
  "\n",
  "# Mount Google Drive for datasets & outputs\n",
  "from google.colab import drive\n",
  "drive.mount('/content/drive')\n",
  "\n",
  "print(\"✅ Setup complete! Your Google Drive is mounted at /content/drive\")\n"
 ]
}
{
 "cells": [
  {
   "cell_type": "markdown",
   "id": "15f8550e",
   "metadata": {},
   "source": [
    "\n",
    "# BIOINFO4/5203 — Colab Exercise Template\n",
    "\n",
    "**Use this template for every weekly exercise.** It standardizes setup, data paths, and the final summary so grading in Canvas is quick.\n",
    "\n",
    "**Workflow**\n",
    "1. Click the \"Open in Colab\" link in Canvas (points to this notebook in GitHub).\n",
    "2. Run **Setup** cells (installs and mounts Google Drive).\n",
    "3. Run the **Exercise** cells (edit as instructed for each lecture).\n",
    "4. Verify the **Results Summary** prints the values requested by Canvas.\n",
    "5. **File → Print → Save as PDF** and upload **.ipynb + PDF** to Canvas.\n"
   ]
  },
  {
   "cell_type": "markdown",
   "id": "e99f409f",
   "metadata": {},
   "source": [
    "\n",
    "> **Instructor note (delete in student copy if desired):**  \n",
    "> - Place datasets for this lecture at: `Drive → BIOINFO4-5203-F25 → Data → Lxx_topic`  \n",
    "> - Update the constants in **Config** below: `COURSE_DIR`, `LECTURE_CODE` (e.g., `L05`), and `TOPIC`.\n",
    "> - For heavy jobs (trees, assemblies), provide the PETE output files in the same Data folder so students can analyze them here if the queue is busy.\n"
   ]
  },
  {
   "cell_type": "markdown",
   "id": "dd9457cd",
   "metadata": {},
   "source": [
    "## 0. Config — set your course folder and lecture info"
   ]
  },
  {
   "cell_type": "code",
   "execution_count": null,
   "id": "c69740dd",
   "metadata": {},
   "outputs": [],
   "source": [
    "\n",
    "# >>> UPDATE THESE FOR EACH LECTURE <<<\n",
    "COURSE_DIR = \"/content/drive/MyDrive/BIOINFO4-5203-F25\"  # your Google Drive course folder\n",
    "LECTURE_CODE = \"Lxx\"         # e.g., \"L01\", \"L05\", \"L21\"\n",
    "TOPIC = \"topic_slug\"         # e.g., \"intro\", \"seq_structure\", \"ppi_afmultimer\"\n",
    "\n",
    "# Auto-create subfolders if missing\n",
    "import os\n",
    "for sub in [\"Data\", \"Outputs\", \"Notebooks\", \"Scripts\"]:\n",
    "    os.makedirs(f\"{COURSE_DIR}/{sub}\", exist_ok=True)\n",
    "\n",
    "print(\"Configured:\", COURSE_DIR, LECTURE_CODE, TOPIC)\n"
   ]
  },
  {
   "cell_type": "markdown",
   "id": "9f9d7a1a",
   "metadata": {},
   "source": [
    "## 1. Setup — install tools and mount Google Drive"
   ]
  },
  {
   "cell_type": "code",
   "execution_count": null,
   "id": "582cdbec",
   "metadata": {},
   "outputs": [],
   "source": [
    "\n",
    "# (A) Python tools — quiet installs to keep logs short\n",
    "!pip -q install biopython pandas matplotlib py3Dmol pymol-open-source\n",
    "\n",
    "# (B) Command-line tools for small demos\n",
    "!apt-get -qq update\n",
    "!apt-get -qq install ncbi-blast+ hmmer clustalo\n",
    "\n",
    "# (C) Mount Google Drive\n",
    "from google.colab import drive\n",
    "drive.mount('/content/drive', force_remount=True)\n",
    "\n",
    "print(\"Setup complete.\")\n"
   ]
  },
  {
   "cell_type": "markdown",
   "id": "b348baf5",
   "metadata": {},
   "source": [
    "## 2. Utilities — helpers for I/O and grading summary"
   ]
  },
  {
   "cell_type": "code",
   "execution_count": null,
   "id": "19cce0a6",
   "metadata": {},
   "outputs": [],
   "source": [
    "\n",
    "import json, time, pandas as pd, os\n",
    "\n",
    "def ensure_paths():\n",
    "    outdir = f\"{COURSE_DIR}/Outputs/{LECTURE_CODE}_{TOPIC}\"\n",
    "    os.makedirs(outdir, exist_ok=True)\n",
    "    return outdir\n",
    "\n",
    "def save_table(df: pd.DataFrame, name: str):\n",
    "    outdir = ensure_paths()\n",
    "    path = f\"{outdir}/{name}\"\n",
    "    df.to_csv(path, index=False)\n",
    "    print(\"Saved:\", path)\n",
    "\n",
    "def save_text(text: str, name: str):\n",
    "    outdir = ensure_paths()\n",
    "    path = f\"{outdir}/{name}\"\n",
    "    with open(path, \"w\") as f:\n",
    "        f.write(text)\n",
    "    print(\"Saved:\", path)\n",
    "\n",
    "def save_image_from_pymol(png_name=\"figure.png\", width=1600, height=1200, dpi=300):\n",
    "    from pymol import cmd\n",
    "    cmd.set(\"ray_opaque_background\", 0)\n",
    "    cmd.ray(width, height)\n",
    "    outdir = ensure_paths()\n",
    "    path = f\"{outdir}/{png_name}\"\n",
    "    cmd.png(path, dpi=dpi)\n",
    "    print(\"Saved:\", path)\n"
   ]
  },
  {
   "cell_type": "markdown",
   "id": "40e7fc9c",
   "metadata": {},
   "source": [
    "\n",
    "## 3. Student Instructions\n",
    "\n",
    "- Verify **Config** above has the correct course folder and the **LECTURE_CODE** (e.g., `L05`).  \n",
    "- The dataset for today is in:  \n",
    "  `Drive → BIOINFO4-5203-F25 → Data → {LECTURE_CODE}_{TOPIC}`  \n",
    "- Follow the exercise steps **below**.  \n",
    "- When you reach **Results Summary**, make sure the printed values match the fields on Canvas (auto-graded).  \n",
    "- Export: `File → Print → Save as PDF`, then submit **both the .ipynb and the PDF** to Canvas.\n"
   ]
  },
  {
   "cell_type": "markdown",
   "id": "e30b45ae",
   "metadata": {},
   "source": [
    "\n",
    "### 3A. Example: FASTA parsing (edit per lecture)\n",
    "*If your lecture requires a different task (e.g., BLAST parsing, plotting), replace this block with those steps.*\n"
   ]
  },
  {
   "cell_type": "code",
   "execution_count": null,
   "id": "33bfb498",
   "metadata": {},
   "outputs": [],
   "source": [
    "\n",
    "from Bio import SeqIO\n",
    "import pandas as pd, os\n",
    "\n",
    "DATA_DIR = f\"{COURSE_DIR}/Data/{LECTURE_CODE}_{TOPIC}\"\n",
    "print(\"Looking for data in:\", DATA_DIR)\n",
    "assert os.path.exists(DATA_DIR), \"Data folder not found — check Config and Drive path.\"\n",
    "\n",
    "# Example: read a small FASTA placed in the Data folder\n",
    "fasta_path = None\n",
    "for fname in os.listdir(DATA_DIR):\n",
    "    if fname.lower().endswith((\".fa\", \".fasta\", \".faa\")):\n",
    "        fasta_path = f\"{DATA_DIR}/{fname}\"\n",
    "        break\n",
    "assert fasta_path, \"No FASTA file found in data folder. Please add one.\"\n",
    "\n",
    "records = list(SeqIO.parse(fasta_path, \"fasta\"))\n",
    "lengths = [len(r.seq) for r in records]\n",
    "df = pd.DataFrame({\"id\":[r.id for r in records], \"length\":lengths})\n",
    "display(df.head())\n",
    "save_table(df, \"seq_lengths.csv\")\n",
    "print(\"N_records =\", len(records))\n"
   ]
  },
  {
   "cell_type": "markdown",
   "id": "ed3512df",
   "metadata": {},
   "source": [
    "\n",
    "### 3B. Example: PyMOL headless rendering (edit per lecture)\n",
    "*Optional demo — load a structure and save a PNG. Replace PDB ID or load a `.pdb` from Data.*\n"
   ]
  },
  {
   "cell_type": "code",
   "execution_count": null,
   "id": "44b2fcea",
   "metadata": {},
   "outputs": [],
   "source": [
    "\n",
    "from pymol import cmd\n",
    "\n",
    "cmd.reinitialize()\n",
    "try:\n",
    "    # Option 1: fetch a known PDB ID for demo\n",
    "    cmd.fetch(\"1CRN\")  # replace or comment out to load a local model\n",
    "except Exception as e:\n",
    "    print(\"Fetch failed (offline?). Trying local file if present...\")\n",
    "    # Option 2: load a local PDB placed in the Data folder\n",
    "    local_pdb = None\n",
    "    for fname in os.listdir(DATA_DIR):\n",
    "        if fname.lower().endswith(\".pdb\"):\n",
    "            local_pdb = f\"{DATA_DIR}/{fname}\"\n",
    "            break\n",
    "    assert local_pdb, \"No local PDB file found in data folder.\"\n",
    "    cmd.load(local_pdb)\n",
    "\n",
    "cmd.show(\"cartoon\")\n",
    "cmd.color(\"cyan\")\n",
    "save_image_from_pymol(\"pymol_demo.png\")\n"
   ]
  },
  {
   "cell_type": "markdown",
   "id": "3a595bc2",
   "metadata": {},
   "source": [
    "\n",
    "## 4. HPC (PETE) — if today involves heavy jobs\n",
    "If this lecture requires long-running analyses (e.g., IQ-TREE, SPAdes), use the provided shell script on PETE.  \n",
    "After it finishes, download the small output files (e.g., `.treefile`, `contigs.fasta`) into your Drive:  \n",
    "`BIOINFO4-5203-F25 → Data → {LECTURE_CODE}_{TOPIC}` and re-run the analysis cells here.\n",
    "\n",
    "**Example SLURM script (IQ-TREE):**\n",
    "```bash\n",
    "#!/bin/bash\n",
    "#SBATCH -J iqtree_job\n",
    "#SBATCH -p standard\n",
    "#SBATCH -N 1 -n 4\n",
    "#SBATCH -t 04:00:00\n",
    "module load iqtree/2\n",
    "iqtree2 -s aln.fasta -m MFP -bb 1000 -nt AUTO\n",
    "```\n"
   ]
  },
  {
   "cell_type": "markdown",
   "id": "e5e41ec4",
   "metadata": {},
   "source": [
    "\n",
    "## 5. Results Summary (for Canvas auto-grading)\n",
    "This cell must print the key numbers Canvas asks for (e.g., `N_records`, `%ID`, `N50`, `ipTM`).  \n",
    "**Do not change the print labels** — Canvas will match on them.\n"
   ]
  },
  {
   "cell_type": "code",
   "execution_count": null,
   "id": "1b6ebacf",
   "metadata": {},
   "outputs": [],
   "source": [
    "\n",
    "# Example summary — update the lines/variables for each lecture\n",
    "N_records = len(records) if 'records' in globals() else -1\n",
    "\n",
    "summary = {\n",
    "    \"LECTURE\": LECTURE_CODE,\n",
    "    \"TOPIC\": TOPIC,\n",
    "    \"N_records\": int(N_records)\n",
    "}\n",
    "print(\"=== BIOINFO4/5203 SUMMARY ===\")\n",
    "for k, v in summary.items():\n",
    "    print(f\"{k}={v}\")\n",
    "save_text(\"\\n\".join([f\"{k}={v}\" for k,v in summary.items()]), \"summary.txt\")\n"
   ]
  },
  {
   "cell_type": "markdown",
   "id": "1623619c",
   "metadata": {},
   "source": [
    "\n",
    "## 6. Export & Submit\n",
    "1. **File → Print → Save as PDF** (include all output).  \n",
    "2. Download the **.ipynb** (File → Download).  \n",
    "3. Upload **both files** to Canvas.  \n",
    "4. If the Canvas quiz asks for values (e.g., `N_records`), copy them exactly as printed above.\n"
   ]
  }
 ],
 "metadata": {},
 "nbformat": 4,
 "nbformat_minor": 5
}
