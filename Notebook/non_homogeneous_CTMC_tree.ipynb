{
  "cells": [
    {
      "cell_type": "markdown",
      "metadata": {
        "id": "view-in-github",
        "colab_type": "text"
      },
      "source": [
        "<a href=\"https://colab.research.google.com/github/RobBurnap/Bioinformatics-MICR4203-MICR5203/blob/main/Notebook/non_homogeneous_CTMC_tree.ipynb\" target=\"_parent\"><img src=\"https://colab.research.google.com/assets/colab-badge.svg\" alt=\"Open In Colab\"/></a>"
      ]
    },
    {
      "cell_type": "markdown",
      "id": "0729b3d9",
      "metadata": {
        "id": "0729b3d9"
      },
      "source": [
        "\n",
        "# Non-Homogeneous CTMC on a Bifurcating Tree (ACGT)\n",
        "\n",
        "This notebook builds a **toy phylogenetic example** where **different branches use different substitution models** (non-homogeneous across the tree).  \n",
        "We will:\n",
        "\n",
        "1. Define two HKY-like **rate matrices** $Q^{(1)}$ and $Q^{(2)}$ for A,C,G,T (different base frequencies and transition/transversion bias).\n",
        "2. Build a small **binary tree** (bifurcating) with **branch-specific** $Q$ and branch lengths $t$.\n",
        "3. Compute **transition probabilities** $P_b = e^{Q_b t_b}$ **per branch**.\n",
        "4. Show the **graphical tree**, **Q/P tables**, and compute a **single-site likelihood** via **Felsenstein's pruning** using **branch-specific** $P_b$.\n",
        "5. Provide clear formulas and code cells you can tweak for an exercise.\n"
      ]
    },
    {
      "cell_type": "code",
      "execution_count": 1,
      "id": "3c72c1bf",
      "metadata": {
        "id": "3c72c1bf"
      },
      "outputs": [],
      "source": [
        "\n",
        "import numpy as np\n",
        "import pandas as pd\n",
        "import matplotlib.pyplot as plt\n",
        "from scipy.linalg import expm\n",
        "\n",
        "states = [\"A\",\"C\",\"G\",\"T\"]\n",
        "idx = {s:i for i,s in enumerate(states)}\n",
        "\n",
        "def hky_Q(pi, kappa):\n",
        "    pi = np.asarray(pi, dtype=float)\n",
        "    pi = pi / pi.sum()\n",
        "    R = np.ones((4,4), dtype=float)\n",
        "    transitions = [(idx[\"A\"], idx[\"G\"]), (idx[\"G\"], idx[\"A\"]), (idx[\"C\"], idx[\"T\"]), (idx[\"T\"], idx[\"C\"])]\n",
        "    for i,j in transitions:\n",
        "        R[i,j] = kappa\n",
        "    np.fill_diagonal(R, 0.0)\n",
        "    Q = R * pi[np.newaxis,:]\n",
        "    np.fill_diagonal(Q, 0.0)\n",
        "    np.fill_diagonal(Q, -Q.sum(axis=1))\n",
        "    rate = np.sum(pi * (-np.diag(Q)))\n",
        "    Q /= rate\n",
        "    return Q, pi\n",
        "\n",
        "def df_mat(M, title=None, r=6):\n",
        "    import pandas as pd\n",
        "    df = pd.DataFrame(np.round(M, r), index=states, columns=states)\n",
        "    if title:\n",
        "        print(title)\n",
        "    display(df)\n",
        "    return df\n",
        "\n",
        "def draw_tree(branches):\n",
        "    xy = {\n",
        "        \"R\": (0.0, 0.5),\n",
        "        \"X\": (0.5, 0.75),\n",
        "        \"Y\": (0.5, 0.25),\n",
        "        \"A\": (1.0, 0.9),\n",
        "        \"B\": (1.0, 0.6),\n",
        "        \"C\": (1.0, 0.4),\n",
        "        \"D\": (1.0, 0.1),\n",
        "    }\n",
        "    plt.figure(figsize=(7,3.5))\n",
        "    for (u,v,t,label) in branches:\n",
        "        x1,y1 = xy[u]; x2,y2 = xy[v]\n",
        "        plt.plot([x1,x2],[y1,y2])\n",
        "        midx, midy = (x1+x2)/2, (y1+y2)/2\n",
        "        plt.text(midx, midy+0.03, f\"t={t}\", ha=\"center\", va=\"bottom\")\n",
        "        plt.text(midx, midy-0.05, f\"{label}\", ha=\"center\", va=\"top\")\n",
        "    for n,(x,y) in xy.items():\n",
        "        plt.scatter([x],[y])\n",
        "        plt.text(x, y+0.04, n, ha=\"center\")\n",
        "    plt.axis(\"off\")\n",
        "    plt.title(\"Binary tree with branch-specific models\")\n",
        "    plt.show()\n",
        "\n",
        "def branch_transition(Q, t):\n",
        "    return expm(Q * t)\n"
      ]
    },
    {
      "cell_type": "markdown",
      "id": "847fe52e",
      "metadata": {
        "id": "847fe52e"
      },
      "source": [
        "\n",
        "## Models and Tree\n",
        "- **Model 1**: $\\pi^{(1)} = [0.30, 0.20, 0.20, 0.30]$, $\\kappa^{(1)} = 4.0$  \n",
        "- **Model 2**: $\\pi^{(2)} = [0.25, 0.25, 0.30, 0.20]$, $\\kappa^{(2)} = 1.2$\n",
        "\n",
        "Tree (rooted at R):\n",
        "\n",
        "- R → X (Model 1, $t=0.4$)  \n",
        "- R → Y (Model 2, $t=0.6$)  \n",
        "- X → A (Model 1, $t=0.3$)  \n",
        "- X → B (Model 2, $t=0.2$)  \n",
        "- Y → C (Model 1, $t=0.5$)  \n",
        "- Y → D (Model 2, $t=0.1$)\n"
      ]
    },
    {
      "cell_type": "code",
      "execution_count": null,
      "id": "a36b5f23",
      "metadata": {
        "id": "a36b5f23"
      },
      "outputs": [],
      "source": [
        "\n",
        "Q1, pi1 = hky_Q([0.30, 0.20, 0.20, 0.30], kappa=4.0)\n",
        "Q2, pi2 = hky_Q([0.25, 0.25, 0.30, 0.20], kappa=1.2)\n",
        "\n",
        "print(\"Model 1: pi=\", np.round(pi1,4), \"kappa=4.0 (E[rate]=1)\")\n",
        "df_mat(Q1, \"Q^(1) (rows sum to 0)\")\n",
        "\n",
        "print(\"\\nModel 2: pi=\", np.round(pi2,4), \"kappa=1.2 (E[rate]=1)\")\n",
        "df_mat(Q2, \"Q^(2) (rows sum to 0)\")\n"
      ]
    },
    {
      "cell_type": "code",
      "execution_count": null,
      "id": "d82b9d3a",
      "metadata": {
        "id": "d82b9d3a"
      },
      "outputs": [],
      "source": [
        "\n",
        "branches = [\n",
        "    (\"R\",\"X\",0.4,\"Model 1\"),\n",
        "    (\"R\",\"Y\",0.6,\"Model 2\"),\n",
        "    (\"X\",\"A\",0.3,\"Model 1\"),\n",
        "    (\"X\",\"B\",0.2,\"Model 2\"),\n",
        "    (\"Y\",\"C\",0.5,\"Model 1\"),\n",
        "    (\"Y\",\"D\",0.1,\"Model 2\"),\n",
        "]\n",
        "draw_tree(branches)\n"
      ]
    },
    {
      "cell_type": "markdown",
      "id": "c1b2b3e4",
      "metadata": {
        "id": "c1b2b3e4"
      },
      "source": [
        "\n",
        "## Per-Branch Transition Probabilities\n",
        "For each branch $b$ with model $Q_b$ and length $t_b$,\n",
        "$$\n",
        "P_b = e^{Q_b t_b}\n",
        "$$\n"
      ]
    },
    {
      "cell_type": "code",
      "execution_count": null,
      "id": "770e8862",
      "metadata": {
        "id": "770e8862"
      },
      "outputs": [],
      "source": [
        "\n",
        "def get_P(label, t):\n",
        "    return expm((Q1 if label==\"Model 1\" else Q2) * t)\n",
        "\n",
        "Ps = {}\n",
        "for (u,v,t,label) in branches:\n",
        "    P = get_P(label, t)\n",
        "    Ps[(u,v)] = P\n",
        "    df_mat(P, f\"P({u}→{v}) for {label} with t={t}\")\n",
        "    print(\"Row sums:\", np.round(P.sum(axis=1), 6), \"\\n\")\n"
      ]
    },
    {
      "cell_type": "markdown",
      "id": "c3caa7cd",
      "metadata": {
        "id": "c3caa7cd"
      },
      "source": [
        "\n",
        "## Single-Site Likelihood (Branch-Specific Pruning)\n",
        "Observed **tip states**:\n",
        "- A: A, B: G, C: C, D: T\n",
        "\n",
        "We compute leaf likelihoods, then propagate up the tree using the appropriate\n",
        "branch transition matrices, and finally average over root states.\n"
      ]
    },
    {
      "cell_type": "code",
      "execution_count": null,
      "id": "3626843e",
      "metadata": {
        "id": "3626843e"
      },
      "outputs": [],
      "source": [
        "\n",
        "obs = {\"A\":\"A\", \"B\":\"G\", \"C\":\"C\", \"D\":\"T\"}\n",
        "\n",
        "def leaf_L(node):\n",
        "    vec = np.zeros(4); vec[idx[obs[node]]] = 1.0\n",
        "    return vec\n",
        "\n",
        "LA, LB, LC, LD = leaf_L(\"A\"), leaf_L(\"B\"), leaf_L(\"C\"), leaf_L(\"D\")\n",
        "\n",
        "P_XA, P_XB = Ps[(\"X\",\"A\")], Ps[(\"X\",\"B\")]\n",
        "P_YC, P_YD = Ps[(\"Y\",\"C\")], Ps[(\"Y\",\"D\")]\n",
        "P_RX, P_RY = Ps[(\"R\",\"X\")], Ps[(\"R\",\"Y\")]\n",
        "\n",
        "def push_child(L_child, P_parent_to_child):\n",
        "    return P_parent_to_child @ L_child\n",
        "\n",
        "L_X = push_child(LA, P_XA) * push_child(LB, P_XB)\n",
        "L_Y = push_child(LC, P_YC) * push_child(LD, P_YD)\n",
        "L_R = (P_RX @ L_X) * (P_RY @ L_Y)\n",
        "\n",
        "pi_root = pi1  # choose Model 1's equilibrium as the root prior\n",
        "site_like = float(pi_root @ L_R)\n",
        "\n",
        "print(\"L_X(k):\", np.round(L_X, 6))\n",
        "print(\"L_Y(k):\", np.round(L_Y, 6))\n",
        "print(\"L_R(k):\", np.round(L_R, 6))\n",
        "print(\"Root prior pi:\", np.round(pi_root, 4))\n",
        "print(\"Single-site likelihood:\", site_like)\n"
      ]
    },
    {
      "cell_type": "markdown",
      "id": "fcfaa119",
      "metadata": {
        "id": "fcfaa119"
      },
      "source": [
        "\n",
        "## Exercises\n",
        "- Change branch lengths and re-run.\n",
        "- Swap which branches use Model 1 vs. Model 2.\n",
        "- Change the tip observations or the root prior $\\pi$.\n",
        "- Set all branches to **Model 1** (homogeneous) and compare the likelihood.\n"
      ]
    }
  ],
  "metadata": {
    "colab": {
      "provenance": [],
      "include_colab_link": true
    },
    "language_info": {
      "name": "python"
    },
    "kernelspec": {
      "name": "python3",
      "display_name": "Python 3"
    }
  },
  "nbformat": 4,
  "nbformat_minor": 5
}